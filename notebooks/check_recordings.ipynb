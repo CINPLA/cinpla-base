{
 "cells": [
  {
   "cell_type": "code",
   "execution_count": 4,
   "metadata": {},
   "outputs": [],
   "source": [
    "import spikeextractors as se\n",
    "import spiketoolkit as st\n",
    "import numpy as np\n",
    "import matplotlib.pylab as plt\n",
    "import exdir\n",
    "import expipe\n",
    "import scipy.signal as ss\n",
    "import pyintan\n",
    "import sys\n",
    "sys.path.append('../ca2-mec')\n",
    "import data_processing as dp\n",
    "\n",
    "%matplotlib notebook\n",
    "\n",
    "def find_fmax_noise(recording_hp, start_frame=0, end_frame=300000, start_freq=2000, end_freq=4000):\n",
    "    import scipy.signal as ss\n",
    "    filt_traces = recording_hp.get_traces(start_frame=start_frame, end_frame=end_frame)\n",
    "    f, p = ss.welch(filt_traces, recording_hp.get_sampling_frequency())\n",
    "    idxs = np.where((f > start_freq) & (f < end_freq))\n",
    "\n",
    "    max_freq = f[idxs][np.squeeze(p[:, idxs]).mean(axis=0).argmax()]\n",
    "    return max_freq"
   ]
  },
  {
   "cell_type": "code",
   "execution_count": 11,
   "metadata": {},
   "outputs": [
    {
     "ename": "SyntaxError",
     "evalue": "unexpected character after line continuation character (<ipython-input-11-e9c16b41181f>, line 1)",
     "output_type": "error",
     "traceback": [
      "\u001b[1;36m  File \u001b[1;32m\"<ipython-input-11-e9c16b41181f>\"\u001b[1;36m, line \u001b[1;32m1\u001b[0m\n\u001b[1;33m    project_path = pushd \\projects\\ca2mec\u001b[0m\n\u001b[1;37m                                         ^\u001b[0m\n\u001b[1;31mSyntaxError\u001b[0m\u001b[1;31m:\u001b[0m unexpected character after line continuation character\n"
     ]
    }
   ],
   "source": [
    "project_path = dp.project_path()\n",
    "project = expipe.get_project(project_path)\n",
    "actions = project.actions"
   ]
  },
  {
   "cell_type": "code",
   "execution_count": 6,
   "metadata": {},
   "outputs": [
    {
     "ename": "NameError",
     "evalue": "name 'actions' is not defined",
     "output_type": "error",
     "traceback": [
      "\u001b[1;31m---------------------------------------------------------------------------\u001b[0m",
      "\u001b[1;31mNameError\u001b[0m                                 Traceback (most recent call last)",
      "\u001b[1;32m<ipython-input-6-d2379a17688b>\u001b[0m in \u001b[0;36m<module>\u001b[1;34m\u001b[0m\n\u001b[1;32m----> 1\u001b[1;33m \u001b[0mactions\u001b[0m\u001b[1;33m\u001b[0m\u001b[1;33m\u001b[0m\u001b[0m\n\u001b[0m",
      "\u001b[1;31mNameError\u001b[0m: name 'actions' is not defined"
     ]
    }
   ],
   "source": [
    "actions"
   ]
  },
  {
   "cell_type": "code",
   "execution_count": null,
   "metadata": {},
   "outputs": [],
   "source": [
    "action = actions['002-111220-1']"
   ]
  },
  {
   "cell_type": "code",
   "execution_count": null,
   "metadata": {},
   "outputs": [],
   "source": [
    "check_hp = False\n",
    "check_lfp = True"
   ]
  },
  {
   "cell_type": "code",
   "execution_count": null,
   "metadata": {},
   "outputs": [],
   "source": [
    "data_path = dp.get_data_path(action)"
   ]
  },
  {
   "cell_type": "code",
   "execution_count": null,
   "metadata": {},
   "outputs": [],
   "source": [
    "# check if openephys or intan\n",
    "exdir_file = exdir.File(str(data_path))\n",
    "acquisition = exdir_file['acquisition']"
   ]
  },
  {
   "cell_type": "code",
   "execution_count": null,
   "metadata": {},
   "outputs": [],
   "source": [
    "attrs = acquisition.attrs"
   ]
  },
  {
   "cell_type": "code",
   "execution_count": null,
   "metadata": {},
   "outputs": [],
   "source": [
    "if 'Intan' in attrs['acquisition_system']:\n",
    "    print('Intan recording')\n",
    "    prb_file = 'probes/tetrode_32_intan.prb'\n",
    "    intan = True\n",
    "    openephys = False\n",
    "    rhs_file = [x for x in acquisition[attrs['session']].directory.iterdir() if x.suffix == '.rhs'][0]\n",
    "    f = pyintan.File(str(rhs_file))\n",
    "    dig_intan = f.digital_in_events\n",
    "    recording = se.IntanRecordingExtractor(rhs_file)\n",
    "elif 'FPGA' in attrs['acquisition_system']:\n",
    "    print('Open Ephys Recording')\n",
    "    prb_file = 'probes/tetrode_32_openephys.prb'\n",
    "    openephys = True\n",
    "    intan = False\n",
    "    recording = se.OpenEphysRecordingExtractor(str(acquisition[attrs['session']].directory))"
   ]
  },
  {
   "cell_type": "code",
   "execution_count": null,
   "metadata": {},
   "outputs": [],
   "source": [
    "#recording = se.load_probe_file(recording, prb_file)\n",
    "#recording_f = st.preprocessing.bandpass_filter(recording, type='butter', order=5)\n",
    "#recording_cmr = st.preprocessing.common_reference(recording_f, reference='median', groups=[list(range(16)), list(range(16,32))])\n",
    "\n",
    "#if intan:\n",
    "#    notch = find_fmax_noise(recording_cmr)\n",
    "#    recording_cmr = st.preprocessing.notch_filter(recording_cmr, notch, q=100)\n",
    "#    if len(dig_intan) > 1:\n",
    "#        print(dig_intan[1].times)\n",
    "#        stim_triggers = [int(d) for d in dig_intan[1].times.magnitude[::2] * recording.get_sampling_frequency()]\n",
    "#        recording_rm = st.preprocessing.remove_artifacts(recording_cmr, np.array(stim_triggers), ms_before=5, ms_after=5)\n",
    "#    else:\n",
    "#        recording_rm = recording_cmr\n",
    "#else:\n",
    "#    recording_rm = recording_cmr"
   ]
  },
  {
   "cell_type": "code",
   "execution_count": null,
   "metadata": {},
   "outputs": [],
   "source": [
    "fs = 30000\n",
    "fs_lfp = 1000\n",
    "start_time = 100\n",
    "end_time = 150"
   ]
  },
  {
   "cell_type": "code",
   "execution_count": null,
   "metadata": {},
   "outputs": [],
   "source": [
    "# choose tetrode\n",
    "tetrode = 4\n",
    "channel_ids = tetrode*4 + np.arange(4)\n",
    "print(channel_ids)"
   ]
  },
  {
   "cell_type": "code",
   "execution_count": null,
   "metadata": {},
   "outputs": [],
   "source": [
    "if check_hp:\n",
    "    traces = recording_rm.get_traces(start_frame=start_time*fs, end_frame=end_time*fs)\n",
    "    traces_f = recording_f.get_traces(start_frame=start_time*fs, end_frame=end_time*fs)\n",
    "    timestamps = np.arange(traces.shape[1])/recording.get_sampling_frequency() + start_time\n",
    "    print(traces.shape, timestamps.shape)"
   ]
  },
  {
   "cell_type": "code",
   "execution_count": null,
   "metadata": {},
   "outputs": [],
   "source": [
    "if check_hp:\n",
    "    plt.figure()\n",
    "    colors = plt.rcParams['axes.prop_cycle'].by_key()['color']\n",
    "    for i, ch in enumerate(channel_ids):\n",
    "        plt.plot(timestamps, traces[ch] + 600*i, lw=0.5, color=colors[i])\n",
    "        plt.plot(timestamps, traces_f[ch] + 600*i, lw=0.5, color=colors[i], alpha=0.3)\n",
    "        if intan:\n",
    "            [plt.axvline(d, lw=0.3, alpha=0.2) for d in dig_intan[1].times[::2]]"
   ]
  },
  {
   "cell_type": "code",
   "execution_count": null,
   "metadata": {},
   "outputs": [],
   "source": [
    "# compute lfp and psd\n",
    "recording_lfp = st.preprocessing.bandpass_filter(\n",
    "            recording, freq_min=1, freq_max=300)\n",
    "recording_lfp = st.preprocessing.resample(\n",
    "    recording_lfp, 1000)\n",
    "fs_lfp = 1000\n"
   ]
  },
  {
   "cell_type": "code",
   "execution_count": null,
   "metadata": {},
   "outputs": [],
   "source": []
  },
  {
   "cell_type": "code",
   "execution_count": null,
   "metadata": {},
   "outputs": [],
   "source": [
    "if check_lfp:\n",
    "    traces_lfp = recording_lfp.get_traces(start_frame=start_time*fs_lfp, end_frame=end_time*fs_lfp)\n",
    "    timestamps_lfp = np.arange(traces_lfp.shape[1])/recording_lfp.get_sampling_frequency() + start_time\n",
    "    f, p = ss.welch(traces_lfp, fs=fs_lfp, nperseg=2048)"
   ]
  },
  {
   "cell_type": "code",
   "execution_count": null,
   "metadata": {},
   "outputs": [],
   "source": [
    "if check_lfp:\n",
    "    plt.figure()\n",
    "    colors = plt.rcParams['axes.prop_cycle'].by_key()['color']\n",
    "    for i, ch in enumerate(channel_ids):\n",
    "        plt.plot(timestamps_lfp, traces_lfp[ch] + 600*i, lw=0.5, color=colors[i])"
   ]
  },
  {
   "cell_type": "code",
   "execution_count": null,
   "metadata": {
    "scrolled": false
   },
   "outputs": [],
   "source": [
    "if check_lfp:\n",
    "    plt.figure()\n",
    "    f_idx_100 = np.where(f < 100)\n",
    "    f_100 = f[f_idx_100]\n",
    "    p_100 = np.squeeze(p[:, f_idx_100])\n",
    "    _ = plt.semilogy(f_100, p_100[:7].T, 'r', alpha=0.5)\n",
    "    _ = plt.semilogy(f_100, p_100[6:15].T, 'b', alpha=0.5)\n",
    "\n"
   ]
  },
  {
   "cell_type": "code",
   "execution_count": null,
   "metadata": {},
   "outputs": [],
   "source": []
  },
  {
   "cell_type": "code",
   "execution_count": null,
   "metadata": {},
   "outputs": [],
   "source": []
  }
 ],
 "metadata": {
  "kernelspec": {
   "display_name": "Python 3",
   "language": "python",
   "name": "python3"
  },
  "language_info": {
   "codemirror_mode": {
    "name": "ipython",
    "version": 3
   },
   "file_extension": ".py",
   "mimetype": "text/x-python",
   "name": "python",
   "nbconvert_exporter": "python",
   "pygments_lexer": "ipython3",
   "version": "3.6.10"
  }
 },
 "nbformat": 4,
 "nbformat_minor": 2
}
