{
 "cells": [
  {
   "cell_type": "code",
   "execution_count": 1,
   "metadata": {},
   "outputs": [],
   "source": [
    "%load_ext autoreload\n",
    "%autoreload 2"
   ]
  },
  {
   "cell_type": "code",
   "execution_count": 2,
   "metadata": {},
   "outputs": [],
   "source": [
    "import matplotlib.pyplot as plt\n",
    "%matplotlib inline\n",
    "import spatial_maps as sp\n",
    "import head_direction as hd\n",
    "import expipe\n",
    "import exdir\n",
    "import os\n",
    "import sys\n",
    "import pathlib\n",
    "import numpy as np\n",
    "import numpy.ma as ma\n",
    "import scipy\n",
    "import tqdm\n",
    "\n",
    "sys.path.append('../ca2-mec') if '../ca2-mec' not in sys.path else None \n",
    "import data_processing as dp"
   ]
  },
  {
   "cell_type": "code",
   "execution_count": 3,
   "metadata": {},
   "outputs": [],
   "source": [
    "# change matplotlib default figsize and fonts\n",
    "plt.rcParams['figure.figsize'] = (16,9)\n",
    "plt.rcParams.update({\n",
    "    k: 'xx-large' for k in plt.rcParams \n",
    "    if (\n",
    "        k.endswith('labelsize') or\n",
    "        k.endswith('fontsize') or\n",
    "        k.endswith('titlesize')\n",
    "    )\n",
    "})"
   ]
  },
  {
   "cell_type": "code",
   "execution_count": 4,
   "metadata": {
    "scrolled": true,
    "tags": []
   },
   "outputs": [
    {
     "data": {
      "text/plain": [
       "['maria-002-050721-4',\n",
       " 'maria-001-280721-3',\n",
       " 'maria-002-050721-1',\n",
       " 'maria-137-230121-6',\n",
       " 'maria-137-230121-5',\n",
       " 'maria-002-050721-3',\n",
       " 'maria-001-280721-5',\n",
       " 'maria-001-280721-1',\n",
       " 'maria-001-280721-4',\n",
       " 'maria-137-230121-3',\n",
       " 'maria-137-230121-4',\n",
       " 'maria-001-280721-2',\n",
       " 'sarah-011-120321-2',\n",
       " 'maria-002-050721-2',\n",
       " 'maria-137-230121-2',\n",
       " 'maria-002-050721-5']"
      ]
     },
     "execution_count": 4,
     "metadata": {},
     "output_type": "execute_result"
    }
   ],
   "source": [
    "# get actions\n",
    "project_path = dp.project_path()\n",
    "project = expipe.get_project(project_path)\n",
    "actions = project.actions\n",
    "# actions\n",
    "list(actions.keys())"
   ]
  },
  {
   "cell_type": "markdown",
   "metadata": {},
   "source": [
    "### Initialise data loader"
   ]
  },
  {
   "cell_type": "code",
   "execution_count": 5,
   "metadata": {},
   "outputs": [],
   "source": [
    "# remove leading and trailing recording data\n",
    "t_start = 0\n",
    "t_stop = None # None => don't remove anything\n",
    "\n",
    "max_speed = 1 # m/s only used for speed score\n",
    "min_speed = 0.02 # m/s only used for speed score\n",
    "position_sampling_rate = 100 # for interpolation\n",
    "position_low_pass_frequency = 6 # for low pass filtering of position\n",
    "\n",
    "box_size = [1.0, 1.0]\n",
    "bin_size=0.02\n",
    "smoothing = 0.05\n",
    "\n",
    "data_loader = dp.Data(\n",
    "    position_sampling_rate=position_sampling_rate, \n",
    "    position_low_pass_frequency=position_low_pass_frequency,\n",
    "    box_size=box_size, bin_size=bin_size, stim_mask=False, baseline_duration=None,\n",
    ")"
   ]
  },
  {
   "cell_type": "markdown",
   "metadata": {},
   "source": [
    "### Load data (tracking and spikes)"
   ]
  },
  {
   "cell_type": "code",
   "execution_count": 6,
   "metadata": {},
   "outputs": [
    {
     "name": "stderr",
     "output_type": "stream",
     "text": [
      "100%|██████████| 16/16 [00:19<00:00,  1.21s/it]\n"
     ]
    }
   ],
   "source": [
    "# load all tracking data (dict)trial x (dict)track_quantities x (array)time\n",
    "tracking = [(action_id, data_loader.tracking(action_id)) for action_id in actions]\n",
    "tracking = {action_id:track for action_id, track in tracking}\n",
    "\n",
    "# load all spikes data (dict)trial x (dict)unit_id x spike_train\n",
    "spikes = {}\n",
    "for action_id in tqdm.tqdm(actions):\n",
    "    spikes[action_id] = {}\n",
    "    channel_grps = dp.get_channel_groups(data_loader.data_path(action_id))\n",
    "    for channel_grp in channel_grps:\n",
    "        # load units and \"flatten\" channel_grps dimension. - assuming units are unique OR duplicates across channels\n",
    "        spikes[action_id].update(data_loader.spike_trains(action_id, channel_grp))"
   ]
  },
  {
   "cell_type": "markdown",
   "metadata": {},
   "source": [
    "### Create rate maps from first and second half of trials"
   ]
  },
  {
   "cell_type": "code",
   "execution_count": 7,
   "metadata": {},
   "outputs": [
    {
     "name": "stderr",
     "output_type": "stream",
     "text": [
      "100%|██████████| 16/16 [00:08<00:00,  1.82it/s]\n"
     ]
    }
   ],
   "source": [
    "# create ratemaps from first and second half of trial\n",
    "def partial_ratemap(*args, **kwargs):\n",
    "    # not a general function - uses global vars etc\n",
    "    (x,y),t,spike_times = dp.data_scope(*args, **kwargs)\n",
    "    spatial_map = sp.SpatialMap(x,y,t,spike_times, box_size=box_size, bin_size=bin_size) # global vars\n",
    "    ratemap = spatial_map.rate_map(smoothing=smoothing, mask_zero_occupancy=True) # global vars\n",
    "    ratemap = np.rot90(ratemap)\n",
    "    return ratemap\n",
    "\n",
    "ratemaps = {}\n",
    "for action_id in tqdm.tqdm(actions):\n",
    "    ratemaps[action_id] = {}\n",
    "    x,y,t,_ = tracking[action_id].values()\n",
    "    for unit_id in spikes[action_id]:\n",
    "        spike_times = spikes[action_id][unit_id]\n",
    "        ratemaps[action_id][unit_id] = [partial_ratemap([x,y], t, spike_times, scope=np.array([0.0, 0.5])), \\\n",
    "                    partial_ratemap([x,y], t, spike_times, scope=np.array([0.5, 1.0]))]"
   ]
  },
  {
   "cell_type": "markdown",
   "metadata": {},
   "source": [
    "### (Stability) Correlate 50/50 trail-split rate maps"
   ]
  },
  {
   "cell_type": "code",
   "execution_count": 8,
   "metadata": {},
   "outputs": [],
   "source": [
    "def nancorrcoef(X, Y):\n",
    "    \"\"\"\n",
    "    Correlate X, Y (2D arrays) while ignoring nans\n",
    "    \"\"\"\n",
    "    X = ma.masked_array(X, mask=np.isnan(X))\n",
    "    Y = ma.masked_array(Y, mask=np.isnan(Y))\n",
    "    return ma.corrcoef(X.flatten(), Y.flatten())[0, 1]\n",
    "\n",
    "stability = {}\n",
    "for action_id in actions:\n",
    "    stability[action_id] = {}\n",
    "    for unit_id in spikes[action_id]:\n",
    "        stability[action_id][unit_id] = nancorrcoef(*ratemaps[action_id][unit_id])"
   ]
  },
  {
   "cell_type": "markdown",
   "metadata": {},
   "source": [
    "### Group units into trials"
   ]
  },
  {
   "cell_type": "code",
   "execution_count": 9,
   "metadata": {},
   "outputs": [],
   "source": [
    "trial_correlations = {}\n",
    "for action_id in actions:\n",
    "    trial_id = int(action_id[-1])\n",
    "    if not trial_id in trial_correlations.keys():\n",
    "        trial_correlations[trial_id] = []\n",
    "    if 'maria' in action_id:\n",
    "        trial_correlations[trial_id] += list(stability[action_id].values())\n",
    "\n",
    "# sort dictionary on trial keys\n",
    "trial_correlations = {key: value for key, value in sorted(trial_correlations.items(), key=lambda item: item[0])}"
   ]
  },
  {
   "cell_type": "markdown",
   "metadata": {},
   "source": [
    "### Plot (violin) and summarise statistics (Mann-U)"
   ]
  },
  {
   "cell_type": "code",
   "execution_count": 10,
   "metadata": {},
   "outputs": [
    {
     "name": "stdout",
     "output_type": "stream",
     "text": [
      "T1 vs T2: MannwhitneyuResult(statistic=1990.0, pvalue=0.05493657221404444)\n",
      "T1 vs T3: MannwhitneyuResult(statistic=2062.0, pvalue=0.03374047496162099)\n",
      "T1 vs T4: MannwhitneyuResult(statistic=1955.0, pvalue=0.41584432175598307)\n",
      "T1 vs T5: MannwhitneyuResult(statistic=2321.0, pvalue=0.010997372984844232)\n",
      "T1 vs T6: MannwhitneyuResult(statistic=164.0, pvalue=0.2572778748544092)\n"
     ]
    },
    {
     "data": {
      "image/png": "[encoded data removed]",
      "text/plain": [
       "<Figure size 1440x576 with 1 Axes>"
      ]
     },
     "metadata": {
      "needs_background": "light"
     },
     "output_type": "display_data"
    }
   ],
   "source": [
    "fig, ax = plt.subplots(figsize=(20,8))\n",
    "ax.violinplot(trial_correlations.values(), showmeans=True)\n",
    "\n",
    "# --- plot formatting ---\n",
    "# add trial labels to x-axes ticks\n",
    "labels = []\n",
    "for trial_id in trial_correlations:\n",
    "    labels.append('T' + str(trial_id))\n",
    "ax.set_xticks(np.arange(1, len(labels) + 1))\n",
    "ax.set_xticklabels(labels)\n",
    "\n",
    "# set axes and title labels\n",
    "ax.set_title('Spatial Stability')\n",
    "ax.set_ylabel('Pearsons Corrcoef')\n",
    "ax.set_xlabel('Trial ID')\n",
    "\n",
    "def plot_significance(pvalue, x = [0, 1], y=1.2, h=0.02):\n",
    "    # significance\n",
    "    if pvalue < 0.0001:\n",
    "        significance = \"****\"\n",
    "    elif pvalue < 0.001:\n",
    "        significance = \"***\"\n",
    "    elif pvalue < 0.01:\n",
    "        significance = \"**\"\n",
    "    elif pvalue < 0.05:\n",
    "        significance = \"*\"\n",
    "    else:\n",
    "        significance = \"ns\"\n",
    "\n",
    "    x1, x2 = x\n",
    "    plt.plot([x1, x1, x2, x2], [y - h, y, y, y - h], c='k')\n",
    "    plt.text((x1 + x2) / 2, y + h, significance, ha='center', va='bottom')\n",
    "\n",
    "# check sample similarities using mannwhytney (non-parametric) test\n",
    "for trial_id in range(2,7):\n",
    "    mw = scipy.stats.mannwhitneyu(trial_correlations[1], trial_correlations[trial_id], alternative='two-sided')\n",
    "    print(\"T1 vs T\" + str(trial_id) + \":\", mw)\n",
    "    plot_significance(mw.pvalue, [1,trial_id], y = 1.1 + (trial_id-2)*0.1)"
   ]
  },
  {
   "cell_type": "code",
   "execution_count": null,
   "metadata": {},
   "outputs": [],
   "source": []
  }
 ],
 "metadata": {
  "kernelspec": {
   "display_name": "Python [conda env:ca2mec]",
   "language": "python",
   "name": "conda-env-ca2mec-py"
  },
  "language_info": {
   "codemirror_mode": {
    "name": "ipython",
    "version": 3
   },
   "file_extension": ".py",
   "mimetype": "text/x-python",
   "name": "python",
   "nbconvert_exporter": "python",
   "pygments_lexer": "ipython3",
   "version": "3.6.13"
  }
 },
 "nbformat": 4,
 "nbformat_minor": 4
}
