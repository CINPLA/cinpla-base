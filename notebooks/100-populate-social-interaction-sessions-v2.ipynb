{
 "cells": [
  {
   "cell_type": "code",
   "execution_count": 1,
   "metadata": {},
   "outputs": [],
   "source": [
    "%load_ext autoreload\n",
    "%autoreload 2"
   ]
  },
  {
   "cell_type": "code",
   "execution_count": 2,
   "metadata": {},
   "outputs": [],
   "source": [
    "import expipe\n",
    "from expipe import Browser\n",
    "import pandas as pd\n",
    "import numpy as np\n",
    "import sys\n",
    "import exdir\n",
    "\n",
    "sys.path.append('../ca2-mec')\n",
    "import data_processing as dp"
   ]
  },
  {
   "cell_type": "code",
   "execution_count": 3,
   "metadata": {},
   "outputs": [],
   "source": [
    "project_path = dp.project_path()\n",
    "#project_path = '../../CA2prosjektmappe'\n",
    "project = expipe.get_project(project_path)\n",
    "actions = project.actions"
   ]
  },
  {
   "cell_type": "code",
   "execution_count": 4,
   "metadata": {},
   "outputs": [
    {
     "name": "stdout",
     "output_type": "stream",
     "text": [
      "5 5\n"
     ]
    }
   ],
   "source": [
    "dataframes = actions['dataframes']\n",
    "sessions = pd.read_csv(dataframes.data_path('sessions'))\n",
    "sessions.head()\n",
    "print(len(sessions), len(np.unique(sessions.action)))"
   ]
  },
  {
   "cell_type": "code",
   "execution_count": 5,
   "metadata": {},
   "outputs": [],
   "source": [
    "def process(data_loader: dp.Data, tr_x:float=0.8, tr_y:float=0.8, bl_x:float=0.2, bl_y:float=0.2,\n",
    "           m_y0:float=0.12,m_x0:float=0.12,m_y1:float=0.12,m_x1:float=0.12, t_start:float=0.0, t_stop:float=None):\n",
    "    \"\"\"\n",
    "    Args:\n",
    "        tl_xr: range of x-values [0,tl_xr] to search for the border of the top left transparent box.\n",
    "        tl_yr: range of y-values [tl_yr,1] to search for the border of the top left transparent box.\n",
    "        tl_xr: range of x-values [br_xr,1] to search for the border of the bottom right transparent box.\n",
    "        br_yr: range of y-values [0,br_yr] to search for the border of the bottom right transparent box.\n",
    "        m_y0: top left transparent box social margin y-direction\n",
    "        m_x0: top left transparent box social margin x-direction\n",
    "        m_y1: bottom right transparent box social margin y-direction\n",
    "        m_x1: bottom right transparent box social margin x-direction\n",
    "        t_start: Choose tracking data START time (IN SECONDS :D)\n",
    "        t_stop: Choose tracking data END time (IN SECONDS :D)\n",
    "    \"\"\"\n",
    "    def process_row(row) -> None:\n",
    "        action_id = row['action']\n",
    "        x, y, t, speed = map(data_loader.tracking(action_id).get, ['x', 'y', 't', 'v']) \n",
    "        \n",
    "        # Choose tracking data time interval (IN SECONDS :D)\n",
    "        if t_start is not None and t_stop is not None:\n",
    "            mask = (t < t_stop) & (t > t_start)\n",
    "            x, y, t = x[mask], y[mask], t[mask]\n",
    "        \n",
    "        total_recording_time = t[-1]\n",
    "\n",
    "        # top left mouse box borders\n",
    "        y0 = np.max(y[np.where(x < tl_xr)])\n",
    "        x0 = np.min(x[np.where(y > tl_yr)])\n",
    "\n",
    "        # bottom right mouse box borders\n",
    "        y1 = np.min(y[np.where(x > br_xr)])\n",
    "        x1 = np.max(x[np.where(y < br_yr)])\n",
    "\n",
    "        # Create social zone boundaries\n",
    "        s_y0,s_x0,s_y1,s_x1 = y0-m_y0,x0-m_x0,y1+m_y1,x1+m_x1\n",
    "\n",
    "        # top right social indecies \n",
    "        mask = x > s_x0\n",
    "        mask *= (y > s_y0)\n",
    "        # bottom left social indecies\n",
    "        mask2 = x < s_x1\n",
    "        mask2 *= (y < s_y1)\n",
    "\n",
    "        # Can use masks to index the spatial coordinates corresponding to social interactions.\n",
    "        # This is, however, not a wanted/needed quantity for storage and, therefore, skipped.\n",
    "        \"\"\"\n",
    "        mask += mask2\n",
    "        social_x = x[mask]\n",
    "        social_y = y[mask]\n",
    "        \"\"\"\n",
    "        \n",
    "        # Assuming uniformly spaced recording times and (the time array) t is cumulative, then:\n",
    "        samp_freq = len(t) / t[-1]\n",
    "        top_right_time = np.sum(mask) / samp_freq\n",
    "        bottom_left_time = np.sum(mask2) / samp_freq\n",
    "        #print(samp_freq, time_spent_in_zone_1, time_spent_in_zone_2, np.sum(mask), np.sum(mask2))\n",
    "        \n",
    "        # Social discrimination index between time spent in close proximity to the transparent boxes\n",
    "        # High positive value (close to 1) indicates preferred socialization with rat in top right corner. \n",
    "        # In contrast, high negative value (close to -1) indicates preferred socialization with rat \n",
    "        # in bottom left corner.\n",
    "        sdi = (top_right_time - bottom_left_time) / (top_right_time + bottom_left_time)\n",
    "        \n",
    "        # Save values\n",
    "        row['total-time-in-seconds'] = total_recording_time\n",
    "        row['time-spent-in-top-right-social-zone'] = top_right_time\n",
    "        row['time-spent-in-bottom-left-social-zone'] = bottom_left_time\n",
    "        row['social-discrimination-index'] = sdi\n",
    "        print(row)\n",
    "        \n",
    "    return process_row\n"
   ]
  },
  {
   "cell_type": "code",
   "execution_count": 6,
   "metadata": {
    "scrolled": false
   },
   "outputs": [
    {
     "name": "stdout",
     "output_type": "stream",
     "text": [
      "action                                   002-121220-1\n",
      "total-time-in-seconds                         1171.71\n",
      "time-spent-in-top-right-social-zone           506.761\n",
      "time-spent-in-bottom-left-social-zone         509.861\n",
      "social-discrimination-index               -0.00304938\n",
      "Name: 0, dtype: object\n",
      "action                                   002-121220-2\n",
      "total-time-in-seconds                         1163.98\n",
      "time-spent-in-top-right-social-zone           601.334\n",
      "time-spent-in-bottom-left-social-zone         323.798\n",
      "social-discrimination-index                  0.299997\n",
      "Name: 1, dtype: object\n",
      "action                                   002-121220-3\n",
      "total-time-in-seconds                         1221.64\n",
      "time-spent-in-top-right-social-zone           470.494\n",
      "time-spent-in-bottom-left-social-zone         598.137\n",
      "social-discrimination-index                 -0.119446\n",
      "Name: 2, dtype: object\n",
      "action                                   002-121220-4\n",
      "total-time-in-seconds                         1174.31\n",
      "time-spent-in-top-right-social-zone           332.038\n",
      "time-spent-in-bottom-left-social-zone         683.847\n",
      "social-discrimination-index                 -0.346308\n",
      "Name: 3, dtype: object\n",
      "action                                   002-121220-5\n",
      "total-time-in-seconds                         1161.19\n",
      "time-spent-in-top-right-social-zone           431.429\n",
      "time-spent-in-bottom-left-social-zone         595.648\n",
      "social-discrimination-index                  -0.15989\n",
      "Name: 4, dtype: object\n"
     ]
    },
    {
     "data": {
      "text/plain": [
       "0    None\n",
       "1    None\n",
       "2    None\n",
       "3    None\n",
       "4    None\n",
       "dtype: object"
      ]
     },
     "execution_count": 6,
     "metadata": {},
     "output_type": "execute_result"
    }
   ],
   "source": [
    "max_speed = 1 # m/s only used for speed score\n",
    "min_speed = 0.02 # m/s only used for speed score\n",
    "position_sampling_rate = 100 # for interpolation\n",
    "position_low_pass_frequency = 6 # for low pass filtering of position\n",
    "\n",
    "box_size = [1.0, 1.0]\n",
    "bin_size=0.01\n",
    "#smoothing = 0.05\n",
    "baseline_duration = None\n",
    "\n",
    "# Constants describing the transparent boxes and social margin used for annotation of social interactions\n",
    "# See the function \"process\" in the cell above for a description.\n",
    "tl_xr,tl_yr,br_xr,br_yr=0.3, 0.7, 0.7, 0.3\n",
    "m_y0,m_x0,m_y1,m_x1=0.12, 0.12, 0.12, 0.12\n",
    "t_start,t_stop = 0.0,None\n",
    "\n",
    "\n",
    "data_loader = dp.Data(\n",
    "    position_sampling_rate=position_sampling_rate, \n",
    "    position_low_pass_frequency=position_low_pass_frequency,\n",
    "    box_size=box_size, bin_size=bin_size, stim_mask=False, baseline_duration=baseline_duration, \n",
    ")\n",
    "\n",
    "\n",
    "\n",
    "sessions.apply(process(data_loader,tl_xr,tl_yr,br_xr,br_yr,m_y0,m_x0,m_y1,m_x1,t_start,t_stop), axis=1)"
   ]
  },
  {
   "cell_type": "code",
   "execution_count": null,
   "metadata": {},
   "outputs": [],
   "source": [
    "sessions.to_csv(dataframes.data_path('sessions'), index=False)\n",
    "#rediger navn i fileexplorer"
   ]
  },
  {
   "cell_type": "code",
   "execution_count": null,
   "metadata": {},
   "outputs": [],
   "source": []
  },
  {
   "cell_type": "code",
   "execution_count": null,
   "metadata": {},
   "outputs": [],
   "source": []
  }
 ],
 "metadata": {
  "kernelspec": {
   "display_name": "Python 3",
   "language": "python",
   "name": "python3"
  },
  "language_info": {
   "codemirror_mode": {
    "name": "ipython",
    "version": 3
   },
   "file_extension": ".py",
   "mimetype": "text/x-python",
   "name": "python",
   "nbconvert_exporter": "python",
   "pygments_lexer": "ipython3",
   "version": "3.6.12"
  }
 },
 "nbformat": 4,
 "nbformat_minor": 4
}
