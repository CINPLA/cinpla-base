{
 "cells": [
  {
   "cell_type": "code",
   "execution_count": 1,
   "metadata": {},
   "outputs": [],
   "source": [
    "%load_ext autoreload\n",
    "%autoreload 2"
   ]
  },
  {
   "cell_type": "code",
   "execution_count": 2,
   "metadata": {},
   "outputs": [],
   "source": [
    "import expipe\n",
    "from expipe import Browser\n",
    "import pandas as pd\n",
    "import numpy as np\n",
    "import sys\n",
    "import exdir\n",
    "\n",
    "sys.path.append('../ca2-mec') if '../ca2-mec' not in sys.path else None \n",
    "import dataloader as dl\n",
    "from utils import *"
   ]
  },
  {
   "cell_type": "code",
   "execution_count": 3,
   "metadata": {},
   "outputs": [],
   "source": [
    "project = expipe.get_project(dl.project_path())\n",
    "include_actions = ['011-120321-2', '011-120321-3', '011-120321-4', '011-120321-5', '011-120321-6'] # choose actions to include"
   ]
  },
  {
   "cell_type": "markdown",
   "metadata": {},
   "source": [
    "### Create pandas dataframe layout"
   ]
  },
  {
   "cell_type": "code",
   "execution_count": 9,
   "metadata": {},
   "outputs": [],
   "source": [
    "tot_time = ['unspecified']*len(include_actions)\n",
    "top_right_time = ['unspecified']*len(include_actions)\n",
    "bottom_left_time = ['unspecified']*len(include_actions)\n",
    "sdi = ['unspecified']*len(include_actions)\n",
    "\n",
    "data = {'action_id': include_actions, 'total-time-in-seconds': tot_time, \\\n",
    "        'time-spent-in-top-social-zone': top_right_time, 'time-spent-in-bottom-social-zone': bottom_left_time, \\\n",
    "        'social-discrimination-index': sdi}\n",
    "df = pd.DataFrame(data)"
   ]
  },
  {
   "cell_type": "markdown",
   "metadata": {},
   "source": [
    "### Populate pandas dataframe with social statistics"
   ]
  },
  {
   "cell_type": "code",
   "execution_count": 10,
   "metadata": {},
   "outputs": [],
   "source": [
    "def process(lim=[0,1200],margin=0.4):\n",
    "    def process_row(row):\n",
    "        x,y,t,_ = dl.load_tracking(row['action_id'], lim=lim, ca2_transform_data=True).T\n",
    "        spikes = dl.load_spiketrains(row['action_id'], load_spikes=False, lim=lim, identify_neurons=True)\n",
    "\n",
    "        social_types = social_label(spikes[0])\n",
    "        box_locations = ~(social_types== -1) # True where there is 'box', false on 'nobox'\n",
    "        box_idx_masks = np.append(box_locations, False)\n",
    "        cms = corner_masks(x=x, y=y, margin=margin)\n",
    "        sm1,sm2 = cms[:,box_idx_masks].T\n",
    "\n",
    "        total_recording_time = t[-1] - t[0]\n",
    "        samp_freq = len(t) / total_recording_time\n",
    "        top_right_time = np.sum(sm1) / samp_freq\n",
    "        bottom_left_time = np.sum(sm2) / samp_freq\n",
    "        sdi = (top_right_time - bottom_left_time) / (top_right_time + bottom_left_time)\n",
    "\n",
    "        # Save values\n",
    "        row['total-time-in-seconds'] = total_recording_time\n",
    "        row['time-spent-in-top-social-zone'] = top_right_time\n",
    "        row['time-spent-in-bottom-social-zone'] = bottom_left_time\n",
    "        row['social-discrimination-index'] = sdi\n",
    "        print(row)\n",
    "        \n",
    "    return process_row"
   ]
  },
  {
   "cell_type": "markdown",
   "metadata": {},
   "source": [
    "### Save as expipe action csv"
   ]
  },
  {
   "cell_type": "code",
   "execution_count": 11,
   "metadata": {},
   "outputs": [
    {
     "name": "stdout",
     "output_type": "stream",
     "text": [
      "action_id                           011-120321-2\n",
      "total-time-in-seconds                    1199.99\n",
      "time-spent-in-top-social-zone            143.039\n",
      "time-spent-in-bottom-social-zone         187.448\n",
      "social-discrimination-index            -0.134376\n",
      "Name: 0, dtype: object\n",
      "action_id                           011-120321-3\n",
      "total-time-in-seconds                    1199.97\n",
      "time-spent-in-top-social-zone            461.606\n",
      "time-spent-in-bottom-social-zone         104.749\n",
      "social-discrimination-index             0.630094\n",
      "Name: 1, dtype: object\n",
      "action_id                           011-120321-4\n",
      "total-time-in-seconds                    1199.98\n",
      "time-spent-in-top-social-zone            95.0692\n",
      "time-spent-in-bottom-social-zone         343.007\n",
      "social-discrimination-index             -0.56597\n",
      "Name: 2, dtype: object\n",
      "action_id                           011-120321-5\n",
      "total-time-in-seconds                    1199.99\n",
      "time-spent-in-top-social-zone            123.409\n",
      "time-spent-in-bottom-social-zone         196.998\n",
      "social-discrimination-index            -0.229674\n",
      "Name: 3, dtype: object\n",
      "action_id                           011-120321-6\n",
      "total-time-in-seconds                    1199.97\n",
      "time-spent-in-top-social-zone            166.209\n",
      "time-spent-in-bottom-social-zone         261.228\n",
      "social-discrimination-index              -0.2223\n",
      "Name: 4, dtype: object\n"
     ]
    }
   ],
   "source": [
    "df.apply(process(lim=[0,1200],margin=0.4), axis=1)\n",
    "dataframes = project.require_action('dataframes')\n",
    "dataframes.data['sessions'] = 'sessions.csv'\n",
    "df.to_csv(dataframes.data_path('sessions'), index=False)"
   ]
  },
  {
   "cell_type": "code",
   "execution_count": null,
   "metadata": {},
   "outputs": [],
   "source": []
  }
 ],
 "metadata": {
  "kernelspec": {
   "display_name": "Python [conda env:ca2mec]",
   "language": "python",
   "name": "conda-env-ca2mec-py"
  },
  "language_info": {
   "codemirror_mode": {
    "name": "ipython",
    "version": 3
   },
   "file_extension": ".py",
   "mimetype": "text/x-python",
   "name": "python",
   "nbconvert_exporter": "python",
   "pygments_lexer": "ipython3",
   "version": "3.6.13"
  }
 },
 "nbformat": 4,
 "nbformat_minor": 4
}
