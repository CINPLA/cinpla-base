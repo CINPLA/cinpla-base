{
 "cells": [
  {
   "cell_type": "code",
   "execution_count": 1,
   "metadata": {},
   "outputs": [],
   "source": [
    "%load_ext autoreload\n",
    "%autoreload 2"
   ]
  },
  {
   "cell_type": "code",
   "execution_count": 2,
   "metadata": {},
   "outputs": [],
   "source": [
    "import expipe\n",
    "from expipe import Browser\n",
    "import pandas as pd\n",
    "import numpy as np\n",
    "import sys\n",
    "import exdir\n",
    "\n",
    "sys.path.append('../ca2-mec')\n",
    "import data_processing as dp"
   ]
  },
  {
   "cell_type": "code",
   "execution_count": 3,
   "metadata": {},
   "outputs": [],
   "source": [
    "project_path = dp.project_path()\n",
    "#project_path = '../../CA2prosjektmappe'\n",
    "project = expipe.get_project(project_path)\n",
    "actions = project.actions"
   ]
  },
  {
   "cell_type": "code",
   "execution_count": 4,
   "metadata": {},
   "outputs": [
    {
     "name": "stdout",
     "output_type": "stream",
     "text": [
      "5 5\n"
     ]
    }
   ],
   "source": [
    "dataframes = actions['dataframes']\n",
    "sessions = pd.read_csv(dataframes.data_path('sessions'))\n",
    "sessions.head()\n",
    "print(len(sessions), len(np.unique(sessions.action)))"
   ]
  },
  {
   "cell_type": "code",
   "execution_count": 5,
   "metadata": {},
   "outputs": [],
   "source": [
    "def transform_coordinates(x, y):\n",
    "    \"\"\"\n",
    "    Transform tracking coordinates to align with physical coordinates\n",
    "    For this project (CA2 MEC): rotate recorded coordinates 90 degrees, \n",
    "    followed by a shift to make values positive afterwards.\n",
    "    \"\"\"\n",
    "    # rotate x,y coordinates 90 degrees using a 2D rotation matrix transform\n",
    "    theta = np.radians(90)\n",
    "    r = np.array(( (np.cos(theta), -np.sin(theta)),\n",
    "                   (np.sin(theta),  np.cos(theta)) ))\n",
    "    coords = r @ np.array([x,y])\n",
    "    # shift new x-coordinates to be positive\n",
    "    coords = coords - np.min(coords, axis=-1, keepdims=True)\n",
    "    # rescale coordinates to max 1\n",
    "    coords = coords / np.max(coords, axis=-1, keepdims=True)\n",
    "    return coords\n",
    "\n",
    "def socializing(x, y, top, bottom, box_locations=\"TL+BR\"):\n",
    "    \"\"\"\n",
    "    Defines social boundaries of the box wrt. cardinal coordinates.\n",
    "    \n",
    "    Params:\n",
    "        top, sequence-like (2,): 2d-coordinates for end of social boundary for\n",
    "                                 the social-box at the top of the environment box\n",
    "        bottom, sequence-like (2,): 2d-coordinates for end of social boundary\n",
    "                                    the social-box at the bottom of the environment box\n",
    "        box_locations, string: either: \"TL+BR\", i.e. TopLeft+BottomRight or \n",
    "                                       \"TR+BL\", i.e. TopRight+BottomLeft.\n",
    "    \"\"\"\n",
    "    if box_locations == \"TL+BR\":\n",
    "        # check which indices rat is inside social boundaries\n",
    "        TL_social_mask = np.stack([x < top[0], y > top[1]],axis=-1)\n",
    "        TL_social_mask = np.sum(TL_social_mask, axis=-1) == 2\n",
    "        BR_social_mask = np.stack([x > bottom[0], y < bottom[1]],axis=-1)\n",
    "        BR_social_mask = np.sum(BR_social_mask, axis=-1) == 2\n",
    "        non_social_mask = ~(TL_social_mask | BR_social_mask) # boolean operations\n",
    "        return TL_social_mask, BR_social_mask, non_social_mask\n",
    "    elif box_locations == \"TR+BL\":\n",
    "        # check which indices rat is inside social boundaries\n",
    "        coords = np.stack([x,y],axis=-1)\n",
    "        TR_social_mask = np.sum(coords > top, axis=-1) == 2\n",
    "        BL_social_mask = np.sum(coords < bottom, axis=-1) == 2\n",
    "        non_social_mask = ~(TR_social_mask | BL_social_mask) # boolean operations\n",
    "        return TR_social_mask, BL_social_mask, non_social_mask\n",
    "    else:\n",
    "        print(\"Choose either 'TL+BR' or 'TR+BL' as box_locations\")\n",
    "        return None"
   ]
  },
  {
   "cell_type": "code",
   "execution_count": 6,
   "metadata": {},
   "outputs": [],
   "source": [
    "def process(data_loader: dp.Data, t_start=0.0, t_stop=None, *args, **kwargs):\n",
    "    \"\"\"Comments\"\"\"\n",
    "    def process_row(row) -> None:\n",
    "        action_id = row['action']\n",
    "        x, y, t, speed = map(data_loader.tracking(action_id).get, ['x', 'y', 't', 'v'])\n",
    "\n",
    "        # Choose tracking data time interval (IN SECONDS :D)\n",
    "        if t_start is not None and t_stop is not None:\n",
    "            mask = (t < t_stop) & (t > t_start)\n",
    "            x, y, t = x[mask], y[mask], t[mask]\n",
    "        \n",
    "        total_recording_time = t[-1]        \n",
    "        x, y = transform_coordinates(x, y)\n",
    "        sm1, sm2, nsm = socializing(x=x, y=y, *args, **kwargs)\n",
    "        \n",
    "        samp_freq = len(t) / t[-1]\n",
    "        top_right_time = np.sum(sm1) / samp_freq\n",
    "        bottom_left_time = np.sum(sm2) / samp_freq\n",
    "        sdi = (top_right_time - bottom_left_time) / (top_right_time + bottom_left_time)\n",
    "        \n",
    "        # Save values\n",
    "        row['total-time-in-seconds'] = t[-1]\n",
    "        row['time-spent-in-top-social-zone'] = top_right_time\n",
    "        row['time-spent-in-bottom-social-zone'] = bottom_left_time\n",
    "        row['social-discrimination-index'] = sdi\n",
    "        print(row)\n",
    "        \n",
    "    return process_row"
   ]
  },
  {
   "cell_type": "code",
   "execution_count": 7,
   "metadata": {},
   "outputs": [
    {
     "name": "stdout",
     "output_type": "stream",
     "text": [
      "action                              144-100621-1\n",
      "total-time-in-seconds                    299.991\n",
      "time-spent-in-top-social-zone            19.7101\n",
      "time-spent-in-bottom-social-zone           14.61\n",
      "social-discrimination-index             0.148601\n",
      "Name: 0, dtype: object\n",
      "action                              144-100621-2\n",
      "total-time-in-seconds                    299.997\n",
      "time-spent-in-top-social-zone            101.659\n",
      "time-spent-in-bottom-social-zone         27.0697\n",
      "social-discrimination-index              0.57943\n",
      "Name: 1, dtype: object\n",
      "action                              144-100621-3\n",
      "total-time-in-seconds                    299.994\n",
      "time-spent-in-top-social-zone            63.4688\n",
      "time-spent-in-bottom-social-zone         42.7592\n",
      "social-discrimination-index             0.194954\n",
      "Name: 2, dtype: object\n",
      "action                              144-100621-4\n",
      "total-time-in-seconds                    299.999\n",
      "time-spent-in-top-social-zone            99.6797\n",
      "time-spent-in-bottom-social-zone         46.9098\n",
      "social-discrimination-index             0.359984\n",
      "Name: 3, dtype: object\n",
      "action                              144-100621-5\n",
      "total-time-in-seconds                    299.992\n",
      "time-spent-in-top-social-zone            44.3048\n",
      "time-spent-in-bottom-social-zone         134.485\n",
      "social-discrimination-index            -0.504391\n",
      "Name: 4, dtype: object\n"
     ]
    },
    {
     "data": {
      "text/plain": [
       "0    None\n",
       "1    None\n",
       "2    None\n",
       "3    None\n",
       "4    None\n",
       "dtype: object"
      ]
     },
     "execution_count": 7,
     "metadata": {},
     "output_type": "execute_result"
    }
   ],
   "source": [
    "max_speed = 1 # m/s only used for speed score\n",
    "min_speed = 0.02 # m/s only used for speed score\n",
    "position_sampling_rate = 100 # for interpolation\n",
    "position_low_pass_frequency = 6 # for low pass filtering of position\n",
    "\n",
    "box_size = [1.0, 1.0]\n",
    "bin_size=0.01\n",
    "#smoothing = 0.05\n",
    "baseline_duration = None\n",
    "\n",
    "data_loader = dp.Data(\n",
    "    position_sampling_rate=position_sampling_rate, \n",
    "    position_low_pass_frequency=position_low_pass_frequency,\n",
    "    box_size=box_size, bin_size=bin_size, stim_mask=False, baseline_duration=baseline_duration,\n",
    ")\n",
    "\n",
    "top, bottom = np.array([0.43,0.57]), np.array([0.57,0.43])\n",
    "box_locations = \"TL+BR\" # \"TL+BR\" or \"TR+BL\"\n",
    "t_start,t_stop = 0.0,300\n",
    "\n",
    "sessions.apply(process(data_loader, top=top, bottom=bottom, box_locations=box_locations, \\\n",
    "                       t_start=t_start,t_stop=t_stop), axis=1)"
   ]
  },
  {
   "cell_type": "code",
   "execution_count": 8,
   "metadata": {},
   "outputs": [],
   "source": [
    "sessions.to_csv(dataframes.data_path('sessions'), index=False)\n"
   ]
  },
  {
   "cell_type": "code",
   "execution_count": null,
   "metadata": {},
   "outputs": [],
   "source": [
    "\n"
   ]
  },
  {
   "cell_type": "code",
   "execution_count": null,
   "metadata": {},
   "outputs": [],
   "source": []
  }
 ],
 "metadata": {
  "kernelspec": {
   "display_name": "Python 3",
   "language": "python",
   "name": "python3"
  },
  "language_info": {
   "codemirror_mode": {
    "name": "ipython",
    "version": 3
   },
   "file_extension": ".py",
   "mimetype": "text/x-python",
   "name": "python",
   "nbconvert_exporter": "python",
   "pygments_lexer": "ipython3",
   "version": "3.6.12"
  }
 },
 "nbformat": 4,
 "nbformat_minor": 4
}
