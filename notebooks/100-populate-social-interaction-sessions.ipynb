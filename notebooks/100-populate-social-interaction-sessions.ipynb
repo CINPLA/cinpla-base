{
 "cells": [
  {
   "cell_type": "code",
   "execution_count": 1,
   "metadata": {},
   "outputs": [],
   "source": [
    "%load_ext autoreload\n",
    "%autoreload 2"
   ]
  },
  {
   "cell_type": "code",
   "execution_count": 2,
   "metadata": {},
   "outputs": [],
   "source": [
    "import expipe\n",
    "from expipe import Browser\n",
    "import pandas as pd\n",
    "import numpy as np\n",
    "import sys\n",
    "import exdir\n",
    "\n",
    "sys.path.append('../ca2-mec')\n",
    "import data_processing as dp"
   ]
  },
  {
   "cell_type": "code",
   "execution_count": 3,
   "metadata": {},
   "outputs": [],
   "source": [
    "project_path = dp.project_path()\n",
    "#project_path = '../../CA2prosjektmappe'\n",
    "project = expipe.get_project(project_path)\n",
    "actions = project.actions"
   ]
  },
  {
   "cell_type": "code",
   "execution_count": 4,
   "metadata": {},
   "outputs": [
    {
     "name": "stdout",
     "output_type": "stream",
     "text": [
      "5 5\n"
     ]
    }
   ],
   "source": [
    "dataframes = actions['dataframes']\n",
    "sessions = pd.read_csv(dataframes.data_path('sessions'))\n",
    "sessions.head()\n",
    "print(len(sessions), len(np.unique(sessions.action)))"
   ]
  },
  {
   "cell_type": "code",
   "execution_count": 5,
   "metadata": {},
   "outputs": [],
   "source": [
    "def transform_coordinates(x, y, theta=90, **kwargs):\n",
    "    \"\"\"\n",
    "    Transform tracking coordinates to align with physical coordinates\n",
    "    For this project (CA2 MEC): rotate recorded coordinates 90 degrees, \n",
    "    followed by a shift to make values positive afterwards.\n",
    "    \"\"\"\n",
    "    # rotate x,y coordinates 90 degrees using a 2D rotation matrix transform\n",
    "    theta = np.radians(theta)\n",
    "    r = np.array(( (np.cos(theta), -np.sin(theta)),\n",
    "                   (np.sin(theta),  np.cos(theta)) ))\n",
    "    coords = r @ np.array([x,y])\n",
    "    # shift new x-coordinates to be positive\n",
    "    coords -= np.array([[-1],[0]])\n",
    "    return coords\n",
    "\n",
    "def corner_masks(x, y, margin=0.4, **kwargs):\n",
    "    \"\"\"\n",
    "    Find corner and center of box masks.\n",
    "    \"\"\"\n",
    "    assert margin < 0.5 and margin > 0, \"OBS! Margin must be positive and max half the box size, i.e. 0.5 OBS!\"\n",
    "    \n",
    "    # center x and y coordinates\n",
    "    x = x - 0.5\n",
    "    y = y - 0.5\n",
    "    pos = np.array([x, y]).T\n",
    "    \n",
    "    # create cardinal basis vectors\n",
    "    ex, ey = np.arange(2), np.arange(2)[::-1]\n",
    "    \n",
    "    # create corner vectors: TR, TL, BL and BR, respectively\n",
    "    corners = np.array([ex+ey, -ex+ey, -ex-ey, ex-ey])\n",
    "    \n",
    "    corner_masks = np.zeros((len(x), 5),dtype=bool)\n",
    "    for i, corner in enumerate(corners):\n",
    "        # find which quadrant positions are in, and if they are within the\n",
    "        # box margins. The intersection gives the grand mask.\n",
    "        quadrant_mask = ((pos * corner) > 0).all(axis=-1)\n",
    "        margin_mask = (np.abs(pos) > (np.ones(2) * (0.5 - margin))).all(axis=-1)\n",
    "        corner_masks[:,i] = quadrant_mask & margin_mask\n",
    "    \n",
    "    # inverse of union over corner masks\n",
    "    corner_masks[:,-1] = ~np.array(corner_masks).any(axis=-1)\n",
    "    return corner_masks\n",
    "\n",
    "def social_label(action_str):\n",
    "    \"\"\"\n",
    "    socializing can happen at either of the four corners of the box (space).\n",
    "    there are four types of socializing: nobox (-1) empty (0), familiar (1) or novel (2).\n",
    "    this gives a 4d-vector with four possible categories each.\n",
    "    \"\"\"\n",
    "    \n",
    "    def social_category(str1, str2):\n",
    "        \"\"\" helper function \"\"\"\n",
    "        if str1 == 'nobox':\n",
    "            return -1\n",
    "        if str2 == 'e':\n",
    "            return 0\n",
    "        if str2 == 'f':\n",
    "            return 1\n",
    "        if str2 == 'n':\n",
    "            return 2\n",
    "    \n",
    "    tags = project.require_action(action_str).attributes['tags']\n",
    "    social_types = {'s': np.zeros(4), 'o': np.zeros(4)}\n",
    "    for tag in tags:\n",
    "        if not 'corner' in tag:\n",
    "            continue\n",
    "        stag = tag.split('_')[1:]\n",
    "        # TR, TL, BL and BR, respectively\n",
    "        if stag[1] == 'tr':\n",
    "            social_types[stag[0]][0] = social_category(*stag[-2:])\n",
    "        elif stag[1] == 'tl':\n",
    "            social_types[stag[0]][1] = social_category(*stag[-2:])\n",
    "        elif stag[1] == 'bl':\n",
    "            social_types[stag[0]][2] = social_category(*stag[-2:])\n",
    "        elif stag[1] == 'br':\n",
    "            social_types[stag[0]][3] = social_category(*stag[-2:])\n",
    "    \n",
    "    return social_types"
   ]
  },
  {
   "cell_type": "code",
   "execution_count": 6,
   "metadata": {},
   "outputs": [],
   "source": [
    "def process(data_loader: dp.Data, t_start=0.0, t_stop=None, margin=0.4):\n",
    "    \"\"\"Comments\"\"\"\n",
    "    def process_row(row) -> None:\n",
    "        action_id = row['action']\n",
    "        x, y, t, speed = map(data_loader.tracking(action_id).get, ['x', 'y', 't', 'v'])\n",
    "\n",
    "        # Choose tracking data time interval (IN SECONDS :D)\n",
    "        if t_start is not None and t_stop is not None:\n",
    "            mask = (t < t_stop) & (t > t_start)\n",
    "            x, y, t = x[mask], y[mask], t[mask]\n",
    "            \n",
    "        total_recording_time = t[-1]        \n",
    "        x, y = transform_coordinates(x, y)\n",
    "        social_types = social_label(action_id)['s']\n",
    "        box_locations = ~(social_types== -1) # True where there is 'box', false on 'nobox'\n",
    "        box_idx_masks = np.append(box_locations, False)\n",
    "        cms = corner_masks(x=x, y=y, margin=margin)\n",
    "        sm1,sm2 = cms[:,box_idx_masks].T\n",
    "        # nsm = np.sum(cms[:,~box_idx_masks], axis=-1).astype(bool) # union of rest of space\n",
    "        \n",
    "        samp_freq = len(t) / t[-1]\n",
    "        top_right_time = np.sum(sm1) / samp_freq\n",
    "        bottom_left_time = np.sum(sm2) / samp_freq\n",
    "        sdi = (top_right_time - bottom_left_time) / (top_right_time + bottom_left_time)\n",
    "        \n",
    "        # Save values\n",
    "        row['total-time-in-seconds'] = t[-1]\n",
    "        row['time-spent-in-top-social-zone'] = top_right_time\n",
    "        row['time-spent-in-bottom-social-zone'] = bottom_left_time\n",
    "        row['social-discrimination-index'] = sdi\n",
    "        print(row)\n",
    "        \n",
    "    return process_row"
   ]
  },
  {
   "cell_type": "code",
   "execution_count": 7,
   "metadata": {},
   "outputs": [
    {
     "name": "stdout",
     "output_type": "stream",
     "text": [
      "action                              144-100621-1\n",
      "total-time-in-seconds                    299.991\n",
      "time-spent-in-top-social-zone            19.7101\n",
      "time-spent-in-bottom-social-zone           14.61\n",
      "social-discrimination-index             0.148601\n",
      "Name: 0, dtype: object\n",
      "action                              144-100621-2\n",
      "total-time-in-seconds                    299.997\n",
      "time-spent-in-top-social-zone            101.659\n",
      "time-spent-in-bottom-social-zone         27.0697\n",
      "social-discrimination-index              0.57943\n",
      "Name: 1, dtype: object\n",
      "action                              144-100621-3\n",
      "total-time-in-seconds                    299.994\n",
      "time-spent-in-top-social-zone            63.4688\n",
      "time-spent-in-bottom-social-zone         42.7592\n",
      "social-discrimination-index             0.194954\n",
      "Name: 2, dtype: object\n",
      "action                              144-100621-4\n",
      "total-time-in-seconds                    299.999\n",
      "time-spent-in-top-social-zone            99.6797\n",
      "time-spent-in-bottom-social-zone         46.9098\n",
      "social-discrimination-index             0.359984\n",
      "Name: 3, dtype: object\n",
      "action                              144-100621-5\n",
      "total-time-in-seconds                    299.992\n",
      "time-spent-in-top-social-zone            44.3048\n",
      "time-spent-in-bottom-social-zone         134.485\n",
      "social-discrimination-index            -0.504391\n",
      "Name: 4, dtype: object\n"
     ]
    },
    {
     "data": {
      "text/plain": [
       "0    None\n",
       "1    None\n",
       "2    None\n",
       "3    None\n",
       "4    None\n",
       "dtype: object"
      ]
     },
     "execution_count": 7,
     "metadata": {},
     "output_type": "execute_result"
    }
   ],
   "source": [
    "max_speed = 1 # m/s only used for speed score\n",
    "min_speed = 0.02 # m/s only used for speed score\n",
    "position_sampling_rate = 100 # for interpolation\n",
    "position_low_pass_frequency = 6 # for low pass filtering of position\n",
    "\n",
    "box_size = [1.0, 1.0]\n",
    "bin_size=0.01\n",
    "#smoothing = 0.05\n",
    "baseline_duration = None\n",
    "\n",
    "data_loader = dp.Data(\n",
    "    position_sampling_rate=position_sampling_rate, \n",
    "    position_low_pass_frequency=position_low_pass_frequency,\n",
    "    box_size=box_size, bin_size=bin_size, stim_mask=False, baseline_duration=baseline_duration,\n",
    ")\n",
    "\n",
    "social_margin = 0.4\n",
    "t_start,t_stop = 0.0,300\n",
    "\n",
    "sessions.apply(process(data_loader,t_start=t_start,t_stop=t_stop, margin=social_margin), axis=1)"
   ]
  },
  {
   "cell_type": "code",
   "execution_count": 8,
   "metadata": {},
   "outputs": [],
   "source": [
    "sessions.to_csv(dataframes.data_path('sessions'), index=False)\n"
   ]
  },
  {
   "cell_type": "code",
   "execution_count": null,
   "metadata": {},
   "outputs": [],
   "source": [
    "\n"
   ]
  },
  {
   "cell_type": "code",
   "execution_count": null,
   "metadata": {},
   "outputs": [],
   "source": []
  }
 ],
 "metadata": {
  "kernelspec": {
   "display_name": "Python 3 (ipykernel)",
   "language": "python",
   "name": "python3"
  },
  "language_info": {
   "codemirror_mode": {
    "name": "ipython",
    "version": 3
   },
   "file_extension": ".py",
   "mimetype": "text/x-python",
   "name": "python",
   "nbconvert_exporter": "python",
   "pygments_lexer": "ipython3",
   "version": "3.7.10"
  }
 },
 "nbformat": 4,
 "nbformat_minor": 4
}
