{
 "cells": [
  {
   "cell_type": "code",
   "execution_count": 1,
   "metadata": {},
   "outputs": [],
   "source": [
    "%load_ext autoreload\n",
    "%autoreload 2"
   ]
  },
  {
   "cell_type": "code",
   "execution_count": 2,
   "metadata": {},
   "outputs": [],
   "source": [
    "import matplotlib.pyplot as plt\n",
    "%matplotlib inline\n",
    "import spatial_maps as sp\n",
    "import head_direction as hd\n",
    "#import place_stimulation as ps\n",
    "import expipe\n",
    "import os\n",
    "import pathlib\n",
    "import math\n",
    "import numpy as np\n",
    "import exdir\n",
    "from exdir.plugins import quantities\n",
    "from scipy.interpolate import interp1d\n",
    "import pandas as pd\n",
    "import sys\n",
    "sys.path.append('../ca2-mec')\n",
    "import data_processing as dp"
   ]
  },
  {
   "cell_type": "code",
   "execution_count": 3,
   "metadata": {},
   "outputs": [],
   "source": [
    "speed_filter = 5 # m/s\n",
    "pos_fs = 100 \n",
    "f_cut = 6\n",
    "box_xlen = 1 \n",
    "box_ylen = 1 \n",
    "binsize =  0.02\n",
    "smoothing = 0.03\n",
    "\n",
    "\n",
    "plt.rcParams['figure.figsize'] = (16,9)\n",
    "plt.rcParams.update({\n",
    "    k: 'xx-large' for k in plt.rcParams \n",
    "    if (\n",
    "        k.endswith('labelsize') or\n",
    "        k.endswith('fontsize') or\n",
    "        k.endswith('titlesize')\n",
    "    )\n",
    "})"
   ]
  },
  {
   "cell_type": "code",
   "execution_count": 4,
   "metadata": {},
   "outputs": [],
   "source": [
    "project_path = dp.project_path()\n",
    "project = expipe.get_project(project_path)\n",
    "actions = project.actions"
   ]
  },
  {
   "cell_type": "code",
   "execution_count": 5,
   "metadata": {},
   "outputs": [],
   "source": [
    "def make_rate_map(x, y, t, sptr, a, at, binsize, smoothing, mask_zero_occupancy=False):\n",
    "    from matplotlib import gridspec\n",
    "\n",
    "    fig = plt.figure()\n",
    "    gs = gridspec.GridSpec(1,4)\n",
    "    axs = [fig.add_subplot(g, projection=p) for g, p in zip(gs, [None, None, None, 'polar'])]\n",
    "    spatial_map = sp.SpatialMap(\n",
    "        x, y, t, sptr, box_size=1.0, bin_size=binsize)\n",
    "    \n",
    "    rate_map = spatial_map.rate_map(smoothing=smoothing, mask_zero_occupancy=mask_zero_occupancy)\n",
    "    rate_map = np.rot90(rate_map)\n",
    "    axs[0].imshow(rate_map, vmin=0, origin='lower')\n",
    "    axs[0].set_xticks([])\n",
    "    axs[0].set_yticks([])\n",
    "    axs[0].set_title('channel group {} {}'.format(\n",
    "        sptr.annotations['group_id'], sptr.annotations['name']))\n",
    "    axs[1].plot(x, y, 'k', alpha=0.3)\n",
    "    # Remove spikes that fall outside the range of times.\n",
    "    # Otherwise, interpolation will fail when plotting spikes in scatter plot.\n",
    "    sptr = sptr[(sptr > min(t)) & (sptr < max(t))]\n",
    "    \n",
    "    x_spike = interp1d(t,x)(sptr)\n",
    "    y_spike = interp1d(t,y)(sptr)\n",
    "    axs[1].set_xticks([])\n",
    "    axs[1].set_yticks([])\n",
    "    \n",
    "    axs[1].scatter(x_spike, y_spike, marker='.', color=(0.7, 0.2, 0.2), s=2)\n",
    "    axs[1].set_ylim(1,0)\n",
    "    axs[1].set_title('N spikes {}'.format(len(spike_times)))\n",
    "    \n",
    "    occupancy_map = spatial_map.occupancy_map(smoothing=smoothing, mask_zero_occupancy=mask_zero_occupancy)\n",
    "    occupancy_map = np.rot90(occupancy_map)\n",
    "    axs[2].imshow(occupancy_map, vmin=0, origin='lower')\n",
    "    axs[2].set_xticks([])\n",
    "    axs[2].set_yticks([])\n",
    "    axs[2].set_title('occupancy')\n",
    "\n",
    "    \n",
    "    ang_bins, rate_ang = hd.head_direction_rate(sptr, a, at)\n",
    "    hd_dir, hd_score = hd.head_direction_score(ang_bins, rate_ang)\n",
    "    hd_dir = math.degrees(hd_dir)\n",
    "    binsize = ang_bins[1] - ang_bins[0]\n",
    "    axs[3].set_xticks([0, np.pi])\n",
    "    axs[3].bar(ang_bins, rate_ang, width=binsize, color='b')\n",
    "    axs[3].set_title('hd {:.2f}, {:.1f} deg'.format(hd_score, hd_dir))\n",
    "    \n",
    "    for ax in axs:\n",
    "        ax.set_aspect(1)\n",
    "        \n",
    "def plot_waveform(wf, fig=None, axs=None, **kwargs):\n",
    "    nrc = wf.shape[0]\n",
    "    if fig is None:\n",
    "        fig = plt.figure()\n",
    "    axs = []\n",
    "    ax = None\n",
    "    for c in range(nrc):\n",
    "        ax = fig.add_subplot(1, nrc, c+1, sharex=ax, sharey=ax)\n",
    "        axs.append(ax)\n",
    "    for c in range(nrc):\n",
    "        axs[c].plot(wf[c, :], **kwargs)\n",
    "        if c > 0:\n",
    "            plt.setp(axs[c].get_yticklabels(), visible=False)\n",
    "    return axs"
   ]
  },
  {
   "cell_type": "code",
   "execution_count": 6,
   "metadata": {
    "scrolled": true
   },
   "outputs": [],
   "source": [
    "action_id = \"012-020321-1\"\n",
    "channel_ids = range(16)\n",
    "t_start = 0\n",
    "t_stop = 1200\n",
    "\n",
    "action  = actions[action_id]\n",
    "\n",
    "data_path = dp.get_data_path(action)\n",
    "root_group = exdir.File(\n",
    "    data_path, plugins=[exdir.plugins.quantities])"
   ]
  },
  {
   "cell_type": "code",
   "execution_count": 7,
   "metadata": {},
   "outputs": [],
   "source": [
    "max_speed = 1 # m/s only used for speed score\n",
    "min_speed = 0.02 # m/s only used for speed score\n",
    "position_sampling_rate = 100 # for interpolation\n",
    "position_low_pass_frequency = 6 # for low pass filtering of position\n",
    "\n",
    "box_size = [1.0, 1.0]\n",
    "bin_size=0.02\n",
    "smoothing = 0.05"
   ]
  },
  {
   "cell_type": "code",
   "execution_count": 8,
   "metadata": {},
   "outputs": [],
   "source": [
    "data_loader = dp.Data(\n",
    "    position_sampling_rate=position_sampling_rate, \n",
    "    position_low_pass_frequency=position_low_pass_frequency,\n",
    "    box_size=box_size, bin_size=bin_size, stim_mask=True, baseline_duration=600,\n",
    ")"
   ]
  },
  {
   "cell_type": "code",
   "execution_count": 9,
   "metadata": {},
   "outputs": [],
   "source": [
    "# common values for all units == faster calculations\n",
    "x, y, t, speed = map(data_loader.tracking(action_id).get, ['x', 'y', 't', 'v'])\n",
    "\n",
    "#spike_times = data_loader.spike_train(action_id, channel_id, unit_id)"
   ]
  },
  {
   "cell_type": "code",
   "execution_count": 10,
   "metadata": {
    "scrolled": false
   },
   "outputs": [
    {
     "name": "stderr",
     "output_type": "stream",
     "text": [
      "c:\\users\\sarahht\\appdata\\local\\continuum\\anaconda3\\envs\\expipe\\lib\\site-packages\\ipykernel_launcher.py:4: RuntimeWarning: More than 20 figures have been opened. Figures created through the pyplot interface (`matplotlib.pyplot.figure`) are retained until explicitly closed and may consume too much memory. (To control this warning, see the rcParam `figure.max_open_warning`).\n",
      "  after removing the cwd from sys.path.\n",
      "c:\\users\\sarahht\\appdata\\local\\continuum\\anaconda3\\envs\\expipe\\lib\\site-packages\\ipykernel_launcher.py:53: RuntimeWarning: More than 20 figures have been opened. Figures created through the pyplot interface (`matplotlib.pyplot.figure`) are retained until explicitly closed and may consume too much memory. (To control this warning, see the rcParam `figure.max_open_warning`).\n",
      "c:\\users\\sarahht\\appdata\\local\\continuum\\anaconda3\\envs\\expipe\\lib\\site-packages\\ipykernel_launcher.py:4: RuntimeWarning: More than 20 figures have been opened. Figures created through the pyplot interface (`matplotlib.pyplot.figure`) are retained until explicitly closed and may consume too much memory. (To control this warning, see the rcParam `figure.max_open_warning`).\n",
      "  after removing the cwd from sys.path.\n",
      "c:\\users\\sarahht\\appdata\\local\\continuum\\anaconda3\\envs\\expipe\\lib\\site-packages\\ipykernel_launcher.py:53: RuntimeWarning: More than 20 figures have been opened. Figures created through the pyplot interface (`matplotlib.pyplot.figure`) are retained until explicitly closed and may consume too much memory. (To control this warning, see the rcParam `figure.max_open_warning`).\n",
      "c:\\users\\sarahht\\appdata\\local\\continuum\\anaconda3\\envs\\expipe\\lib\\site-packages\\ipykernel_launcher.py:4: RuntimeWarning: More than 20 figures have been opened. Figures created through the pyplot interface (`matplotlib.pyplot.figure`) are retained until explicitly closed and may consume too much memory. (To control this warning, see the rcParam `figure.max_open_warning`).\n",
      "  after removing the cwd from sys.path.\n",
      "c:\\users\\sarahht\\appdata\\local\\continuum\\anaconda3\\envs\\expipe\\lib\\site-packages\\ipykernel_launcher.py:53: RuntimeWarning: More than 20 figures have been opened. Figures created through the pyplot interface (`matplotlib.pyplot.figure`) are retained until explicitly closed and may consume too much memory. (To control this warning, see the rcParam `figure.max_open_warning`).\n",
      "c:\\users\\sarahht\\appdata\\local\\continuum\\anaconda3\\envs\\expipe\\lib\\site-packages\\ipykernel_launcher.py:4: RuntimeWarning: More than 20 figures have been opened. Figures created through the pyplot interface (`matplotlib.pyplot.figure`) are retained until explicitly closed and may consume too much memory. (To control this warning, see the rcParam `figure.max_open_warning`).\n",
      "  after removing the cwd from sys.path.\n",
      "c:\\users\\sarahht\\appdata\\local\\continuum\\anaconda3\\envs\\expipe\\lib\\site-packages\\ipykernel_launcher.py:53: RuntimeWarning: More than 20 figures have been opened. Figures created through the pyplot interface (`matplotlib.pyplot.figure`) are retained until explicitly closed and may consume too much memory. (To control this warning, see the rcParam `figure.max_open_warning`).\n",
      "c:\\users\\sarahht\\appdata\\local\\continuum\\anaconda3\\envs\\expipe\\lib\\site-packages\\ipykernel_launcher.py:4: RuntimeWarning: More than 20 figures have been opened. Figures created through the pyplot interface (`matplotlib.pyplot.figure`) are retained until explicitly closed and may consume too much memory. (To control this warning, see the rcParam `figure.max_open_warning`).\n",
      "  after removing the cwd from sys.path.\n",
      "c:\\users\\sarahht\\appdata\\local\\continuum\\anaconda3\\envs\\expipe\\lib\\site-packages\\ipykernel_launcher.py:53: RuntimeWarning: More than 20 figures have been opened. Figures created through the pyplot interface (`matplotlib.pyplot.figure`) are retained until explicitly closed and may consume too much memory. (To control this warning, see the rcParam `figure.max_open_warning`).\n",
      "c:\\users\\sarahht\\appdata\\local\\continuum\\anaconda3\\envs\\expipe\\lib\\site-packages\\ipykernel_launcher.py:4: RuntimeWarning: More than 20 figures have been opened. Figures created through the pyplot interface (`matplotlib.pyplot.figure`) are retained until explicitly closed and may consume too much memory. (To control this warning, see the rcParam `figure.max_open_warning`).\n",
      "  after removing the cwd from sys.path.\n",
      "c:\\users\\sarahht\\appdata\\local\\continuum\\anaconda3\\envs\\expipe\\lib\\site-packages\\ipykernel_launcher.py:53: RuntimeWarning: More than 20 figures have been opened. Figures created through the pyplot interface (`matplotlib.pyplot.figure`) are retained until explicitly closed and may consume too much memory. (To control this warning, see the rcParam `figure.max_open_warning`).\n",
      "c:\\users\\sarahht\\appdata\\local\\continuum\\anaconda3\\envs\\expipe\\lib\\site-packages\\ipykernel_launcher.py:4: RuntimeWarning: More than 20 figures have been opened. Figures created through the pyplot interface (`matplotlib.pyplot.figure`) are retained until explicitly closed and may consume too much memory. (To control this warning, see the rcParam `figure.max_open_warning`).\n",
      "  after removing the cwd from sys.path.\n",
      "c:\\users\\sarahht\\appdata\\local\\continuum\\anaconda3\\envs\\expipe\\lib\\site-packages\\ipykernel_launcher.py:53: RuntimeWarning: More than 20 figures have been opened. Figures created through the pyplot interface (`matplotlib.pyplot.figure`) are retained until explicitly closed and may consume too much memory. (To control this warning, see the rcParam `figure.max_open_warning`).\n",
      "c:\\users\\sarahht\\appdata\\local\\continuum\\anaconda3\\envs\\expipe\\lib\\site-packages\\ipykernel_launcher.py:4: RuntimeWarning: More than 20 figures have been opened. Figures created through the pyplot interface (`matplotlib.pyplot.figure`) are retained until explicitly closed and may consume too much memory. (To control this warning, see the rcParam `figure.max_open_warning`).\n",
      "  after removing the cwd from sys.path.\n",
      "c:\\users\\sarahht\\appdata\\local\\continuum\\anaconda3\\envs\\expipe\\lib\\site-packages\\ipykernel_launcher.py:53: RuntimeWarning: More than 20 figures have been opened. Figures created through the pyplot interface (`matplotlib.pyplot.figure`) are retained until explicitly closed and may consume too much memory. (To control this warning, see the rcParam `figure.max_open_warning`).\n",
      "c:\\users\\sarahht\\appdata\\local\\continuum\\anaconda3\\envs\\expipe\\lib\\site-packages\\ipykernel_launcher.py:4: RuntimeWarning: More than 20 figures have been opened. Figures created through the pyplot interface (`matplotlib.pyplot.figure`) are retained until explicitly closed and may consume too much memory. (To control this warning, see the rcParam `figure.max_open_warning`).\n",
      "  after removing the cwd from sys.path.\n",
      "c:\\users\\sarahht\\appdata\\local\\continuum\\anaconda3\\envs\\expipe\\lib\\site-packages\\ipykernel_launcher.py:53: RuntimeWarning: More than 20 figures have been opened. Figures created through the pyplot interface (`matplotlib.pyplot.figure`) are retained until explicitly closed and may consume too much memory. (To control this warning, see the rcParam `figure.max_open_warning`).\n",
      "c:\\users\\sarahht\\appdata\\local\\continuum\\anaconda3\\envs\\expipe\\lib\\site-packages\\ipykernel_launcher.py:4: RuntimeWarning: More than 20 figures have been opened. Figures created through the pyplot interface (`matplotlib.pyplot.figure`) are retained until explicitly closed and may consume too much memory. (To control this warning, see the rcParam `figure.max_open_warning`).\n",
      "  after removing the cwd from sys.path.\n",
      "c:\\users\\sarahht\\appdata\\local\\continuum\\anaconda3\\envs\\expipe\\lib\\site-packages\\ipykernel_launcher.py:53: RuntimeWarning: More than 20 figures have been opened. Figures created through the pyplot interface (`matplotlib.pyplot.figure`) are retained until explicitly closed and may consume too much memory. (To control this warning, see the rcParam `figure.max_open_warning`).\n",
      "c:\\users\\sarahht\\appdata\\local\\continuum\\anaconda3\\envs\\expipe\\lib\\site-packages\\ipykernel_launcher.py:4: RuntimeWarning: More than 20 figures have been opened. Figures created through the pyplot interface (`matplotlib.pyplot.figure`) are retained until explicitly closed and may consume too much memory. (To control this warning, see the rcParam `figure.max_open_warning`).\n",
      "  after removing the cwd from sys.path.\n",
      "c:\\users\\sarahht\\appdata\\local\\continuum\\anaconda3\\envs\\expipe\\lib\\site-packages\\ipykernel_launcher.py:53: RuntimeWarning: More than 20 figures have been opened. Figures created through the pyplot interface (`matplotlib.pyplot.figure`) are retained until explicitly closed and may consume too much memory. (To control this warning, see the rcParam `figure.max_open_warning`).\n",
      "c:\\users\\sarahht\\appdata\\local\\continuum\\anaconda3\\envs\\expipe\\lib\\site-packages\\ipykernel_launcher.py:4: RuntimeWarning: More than 20 figures have been opened. Figures created through the pyplot interface (`matplotlib.pyplot.figure`) are retained until explicitly closed and may consume too much memory. (To control this warning, see the rcParam `figure.max_open_warning`).\n",
      "  after removing the cwd from sys.path.\n"
     ]
    },
    {
     "name": "stderr",
     "output_type": "stream",
     "text": [
      "c:\\users\\sarahht\\appdata\\local\\continuum\\anaconda3\\envs\\expipe\\lib\\site-packages\\ipykernel_launcher.py:53: RuntimeWarning: More than 20 figures have been opened. Figures created through the pyplot interface (`matplotlib.pyplot.figure`) are retained until explicitly closed and may consume too much memory. (To control this warning, see the rcParam `figure.max_open_warning`).\n",
      "c:\\users\\sarahht\\appdata\\local\\continuum\\anaconda3\\envs\\expipe\\lib\\site-packages\\ipykernel_launcher.py:4: RuntimeWarning: More than 20 figures have been opened. Figures created through the pyplot interface (`matplotlib.pyplot.figure`) are retained until explicitly closed and may consume too much memory. (To control this warning, see the rcParam `figure.max_open_warning`).\n",
      "  after removing the cwd from sys.path.\n",
      "c:\\users\\sarahht\\appdata\\local\\continuum\\anaconda3\\envs\\expipe\\lib\\site-packages\\ipykernel_launcher.py:53: RuntimeWarning: More than 20 figures have been opened. Figures created through the pyplot interface (`matplotlib.pyplot.figure`) are retained until explicitly closed and may consume too much memory. (To control this warning, see the rcParam `figure.max_open_warning`).\n"
     ]
    },
    {
     "name": "stdout",
     "output_type": "stream",
     "text": [
      "No spikes in channel group 7\n"
     ]
    },
    {
     "name": "stderr",
     "output_type": "stream",
     "text": [
      "c:\\users\\sarahht\\appdata\\local\\continuum\\anaconda3\\envs\\expipe\\lib\\site-packages\\ipykernel_launcher.py:4: RuntimeWarning: More than 20 figures have been opened. Figures created through the pyplot interface (`matplotlib.pyplot.figure`) are retained until explicitly closed and may consume too much memory. (To control this warning, see the rcParam `figure.max_open_warning`).\n",
      "  after removing the cwd from sys.path.\n",
      "c:\\users\\sarahht\\appdata\\local\\continuum\\anaconda3\\envs\\expipe\\lib\\site-packages\\ipykernel_launcher.py:53: RuntimeWarning: More than 20 figures have been opened. Figures created through the pyplot interface (`matplotlib.pyplot.figure`) are retained until explicitly closed and may consume too much memory. (To control this warning, see the rcParam `figure.max_open_warning`).\n",
      "c:\\users\\sarahht\\appdata\\local\\continuum\\anaconda3\\envs\\expipe\\lib\\site-packages\\ipykernel_launcher.py:4: RuntimeWarning: More than 20 figures have been opened. Figures created through the pyplot interface (`matplotlib.pyplot.figure`) are retained until explicitly closed and may consume too much memory. (To control this warning, see the rcParam `figure.max_open_warning`).\n",
      "  after removing the cwd from sys.path.\n",
      "c:\\users\\sarahht\\appdata\\local\\continuum\\anaconda3\\envs\\expipe\\lib\\site-packages\\ipykernel_launcher.py:53: RuntimeWarning: More than 20 figures have been opened. Figures created through the pyplot interface (`matplotlib.pyplot.figure`) are retained until explicitly closed and may consume too much memory. (To control this warning, see the rcParam `figure.max_open_warning`).\n"
     ]
    },
    {
     "name": "stdout",
     "output_type": "stream",
     "text": [
      "No spikes in channel group 10\n"
     ]
    },
    {
     "name": "stderr",
     "output_type": "stream",
     "text": [
      "c:\\users\\sarahht\\appdata\\local\\continuum\\anaconda3\\envs\\expipe\\lib\\site-packages\\ipykernel_launcher.py:4: RuntimeWarning: More than 20 figures have been opened. Figures created through the pyplot interface (`matplotlib.pyplot.figure`) are retained until explicitly closed and may consume too much memory. (To control this warning, see the rcParam `figure.max_open_warning`).\n",
      "  after removing the cwd from sys.path.\n",
      "c:\\users\\sarahht\\appdata\\local\\continuum\\anaconda3\\envs\\expipe\\lib\\site-packages\\ipykernel_launcher.py:53: RuntimeWarning: More than 20 figures have been opened. Figures created through the pyplot interface (`matplotlib.pyplot.figure`) are retained until explicitly closed and may consume too much memory. (To control this warning, see the rcParam `figure.max_open_warning`).\n",
      "c:\\users\\sarahht\\appdata\\local\\continuum\\anaconda3\\envs\\expipe\\lib\\site-packages\\ipykernel_launcher.py:4: RuntimeWarning: More than 20 figures have been opened. Figures created through the pyplot interface (`matplotlib.pyplot.figure`) are retained until explicitly closed and may consume too much memory. (To control this warning, see the rcParam `figure.max_open_warning`).\n",
      "  after removing the cwd from sys.path.\n",
      "c:\\users\\sarahht\\appdata\\local\\continuum\\anaconda3\\envs\\expipe\\lib\\site-packages\\ipykernel_launcher.py:53: RuntimeWarning: More than 20 figures have been opened. Figures created through the pyplot interface (`matplotlib.pyplot.figure`) are retained until explicitly closed and may consume too much memory. (To control this warning, see the rcParam `figure.max_open_warning`).\n",
      "c:\\users\\sarahht\\appdata\\local\\continuum\\anaconda3\\envs\\expipe\\lib\\site-packages\\ipykernel_launcher.py:4: RuntimeWarning: More than 20 figures have been opened. Figures created through the pyplot interface (`matplotlib.pyplot.figure`) are retained until explicitly closed and may consume too much memory. (To control this warning, see the rcParam `figure.max_open_warning`).\n",
      "  after removing the cwd from sys.path.\n",
      "c:\\users\\sarahht\\appdata\\local\\continuum\\anaconda3\\envs\\expipe\\lib\\site-packages\\ipykernel_launcher.py:53: RuntimeWarning: More than 20 figures have been opened. Figures created through the pyplot interface (`matplotlib.pyplot.figure`) are retained until explicitly closed and may consume too much memory. (To control this warning, see the rcParam `figure.max_open_warning`).\n",
      "c:\\users\\sarahht\\appdata\\local\\continuum\\anaconda3\\envs\\expipe\\lib\\site-packages\\ipykernel_launcher.py:4: RuntimeWarning: More than 20 figures have been opened. Figures created through the pyplot interface (`matplotlib.pyplot.figure`) are retained until explicitly closed and may consume too much memory. (To control this warning, see the rcParam `figure.max_open_warning`).\n",
      "  after removing the cwd from sys.path.\n",
      "c:\\users\\sarahht\\appdata\\local\\continuum\\anaconda3\\envs\\expipe\\lib\\site-packages\\ipykernel_launcher.py:53: RuntimeWarning: More than 20 figures have been opened. Figures created through the pyplot interface (`matplotlib.pyplot.figure`) are retained until explicitly closed and may consume too much memory. (To control this warning, see the rcParam `figure.max_open_warning`).\n",
      "c:\\users\\sarahht\\appdata\\local\\continuum\\anaconda3\\envs\\expipe\\lib\\site-packages\\ipykernel_launcher.py:4: RuntimeWarning: More than 20 figures have been opened. Figures created through the pyplot interface (`matplotlib.pyplot.figure`) are retained until explicitly closed and may consume too much memory. (To control this warning, see the rcParam `figure.max_open_warning`).\n",
      "  after removing the cwd from sys.path.\n",
      "c:\\users\\sarahht\\appdata\\local\\continuum\\anaconda3\\envs\\expipe\\lib\\site-packages\\ipykernel_launcher.py:53: RuntimeWarning: More than 20 figures have been opened. Figures created through the pyplot interface (`matplotlib.pyplot.figure`) are retained until explicitly closed and may consume too much memory. (To control this warning, see the rcParam `figure.max_open_warning`).\n",
      "c:\\users\\sarahht\\appdata\\local\\continuum\\anaconda3\\envs\\expipe\\lib\\site-packages\\ipykernel_launcher.py:4: RuntimeWarning: More than 20 figures have been opened. Figures created through the pyplot interface (`matplotlib.pyplot.figure`) are retained until explicitly closed and may consume too much memory. (To control this warning, see the rcParam `figure.max_open_warning`).\n",
      "  after removing the cwd from sys.path.\n",
      "c:\\users\\sarahht\\appdata\\local\\continuum\\anaconda3\\envs\\expipe\\lib\\site-packages\\ipykernel_launcher.py:53: RuntimeWarning: More than 20 figures have been opened. Figures created through the pyplot interface (`matplotlib.pyplot.figure`) are retained until explicitly closed and may consume too much memory. (To control this warning, see the rcParam `figure.max_open_warning`).\n",
      "c:\\users\\sarahht\\appdata\\local\\continuum\\anaconda3\\envs\\expipe\\lib\\site-packages\\ipykernel_launcher.py:4: RuntimeWarning: More than 20 figures have been opened. Figures created through the pyplot interface (`matplotlib.pyplot.figure`) are retained until explicitly closed and may consume too much memory. (To control this warning, see the rcParam `figure.max_open_warning`).\n",
      "  after removing the cwd from sys.path.\n",
      "c:\\users\\sarahht\\appdata\\local\\continuum\\anaconda3\\envs\\expipe\\lib\\site-packages\\ipykernel_launcher.py:53: RuntimeWarning: More than 20 figures have been opened. Figures created through the pyplot interface (`matplotlib.pyplot.figure`) are retained until explicitly closed and may consume too much memory. (To control this warning, see the rcParam `figure.max_open_warning`).\n",
      "c:\\users\\sarahht\\appdata\\local\\continuum\\anaconda3\\envs\\expipe\\lib\\site-packages\\ipykernel_launcher.py:4: RuntimeWarning: More than 20 figures have been opened. Figures created through the pyplot interface (`matplotlib.pyplot.figure`) are retained until explicitly closed and may consume too much memory. (To control this warning, see the rcParam `figure.max_open_warning`).\n",
      "  after removing the cwd from sys.path.\n",
      "c:\\users\\sarahht\\appdata\\local\\continuum\\anaconda3\\envs\\expipe\\lib\\site-packages\\ipykernel_launcher.py:53: RuntimeWarning: More than 20 figures have been opened. Figures created through the pyplot interface (`matplotlib.pyplot.figure`) are retained until explicitly closed and may consume too much memory. (To control this warning, see the rcParam `figure.max_open_warning`).\n",
      "c:\\users\\sarahht\\appdata\\local\\continuum\\anaconda3\\envs\\expipe\\lib\\site-packages\\ipykernel_launcher.py:4: RuntimeWarning: More than 20 figures have been opened. Figures created through the pyplot interface (`matplotlib.pyplot.figure`) are retained until explicitly closed and may consume too much memory. (To control this warning, see the rcParam `figure.max_open_warning`).\n",
      "  after removing the cwd from sys.path.\n",
      "c:\\users\\sarahht\\appdata\\local\\continuum\\anaconda3\\envs\\expipe\\lib\\site-packages\\ipykernel_launcher.py:53: RuntimeWarning: More than 20 figures have been opened. Figures created through the pyplot interface (`matplotlib.pyplot.figure`) are retained until explicitly closed and may consume too much memory. (To control this warning, see the rcParam `figure.max_open_warning`).\n",
      "c:\\users\\sarahht\\appdata\\local\\continuum\\anaconda3\\envs\\expipe\\lib\\site-packages\\ipykernel_launcher.py:4: RuntimeWarning: More than 20 figures have been opened. Figures created through the pyplot interface (`matplotlib.pyplot.figure`) are retained until explicitly closed and may consume too much memory. (To control this warning, see the rcParam `figure.max_open_warning`).\n",
      "  after removing the cwd from sys.path.\n",
      "c:\\users\\sarahht\\appdata\\local\\continuum\\anaconda3\\envs\\expipe\\lib\\site-packages\\ipykernel_launcher.py:53: RuntimeWarning: More than 20 figures have been opened. Figures created through the pyplot interface (`matplotlib.pyplot.figure`) are retained until explicitly closed and may consume too much memory. (To control this warning, see the rcParam `figure.max_open_warning`).\n",
      "c:\\users\\sarahht\\appdata\\local\\continuum\\anaconda3\\envs\\expipe\\lib\\site-packages\\ipykernel_launcher.py:4: RuntimeWarning: More than 20 figures have been opened. Figures created through the pyplot interface (`matplotlib.pyplot.figure`) are retained until explicitly closed and may consume too much memory. (To control this warning, see the rcParam `figure.max_open_warning`).\n",
      "  after removing the cwd from sys.path.\n"
     ]
    },
    {
     "name": "stderr",
     "output_type": "stream",
     "text": [
      "c:\\users\\sarahht\\appdata\\local\\continuum\\anaconda3\\envs\\expipe\\lib\\site-packages\\ipykernel_launcher.py:53: RuntimeWarning: More than 20 figures have been opened. Figures created through the pyplot interface (`matplotlib.pyplot.figure`) are retained until explicitly closed and may consume too much memory. (To control this warning, see the rcParam `figure.max_open_warning`).\n",
      "c:\\users\\sarahht\\appdata\\local\\continuum\\anaconda3\\envs\\expipe\\lib\\site-packages\\ipykernel_launcher.py:4: RuntimeWarning: More than 20 figures have been opened. Figures created through the pyplot interface (`matplotlib.pyplot.figure`) are retained until explicitly closed and may consume too much memory. (To control this warning, see the rcParam `figure.max_open_warning`).\n",
      "  after removing the cwd from sys.path.\n",
      "c:\\users\\sarahht\\appdata\\local\\continuum\\anaconda3\\envs\\expipe\\lib\\site-packages\\ipykernel_launcher.py:53: RuntimeWarning: More than 20 figures have been opened. Figures created through the pyplot interface (`matplotlib.pyplot.figure`) are retained until explicitly closed and may consume too much memory. (To control this warning, see the rcParam `figure.max_open_warning`).\n",
      "c:\\users\\sarahht\\appdata\\local\\continuum\\anaconda3\\envs\\expipe\\lib\\site-packages\\ipykernel_launcher.py:4: RuntimeWarning: More than 20 figures have been opened. Figures created through the pyplot interface (`matplotlib.pyplot.figure`) are retained until explicitly closed and may consume too much memory. (To control this warning, see the rcParam `figure.max_open_warning`).\n",
      "  after removing the cwd from sys.path.\n",
      "c:\\users\\sarahht\\appdata\\local\\continuum\\anaconda3\\envs\\expipe\\lib\\site-packages\\ipykernel_launcher.py:53: RuntimeWarning: More than 20 figures have been opened. Figures created through the pyplot interface (`matplotlib.pyplot.figure`) are retained until explicitly closed and may consume too much memory. (To control this warning, see the rcParam `figure.max_open_warning`).\n",
      "c:\\users\\sarahht\\appdata\\local\\continuum\\anaconda3\\envs\\expipe\\lib\\site-packages\\ipykernel_launcher.py:4: RuntimeWarning: More than 20 figures have been opened. Figures created through the pyplot interface (`matplotlib.pyplot.figure`) are retained until explicitly closed and may consume too much memory. (To control this warning, see the rcParam `figure.max_open_warning`).\n",
      "  after removing the cwd from sys.path.\n",
      "c:\\users\\sarahht\\appdata\\local\\continuum\\anaconda3\\envs\\expipe\\lib\\site-packages\\ipykernel_launcher.py:53: RuntimeWarning: More than 20 figures have been opened. Figures created through the pyplot interface (`matplotlib.pyplot.figure`) are retained until explicitly closed and may consume too much memory. (To control this warning, see the rcParam `figure.max_open_warning`).\n",
      "c:\\users\\sarahht\\appdata\\local\\continuum\\anaconda3\\envs\\expipe\\lib\\site-packages\\ipykernel_launcher.py:4: RuntimeWarning: More than 20 figures have been opened. Figures created through the pyplot interface (`matplotlib.pyplot.figure`) are retained until explicitly closed and may consume too much memory. (To control this warning, see the rcParam `figure.max_open_warning`).\n",
      "  after removing the cwd from sys.path.\n",
      "c:\\users\\sarahht\\appdata\\local\\continuum\\anaconda3\\envs\\expipe\\lib\\site-packages\\ipykernel_launcher.py:53: RuntimeWarning: More than 20 figures have been opened. Figures created through the pyplot interface (`matplotlib.pyplot.figure`) are retained until explicitly closed and may consume too much memory. (To control this warning, see the rcParam `figure.max_open_warning`).\n",
      "c:\\users\\sarahht\\appdata\\local\\continuum\\anaconda3\\envs\\expipe\\lib\\site-packages\\ipykernel_launcher.py:4: RuntimeWarning: More than 20 figures have been opened. Figures created through the pyplot interface (`matplotlib.pyplot.figure`) are retained until explicitly closed and may consume too much memory. (To control this warning, see the rcParam `figure.max_open_warning`).\n",
      "  after removing the cwd from sys.path.\n",
      "c:\\users\\sarahht\\appdata\\local\\continuum\\anaconda3\\envs\\expipe\\lib\\site-packages\\ipykernel_launcher.py:53: RuntimeWarning: More than 20 figures have been opened. Figures created through the pyplot interface (`matplotlib.pyplot.figure`) are retained until explicitly closed and may consume too much memory. (To control this warning, see the rcParam `figure.max_open_warning`).\n",
      "c:\\users\\sarahht\\appdata\\local\\continuum\\anaconda3\\envs\\expipe\\lib\\site-packages\\ipykernel_launcher.py:4: RuntimeWarning: More than 20 figures have been opened. Figures created through the pyplot interface (`matplotlib.pyplot.figure`) are retained until explicitly closed and may consume too much memory. (To control this warning, see the rcParam `figure.max_open_warning`).\n",
      "  after removing the cwd from sys.path.\n",
      "c:\\users\\sarahht\\appdata\\local\\continuum\\anaconda3\\envs\\expipe\\lib\\site-packages\\ipykernel_launcher.py:53: RuntimeWarning: More than 20 figures have been opened. Figures created through the pyplot interface (`matplotlib.pyplot.figure`) are retained until explicitly closed and may consume too much memory. (To control this warning, see the rcParam `figure.max_open_warning`).\n"
     ]
    }
   ],
   "source": [
    "plt.rcParams['image.cmap'] = 'viridis'\n",
    "a, at = map(data_loader.head_direction(action_id).get, ['a', 't'])\n",
    "\n",
    "if t_start is not None and t_stop is not None:\n",
    "    mask = (t < t_stop) & (t > t_start)\n",
    "    x, y, t = x[mask], y[mask], t[mask]\n",
    "\n",
    "for channel_id in channel_ids:\n",
    "    spike_trains = data_loader.spike_trains(action_id, channel_id)\n",
    "    if len(spike_trains) == 0:\n",
    "        print('No spikes in channel group {}'.format(channel_id))\n",
    "        continue\n",
    "            \n",
    "#     spike_trains = dp.sort_by_cluster_id(spike_trains)\n",
    "    for unit_id, spike_times in spike_trains.items():\n",
    "        wf = data_loader.template(action_id, channel_id, unit_id).data\n",
    "        if t_start is not None and t_stop is not None:\n",
    "            spike_mask = (spike_times < t_stop) & (spike_times > t_start)\n",
    "            spike_times = spike_times[spike_mask]\n",
    "        make_rate_map(\n",
    "            x, y, t, spike_times, \n",
    "            a, at, \n",
    "            binsize, smoothing, mask_zero_occupancy=True)\n",
    "        plot_waveform(wf)"
   ]
  },
  {
   "cell_type": "code",
   "execution_count": 49,
   "metadata": {},
   "outputs": [],
   "source": [
    "#plt.rcParams['image.cmap'] = 'rocket'\n",
    "#plt.rcParams['image.cmap'] = 'viridis' =blå bakgrunn"
   ]
  },
  {
   "cell_type": "code",
   "execution_count": null,
   "metadata": {},
   "outputs": [],
   "source": []
  },
  {
   "cell_type": "code",
   "execution_count": null,
   "metadata": {},
   "outputs": [],
   "source": []
  }
 ],
 "metadata": {
  "kernelspec": {
   "display_name": "Python 3",
   "language": "python",
   "name": "python3"
  },
  "language_info": {
   "codemirror_mode": {
    "name": "ipython",
    "version": 3
   },
   "file_extension": ".py",
   "mimetype": "text/x-python",
   "name": "python",
   "nbconvert_exporter": "python",
   "pygments_lexer": "ipython3",
   "version": "3.6.10"
  }
 },
 "nbformat": 4,
 "nbformat_minor": 4
}
