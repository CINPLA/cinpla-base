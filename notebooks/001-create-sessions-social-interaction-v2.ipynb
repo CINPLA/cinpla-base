{
 "cells": [
  {
   "cell_type": "markdown",
   "metadata": {},
   "source": [
    "# Creates an action containing a csv file with social interaction annotations"
   ]
  },
  {
   "cell_type": "code",
   "execution_count": 8,
   "metadata": {},
   "outputs": [
    {
     "name": "stdout",
     "output_type": "stream",
     "text": [
      "The autoreload extension is already loaded. To reload it, use:\n",
      "  %reload_ext autoreload\n"
     ]
    }
   ],
   "source": [
    "%load_ext autoreload\n",
    "%autoreload 2"
   ]
  },
  {
   "cell_type": "code",
   "execution_count": 9,
   "metadata": {},
   "outputs": [],
   "source": [
    "import expipe\n",
    "from expipe import Browser\n",
    "import pandas as pd\n",
    "import numpy as np\n",
    "import sys\n",
    "import exdir\n",
    "\n",
    "sys.path.append('../ca2-mec')\n",
    "import data_processing as dp"
   ]
  },
  {
   "cell_type": "code",
   "execution_count": 10,
   "metadata": {},
   "outputs": [
    {
     "name": "stdout",
     "output_type": "stream",
     "text": [
      "['002-121220-1', '002-121220-2', '002-121220-3', '002-121220-4', '002-121220-5']\n"
     ]
    }
   ],
   "source": [
    "project_path = dp.project_path()\n",
    "#project_path = '../../CA2prosjektmappe'\n",
    "project = expipe.get_project(project_path)\n",
    "actions = project.actions\n",
    "actions_id = list(actions)\n",
    "actions_id = [\"002-121220-1\", \"002-121220-2\", \"002-121220-3\", \"002-121220-4\", \"002-121220-5\"] # \"001-181220-3\", \"001-181220-4\", \"001-181220-5\", \"001-181220-6\"\n",
    "\n",
    "print(actions_id)"
   ]
  },
  {
   "cell_type": "code",
   "execution_count": 11,
   "metadata": {},
   "outputs": [
    {
     "name": "stdout",
     "output_type": "stream",
     "text": [
      "002-121220-1\n",
      "002-121220-2\n",
      "002-121220-3\n",
      "002-121220-4\n",
      "002-121220-5\n"
     ]
    }
   ],
   "source": [
    "relevant_actions = []\n",
    "for action_id in actions_id:\n",
    "    # skip actions without main.exdir (i.e. without data)\n",
    "    try:\n",
    "        action_data_path = dp.get_data_path(actions[action_id])\n",
    "    except (TypeError, KeyError):\n",
    "        continue\n",
    "        \n",
    "    exdir_object =  exdir.File(action_data_path)#, plugins=[exdir.plugins.quantities])\n",
    "    \n",
    "    # skip actions without tracking information\n",
    "    try:\n",
    "        exdir_object['processing']['tracking']\n",
    "    except (TypeError, KeyError):\n",
    "        continue\n",
    "        \n",
    "    print(action_id)\n",
    "    relevant_actions.append(action_id)\n",
    "\n",
    "tot_time = ['unspecified']*len(relevant_actions)\n",
    "top_right_time = ['unspecified']*len(relevant_actions)\n",
    "bottom_left_time = ['unspecified']*len(relevant_actions)\n",
    "sdi = ['unspecified']*len(relevant_actions)"
   ]
  },
  {
   "cell_type": "code",
   "execution_count": 12,
   "metadata": {},
   "outputs": [
    {
     "name": "stdout",
     "output_type": "stream",
     "text": [
      "         action total-time-in-seconds time-spent-in-top-right-social-zone  \\\n",
      "0  002-121220-1           unspecified                         unspecified   \n",
      "1  002-121220-2           unspecified                         unspecified   \n",
      "2  002-121220-3           unspecified                         unspecified   \n",
      "3  002-121220-4           unspecified                         unspecified   \n",
      "4  002-121220-5           unspecified                         unspecified   \n",
      "\n",
      "  time-spent-in-bottom-left-social-zone social-discrimination-index  \n",
      "0                           unspecified                 unspecified  \n",
      "1                           unspecified                 unspecified  \n",
      "2                           unspecified                 unspecified  \n",
      "3                           unspecified                 unspecified  \n",
      "4                           unspecified                 unspecified  \n"
     ]
    }
   ],
   "source": [
    "data = {'action': relevant_actions, 'total-time-in-seconds': tot_time, 'time-spent-in-top-right-social-zone': top_right_time, 'time-spent-in-bottom-left-social-zone': bottom_left_time, 'social-discrimination-index': sdi}\n",
    "df = pd.DataFrame(data)\n",
    "print(df.head())"
   ]
  },
  {
   "cell_type": "code",
   "execution_count": 13,
   "metadata": {},
   "outputs": [],
   "source": [
    "dataframes = project.require_action('dataframes')"
   ]
  },
  {
   "cell_type": "code",
   "execution_count": 14,
   "metadata": {},
   "outputs": [],
   "source": [
    "dataframes.data['sessions'] = 'sessions.csv'\n",
    "df.to_csv(dataframes.data_path('sessions'), index=False)"
   ]
  },
  {
   "cell_type": "code",
   "execution_count": null,
   "metadata": {},
   "outputs": [],
   "source": [
    "\n"
   ]
  },
  {
   "cell_type": "code",
   "execution_count": null,
   "metadata": {},
   "outputs": [],
   "source": []
  }
 ],
 "metadata": {
  "kernelspec": {
   "display_name": "Python 3",
   "language": "python",
   "name": "python3"
  },
  "language_info": {
   "codemirror_mode": {
    "name": "ipython",
    "version": 3
   },
   "file_extension": ".py",
   "mimetype": "text/x-python",
   "name": "python",
   "nbconvert_exporter": "python",
   "pygments_lexer": "ipython3",
   "version": "3.6.12"
  }
 },
 "nbformat": 4,
 "nbformat_minor": 2
}
