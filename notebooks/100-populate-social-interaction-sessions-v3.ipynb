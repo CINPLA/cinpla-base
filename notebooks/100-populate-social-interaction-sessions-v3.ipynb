{
 "cells": [
  {
   "cell_type": "code",
   "execution_count": 1,
   "metadata": {},
   "outputs": [],
   "source": [
    "%load_ext autoreload\n",
    "%autoreload 2"
   ]
  },
  {
   "cell_type": "code",
   "execution_count": 2,
   "metadata": {},
   "outputs": [],
   "source": [
    "import expipe\n",
    "from expipe import Browser\n",
    "import pandas as pd\n",
    "import numpy as np\n",
    "import sys\n",
    "import exdir\n",
    "\n",
    "sys.path.append('../ca2-mec')\n",
    "import data_processing as dp"
   ]
  },
  {
   "cell_type": "code",
   "execution_count": 3,
   "metadata": {},
   "outputs": [],
   "source": [
    "project_path = dp.project_path()\n",
    "#project_path = '../../CA2prosjektmappe'\n",
    "project = expipe.get_project(project_path)\n",
    "actions = project.actions"
   ]
  },
  {
   "cell_type": "code",
   "execution_count": 4,
   "metadata": {},
   "outputs": [
    {
     "name": "stdout",
     "output_type": "stream",
     "text": [
      "5 5\n"
     ]
    }
   ],
   "source": [
    "dataframes = actions['dataframes']\n",
    "sessions = pd.read_csv(dataframes.data_path('sessions'))\n",
    "sessions.head()\n",
    "print(len(sessions), len(np.unique(sessions.action)))"
   ]
  },
  {
   "cell_type": "code",
   "execution_count": 5,
   "metadata": {},
   "outputs": [],
   "source": [
    "def process(data_loader: dp.Data, y0:float=0.7,x0:float=0.3,y1:float=0.3,x1:float=0.7,\n",
    "           m_y0:float=0.12,m_x0:float=0.12,m_y1:float=0.12,m_x1:float=0.12, t_start:float=0.0, t_stop:float=None):\n",
    "    \"\"\"\n",
    "    Args:\n",
    "        y0: top left y-coordinate for social boundary\n",
    "        x0: top left x-coordinate for social boundary\n",
    "        y1: bottom right y-coordinate for social boundary\n",
    "        x1: bottom right x-coordinate for social boundary\n",
    "        m_y0: top left transparent box social margin y-direction\n",
    "        m_x0: top left transparent box social margin x-direction\n",
    "        m_y1: bottom right transparent box social margin y-direction\n",
    "        m_x1: bottom right transparent box social margin x-direction\n",
    "        t_start: Choose tracking data START time (IN SECONDS :D)\n",
    "        t_stop: Choose tracking data END time (IN SECONDS :D)\n",
    "    \"\"\"\n",
    "    def process_row(row) -> None:\n",
    "        action_id = row['action']\n",
    "        x, y, t, speed = map(data_loader.tracking(action_id).get, ['x', 'y', 't', 'v']) \n",
    "        \n",
    "        # Choose tracking data time interval (IN SECONDS :D)\n",
    "        if t_start is not None and t_stop is not None:\n",
    "            mask = (t < t_stop) & (t > t_start)\n",
    "            x, y, t = x[mask], y[mask], t[mask]\n",
    "        \n",
    "        total_recording_time = t[-1]\n",
    "\n",
    "        # Create social zone boundaries\n",
    "        s_y0,s_x0,s_y1,s_x1 = y0-m_y0,x0+m_x0,y1+m_y1,x1-m_x1\n",
    "\n",
    "        # top left social indecies \n",
    "        mask = x < s_x0\n",
    "        mask *= (y > s_y0)\n",
    "        # bottom right social indecies\n",
    "        mask2 = x > s_x1\n",
    "        mask2 *= (y < s_y1)\n",
    "\n",
    "        # Can use masks to index the spatial coordinates corresponding to social interactions.\n",
    "        # This is, however, not a wanted/needed quantity for storage and, therefore, skipped.\n",
    "        \"\"\"\n",
    "        mask += mask2\n",
    "        social_x = x[mask]\n",
    "        social_y = y[mask]\n",
    "        \"\"\"\n",
    "        \n",
    "        # Assuming uniformly spaced recording times and (the time array) t is cumulative, then:\n",
    "        samp_freq = len(t) / t[-1]\n",
    "        top_right_time = np.sum(mask) / samp_freq\n",
    "        bottom_left_time = np.sum(mask2) / samp_freq\n",
    "        #print(samp_freq, time_spent_in_zone_1, time_spent_in_zone_2, np.sum(mask), np.sum(mask2))\n",
    "        \n",
    "        # Social discrimination index between time spent in close proximity to the transparent boxes\n",
    "        # High positive value (close to 1) indicates preferred socialization with rat in top right corner. \n",
    "        # In contrast, high negative value (close to -1) indicates preferred socialization with rat \n",
    "        # in bottom left corner.\n",
    "        sdi = (top_right_time - bottom_left_time) / (top_right_time + bottom_left_time)\n",
    "        \n",
    "        # Save values\n",
    "        row['total-time-in-seconds'] = total_recording_time\n",
    "        row['time-spent-in-top-right-social-zone'] = top_right_time\n",
    "        row['time-spent-in-bottom-left-social-zone'] = bottom_left_time\n",
    "        row['social-discrimination-index'] = sdi\n",
    "        print(row)\n",
    "        \n",
    "    return process_row\n"
   ]
  },
  {
   "cell_type": "code",
   "execution_count": 6,
   "metadata": {
    "scrolled": false
   },
   "outputs": [
    {
     "name": "stdout",
     "output_type": "stream",
     "text": [
      "action                                   013-050521-1\n",
      "total-time-in-seconds                         299.997\n",
      "time-spent-in-top-right-social-zone           61.4334\n",
      "time-spent-in-bottom-left-social-zone         95.2053\n",
      "social-discrimination-index                 -0.215604\n",
      "Name: 0, dtype: object\n",
      "action                                   013-050521-2\n",
      "total-time-in-seconds                             300\n",
      "time-spent-in-top-right-social-zone            30.111\n",
      "time-spent-in-bottom-left-social-zone         65.6622\n",
      "social-discrimination-index                 -0.371202\n",
      "Name: 1, dtype: object\n",
      "action                                   013-050521-3\n",
      "total-time-in-seconds                         299.994\n",
      "time-spent-in-top-right-social-zone           51.6124\n",
      "time-spent-in-bottom-left-social-zone         66.4631\n",
      "social-discrimination-index                 -0.125773\n",
      "Name: 2, dtype: object\n",
      "action                                   013-050521-4\n",
      "total-time-in-seconds                         299.992\n",
      "time-spent-in-top-right-social-zone           48.9536\n",
      "time-spent-in-bottom-left-social-zone          26.402\n",
      "social-discrimination-index                   0.29927\n",
      "Name: 3, dtype: object\n",
      "action                                   013-050521-5\n",
      "total-time-in-seconds                         299.998\n",
      "time-spent-in-top-right-social-zone           27.6126\n",
      "time-spent-in-bottom-left-social-zone         20.1919\n",
      "social-discrimination-index                   0.15523\n",
      "Name: 4, dtype: object\n"
     ]
    },
    {
     "data": {
      "text/plain": [
       "0    None\n",
       "1    None\n",
       "2    None\n",
       "3    None\n",
       "4    None\n",
       "dtype: object"
      ]
     },
     "execution_count": 6,
     "metadata": {},
     "output_type": "execute_result"
    }
   ],
   "source": [
    "max_speed = 1 # m/s only used for speed score\n",
    "min_speed = 0.02 # m/s only used for speed score\n",
    "position_sampling_rate = 100 # for interpolation\n",
    "position_low_pass_frequency = 6 # for low pass filtering of position\n",
    "\n",
    "box_size = [1.0, 1.0]\n",
    "bin_size=0.01\n",
    "#smoothing = 0.05\n",
    "baseline_duration = None\n",
    "\n",
    "# Constants describing the transparent boxes and social margin used for annotation of social interactions\n",
    "# See the function \"process\" in the cell above for a description.\n",
    "y0,x0,y1,x1 = 0.68, 0.3, 0.31, 0.68 # manually adjust box-borders\n",
    "m_y0,m_x0,m_y1,m_x1=0.12, 0.12, 0.12, 0.12\n",
    "t_start,t_stop = 0.0,300\n",
    "\n",
    "\n",
    "data_loader = dp.Data(\n",
    "    position_sampling_rate=position_sampling_rate, \n",
    "    position_low_pass_frequency=position_low_pass_frequency,\n",
    "    box_size=box_size, bin_size=bin_size, stim_mask=False, baseline_duration=baseline_duration, \n",
    ")\n",
    "\n",
    "\n",
    "\n",
    "sessions.apply(process(data_loader,y0,x0,y1,x1,m_y0,m_x0,m_y1,m_x1,t_start,t_stop), axis=1)"
   ]
  },
  {
   "cell_type": "code",
   "execution_count": null,
   "metadata": {},
   "outputs": [],
   "source": [
    "sessions.to_csv(dataframes.data_path('sessions'), index=False)\n",
    "#rediger navn i fileexplorer"
   ]
  },
  {
   "cell_type": "code",
   "execution_count": null,
   "metadata": {},
   "outputs": [],
   "source": []
  },
  {
   "cell_type": "code",
   "execution_count": null,
   "metadata": {},
   "outputs": [],
   "source": []
  }
 ],
 "metadata": {
  "kernelspec": {
   "display_name": "Python 3",
   "language": "python",
   "name": "python3"
  },
  "language_info": {
   "codemirror_mode": {
    "name": "ipython",
    "version": 3
   },
   "file_extension": ".py",
   "mimetype": "text/x-python",
   "name": "python",
   "nbconvert_exporter": "python",
   "pygments_lexer": "ipython3",
   "version": "3.6.12"
  }
 },
 "nbformat": 4,
 "nbformat_minor": 4
}
