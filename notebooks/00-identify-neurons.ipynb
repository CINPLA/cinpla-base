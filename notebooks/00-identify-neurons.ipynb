{
 "cells": [
  {
   "cell_type": "code",
   "execution_count": 1,
   "metadata": {},
   "outputs": [],
   "source": [
    "%load_ext autoreload\n",
    "%autoreload 2"
   ]
  },
  {
   "cell_type": "code",
   "execution_count": 2,
   "metadata": {},
   "outputs": [],
   "source": [
    "import os\n",
    "import expipe\n",
    "import pathlib\n",
    "import numpy as np\n",
    "import sys\n",
    "sys.path.append('../ca2-mec')\n",
    "import data_processing as dp\n",
    "#import septum_mec.analysis.data_processing as dp\n",
    "from trackunitmulticomparison import TrackMultipleSessions\n",
    "#from septum_mec.analysis.registration import store_notebook\n",
    "import re\n",
    "import joblib\n",
    "import multiprocessing\n",
    "import shutil\n",
    "import psutil\n",
    "import pandas as pd\n",
    "import matplotlib.pyplot as plt\n",
    "import quantities as pq\n",
    "import exdir\n",
    "from distutils.dir_util import copy_tree\n",
    "from datetime import timedelta\n",
    "from tqdm import tqdm_notebook as tqdm\n",
    "#from septum_mec.analysis.trackunitmulticomparison import TrackMultipleSessions\n",
    "import networkx as nx\n",
    "#from nxpd import draw\n",
    "%matplotlib inline"
   ]
  },
  {
   "cell_type": "code",
   "execution_count": 3,
   "metadata": {},
   "outputs": [],
   "source": [
    "project_path = dp.project_path()\n",
    "\n",
    "project = expipe.get_project(project_path)\n",
    "actions = project.actions"
   ]
  },
  {
   "cell_type": "code",
   "execution_count": 4,
   "metadata": {},
   "outputs": [],
   "source": [
    "output = pathlib.Path('output/identify_neurons')\n",
    "output.mkdir(parents=True, exist_ok=True)"
   ]
  },
  {
   "cell_type": "code",
   "execution_count": 5,
   "metadata": {},
   "outputs": [],
   "source": [
    "identify_neurons = project.require_action('identify-neurons')"
   ]
  },
  {
   "cell_type": "code",
   "execution_count": 6,
   "metadata": {},
   "outputs": [
    {
     "data": {
      "text/plain": [
       "{'registered': '2020-07-09T19:50:36',\n",
       " 'datetime': '2020-07-09T18:47:06',\n",
       " 'type': 'Recording',\n",
       " 'tags': ['open-ephys', 'experiment'],\n",
       " 'entities': ['133'],\n",
       " 'users': ['sarah'],\n",
       " 'location': 'ibv',\n",
       " 'data': {'main': 'actions\\\\133-090720-4\\\\data\\\\main.exdir'}}"
      ]
     },
     "execution_count": 6,
     "metadata": {},
     "output_type": "execute_result"
    }
   ],
   "source": [
    "actions['133-090720-4'].attributes"
   ]
  },
  {
   "cell_type": "code",
   "execution_count": 7,
   "metadata": {},
   "outputs": [],
   "source": [
    "data_loader = dp.Data()"
   ]
  },
  {
   "cell_type": "code",
   "execution_count": 8,
   "metadata": {},
   "outputs": [],
   "source": [
    "skip_actions = [\n",
    "\n",
    "]"
   ]
  },
  {
   "cell_type": "code",
   "execution_count": 9,
   "metadata": {},
   "outputs": [],
   "source": [
    "sessions = []\n",
    "for action in actions.values():\n",
    "    if action.id in skip_actions:\n",
    "        continue\n",
    "    if action.type != 'Recording':\n",
    "        continue\n",
    "    action_data_path = dp.get_data_path(action)\n",
    "    exdir_object =  exdir.File(action_data_path)\n",
    "    if 'processing' not in exdir_object:\n",
    "        continue\n",
    "        \n",
    "    processing = exdir_object['processing']\n",
    "    \n",
    "    if not 'electrophysiology' in processing:\n",
    "        continue\n",
    "    elphys = processing['electrophysiology']\n",
    "    if 'spikesorting' not in elphys:\n",
    "        continue  \n",
    "\n",
    "    sessions.append({\n",
    "       'action': action.id,\n",
    "       'session': int(action.id.split('-')[-1]),\n",
    "       'entity': int(action.entities[0]),\n",
    "\n",
    "   })\n",
    "sessions = pd.DataFrame(sessions)"
   ]
  },
  {
   "cell_type": "code",
   "execution_count": 10,
   "metadata": {
    "scrolled": false
   },
   "outputs": [
    {
     "data": {
      "text/html": [
       "<div>\n",
       "<style scoped>\n",
       "    .dataframe tbody tr th:only-of-type {\n",
       "        vertical-align: middle;\n",
       "    }\n",
       "\n",
       "    .dataframe tbody tr th {\n",
       "        vertical-align: top;\n",
       "    }\n",
       "\n",
       "    .dataframe thead th {\n",
       "        text-align: right;\n",
       "    }\n",
       "</style>\n",
       "<table border=\"1\" class=\"dataframe\">\n",
       "  <thead>\n",
       "    <tr style=\"text-align: right;\">\n",
       "      <th></th>\n",
       "      <th>action</th>\n",
       "      <th>session</th>\n",
       "      <th>entity</th>\n",
       "    </tr>\n",
       "  </thead>\n",
       "  <tbody>\n",
       "    <tr>\n",
       "      <th>0</th>\n",
       "      <td>133-010720-2</td>\n",
       "      <td>2</td>\n",
       "      <td>133</td>\n",
       "    </tr>\n",
       "    <tr>\n",
       "      <th>1</th>\n",
       "      <td>133-010720-3</td>\n",
       "      <td>3</td>\n",
       "      <td>133</td>\n",
       "    </tr>\n",
       "    <tr>\n",
       "      <th>2</th>\n",
       "      <td>133-020720-1</td>\n",
       "      <td>1</td>\n",
       "      <td>133</td>\n",
       "    </tr>\n",
       "    <tr>\n",
       "      <th>3</th>\n",
       "      <td>133-020720-2</td>\n",
       "      <td>2</td>\n",
       "      <td>133</td>\n",
       "    </tr>\n",
       "    <tr>\n",
       "      <th>4</th>\n",
       "      <td>133-020720-3</td>\n",
       "      <td>3</td>\n",
       "      <td>133</td>\n",
       "    </tr>\n",
       "    <tr>\n",
       "      <th>...</th>\n",
       "      <td>...</td>\n",
       "      <td>...</td>\n",
       "      <td>...</td>\n",
       "    </tr>\n",
       "    <tr>\n",
       "      <th>75</th>\n",
       "      <td>136-070720-2</td>\n",
       "      <td>2</td>\n",
       "      <td>136</td>\n",
       "    </tr>\n",
       "    <tr>\n",
       "      <th>76</th>\n",
       "      <td>136-080720-1</td>\n",
       "      <td>1</td>\n",
       "      <td>136</td>\n",
       "    </tr>\n",
       "    <tr>\n",
       "      <th>77</th>\n",
       "      <td>136-080720-2</td>\n",
       "      <td>2</td>\n",
       "      <td>136</td>\n",
       "    </tr>\n",
       "    <tr>\n",
       "      <th>78</th>\n",
       "      <td>136-080720-3</td>\n",
       "      <td>3</td>\n",
       "      <td>136</td>\n",
       "    </tr>\n",
       "    <tr>\n",
       "      <th>79</th>\n",
       "      <td>136-300620-2</td>\n",
       "      <td>2</td>\n",
       "      <td>136</td>\n",
       "    </tr>\n",
       "  </tbody>\n",
       "</table>\n",
       "<p>80 rows × 3 columns</p>\n",
       "</div>"
      ],
      "text/plain": [
       "          action  session  entity\n",
       "0   133-010720-2        2     133\n",
       "1   133-010720-3        3     133\n",
       "2   133-020720-1        1     133\n",
       "3   133-020720-2        2     133\n",
       "4   133-020720-3        3     133\n",
       "..           ...      ...     ...\n",
       "75  136-070720-2        2     136\n",
       "76  136-080720-1        1     136\n",
       "77  136-080720-2        2     136\n",
       "78  136-080720-3        3     136\n",
       "79  136-300620-2        2     136\n",
       "\n",
       "[80 rows x 3 columns]"
      ]
     },
     "execution_count": 10,
     "metadata": {},
     "output_type": "execute_result"
    }
   ],
   "source": [
    "sessions"
   ]
  },
  {
   "cell_type": "code",
   "execution_count": 11,
   "metadata": {},
   "outputs": [],
   "source": [
    "sessions['date'] = sessions.apply(lambda x: x.action.split('-')[1], axis=1)\n",
    "sessions['entity_date'] = sessions.apply(lambda x: '-'.join(x.action.split('-')[:2]), axis=1)"
   ]
  },
  {
   "cell_type": "code",
   "execution_count": 12,
   "metadata": {},
   "outputs": [],
   "source": [
    "sessions.to_csv(output / 'sessions.csv', index=False)"
   ]
  },
  {
   "cell_type": "markdown",
   "metadata": {},
   "source": [
    "# Identify unique neurons"
   ]
  },
  {
   "cell_type": "code",
   "execution_count": 13,
   "metadata": {},
   "outputs": [],
   "source": [
    "include = [\"133-090720-4\",\n",
    "          \"133-090720-5\",\n",
    "          \"133-090720-6\",\n",
    "          \"133-090720-7\"]"
   ]
  },
  {
   "cell_type": "code",
   "execution_count": 14,
   "metadata": {},
   "outputs": [],
   "source": [
    "sessions_include = sessions.query(\"action.isin(@include)\")"
   ]
  },
  {
   "cell_type": "code",
   "execution_count": 15,
   "metadata": {},
   "outputs": [
    {
     "data": {
      "text/html": [
       "<div>\n",
       "<style scoped>\n",
       "    .dataframe tbody tr th:only-of-type {\n",
       "        vertical-align: middle;\n",
       "    }\n",
       "\n",
       "    .dataframe tbody tr th {\n",
       "        vertical-align: top;\n",
       "    }\n",
       "\n",
       "    .dataframe thead th {\n",
       "        text-align: right;\n",
       "    }\n",
       "</style>\n",
       "<table border=\"1\" class=\"dataframe\">\n",
       "  <thead>\n",
       "    <tr style=\"text-align: right;\">\n",
       "      <th></th>\n",
       "      <th>action</th>\n",
       "      <th>session</th>\n",
       "      <th>entity</th>\n",
       "      <th>date</th>\n",
       "      <th>entity_date</th>\n",
       "    </tr>\n",
       "  </thead>\n",
       "  <tbody>\n",
       "    <tr>\n",
       "      <th>28</th>\n",
       "      <td>133-090720-4</td>\n",
       "      <td>4</td>\n",
       "      <td>133</td>\n",
       "      <td>090720</td>\n",
       "      <td>133-090720</td>\n",
       "    </tr>\n",
       "    <tr>\n",
       "      <th>29</th>\n",
       "      <td>133-090720-5</td>\n",
       "      <td>5</td>\n",
       "      <td>133</td>\n",
       "      <td>090720</td>\n",
       "      <td>133-090720</td>\n",
       "    </tr>\n",
       "    <tr>\n",
       "      <th>30</th>\n",
       "      <td>133-090720-6</td>\n",
       "      <td>6</td>\n",
       "      <td>133</td>\n",
       "      <td>090720</td>\n",
       "      <td>133-090720</td>\n",
       "    </tr>\n",
       "    <tr>\n",
       "      <th>31</th>\n",
       "      <td>133-090720-7</td>\n",
       "      <td>7</td>\n",
       "      <td>133</td>\n",
       "      <td>090720</td>\n",
       "      <td>133-090720</td>\n",
       "    </tr>\n",
       "  </tbody>\n",
       "</table>\n",
       "</div>"
      ],
      "text/plain": [
       "          action  session  entity    date entity_date\n",
       "28  133-090720-4        4     133  090720  133-090720\n",
       "29  133-090720-5        5     133  090720  133-090720\n",
       "30  133-090720-6        6     133  090720  133-090720\n",
       "31  133-090720-7        7     133  090720  133-090720"
      ]
     },
     "execution_count": 15,
     "metadata": {},
     "output_type": "execute_result"
    }
   ],
   "source": [
    "sessions_include"
   ]
  },
  {
   "cell_type": "code",
   "execution_count": 19,
   "metadata": {},
   "outputs": [
    {
     "name": "stdout",
     "output_type": "stream",
     "text": [
      "Processing 133\n"
     ]
    },
    {
     "data": {
      "application/vnd.jupyter.widget-view+json": {
       "model_id": "a1eb44843c204eb4958150d712dd60ef",
       "version_major": 2,
       "version_minor": 0
      },
      "text/plain": [
       "HBox(children=(FloatProgress(value=0.0, max=6.0), HTML(value='')))"
      ]
     },
     "metadata": {},
     "output_type": "display_data"
    },
    {
     "name": "stdout",
     "output_type": "stream",
     "text": [
      "\n"
     ]
    }
   ],
   "source": [
    "# save graphs\n",
    "for entity, values in sessions_include.groupby('entity'):\n",
    "    data_path = output / f'{entity}-graphs'\n",
    "    if data_path.exists():\n",
    "        continue\n",
    "    print('Processing', entity)\n",
    "    unit_matching = TrackMultipleSessions(\n",
    "        actions, values.action.values.tolist(), \n",
    "        progress_bar=tqdm, verbose=False, data_path=data_path\n",
    "    )\n",
    "    unit_matching.do_matching()\n",
    "    unit_matching.make_graphs_from_matches()\n",
    "#    unit_matching.compute_time_delta_edges()\n",
    "    unit_matching.compute_depth_delta_edges()\n",
    "    # save graph with all dissimilarities for later use\n",
    "    unit_matching.save_graphs()"
   ]
  },
  {
   "cell_type": "code",
   "execution_count": 17,
   "metadata": {},
   "outputs": [
    {
     "data": {
      "text/plain": [
       "WindowsPath('output/identify_neurons/133-graphs')"
      ]
     },
     "execution_count": 17,
     "metadata": {},
     "output_type": "execute_result"
    }
   ],
   "source": [
    "data_path"
   ]
  },
  {
   "cell_type": "markdown",
   "metadata": {},
   "source": [
    "# Plot comparisons"
   ]
  },
  {
   "cell_type": "code",
   "execution_count": 20,
   "metadata": {},
   "outputs": [],
   "source": [
    "unit_comp = unit_matching"
   ]
  },
  {
   "cell_type": "code",
   "execution_count": 138,
   "metadata": {},
   "outputs": [],
   "source": [
    "unit_comp = TrackMultipleSessions(actions, data_path=r'output\\identify_neurons\\133-graphs')"
   ]
  },
  {
   "cell_type": "code",
   "execution_count": 25,
   "metadata": {},
   "outputs": [],
   "source": [
    "unit_comp.load_graphs()"
   ]
  },
  {
   "cell_type": "code",
   "execution_count": 26,
   "metadata": {},
   "outputs": [],
   "source": [
    "max_dissimilarity = .05\n",
    "max_depth_delta = 100\n",
    "\n",
    "unit_comp.remove_edges_above_threshold('weight', max_dissimilarity)\n",
    "unit_comp.remove_edges_above_threshold('depth_delta', max_depth_delta)"
   ]
  },
  {
   "cell_type": "code",
   "execution_count": 27,
   "metadata": {
    "scrolled": false
   },
   "outputs": [],
   "source": [
    "unit_comp.remove_edges_with_duplicate_actions()\n",
    "unit_comp.identify_units()"
   ]
  },
  {
   "cell_type": "code",
   "execution_count": 28,
   "metadata": {
    "scrolled": false
   },
   "outputs": [
    {
     "data": {
      "text/plain": [
       "{0: {'3ac2cf08-bfe8-4970-91dd-6236f03d6dcf': {'average_dissimilarity': None,\n",
       "   'original_unit_ids': defaultdict(list, {'133-090720-4': ['1096']})},\n",
       "  'c59bdb8b-aa65-4bdc-8367-e911be2bebdb': {'average_dissimilarity': None,\n",
       "   'original_unit_ids': defaultdict(list, {'133-090720-4': ['1099']})},\n",
       "  '7a3846d3-9df8-4033-b731-83f81c381d1d': {'average_dissimilarity': None,\n",
       "   'original_unit_ids': defaultdict(list, {'133-090720-4': ['1124']})},\n",
       "  'c58d8f82-7283-4332-9048-87b3b1820fb1': {'average_dissimilarity': None,\n",
       "   'original_unit_ids': defaultdict(list, {'133-090720-4': ['1147']})},\n",
       "  'dfeca869-15ee-4515-bc33-0081158d00c5': {'average_dissimilarity': None,\n",
       "   'original_unit_ids': defaultdict(list, {'133-090720-4': ['1398']})},\n",
       "  '1fd6d428-bdfb-49c4-9682-14fa247c55b2': {'average_dissimilarity': None,\n",
       "   'original_unit_ids': defaultdict(list, {'133-090720-4': ['1401']})},\n",
       "  '6c88d03a-39ae-4a66-98ae-5c83f285c8d3': {'average_dissimilarity': None,\n",
       "   'original_unit_ids': defaultdict(list, {'133-090720-4': ['1423']})},\n",
       "  '9d35cd9c-fcbb-4558-adff-ac8ebcd0800b': {'average_dissimilarity': 0.030882381166716266,\n",
       "   'original_unit_ids': defaultdict(list,\n",
       "               {'133-090720-7': ['61'],\n",
       "                '133-090720-5': ['573'],\n",
       "                '133-090720-4': ['1487']})},\n",
       "  '577a831d-13d8-4b91-8204-4c9b775cfc54': {'average_dissimilarity': 0.029075237122025633,\n",
       "   'original_unit_ids': defaultdict(list,\n",
       "               {'133-090720-5': ['853'],\n",
       "                '133-090720-7': ['60'],\n",
       "                '133-090720-4': ['1490']})},\n",
       "  'dd203161-f3e6-4ff6-9b56-8a4c0da504dd': {'average_dissimilarity': 0.045524209651449134,\n",
       "   'original_unit_ids': defaultdict(list,\n",
       "               {'133-090720-4': ['1515'], '133-090720-7': ['283']})},\n",
       "  'ec9822d8-8bd8-4898-9a16-ea29dd608978': {'average_dissimilarity': None,\n",
       "   'original_unit_ids': defaultdict(list, {'133-090720-4': ['1521']})},\n",
       "  'abaea8ad-a3c3-43da-b83a-8730bac968e6': {'average_dissimilarity': None,\n",
       "   'original_unit_ids': defaultdict(list, {'133-090720-4': ['1523']})},\n",
       "  'e27572e1-ff99-41e7-ae99-87bf14af7f70': {'average_dissimilarity': 0.035366382768290364,\n",
       "   'original_unit_ids': defaultdict(list,\n",
       "               {'133-090720-4': ['1538'], '133-090720-5': ['857']})},\n",
       "  '102b74f5-fc2b-4d04-9eb3-1258f0c33bc9': {'average_dissimilarity': None,\n",
       "   'original_unit_ids': defaultdict(list, {'133-090720-4': ['1623']})},\n",
       "  '5e0205e7-ad21-4424-8665-9b570efcf5b6': {'average_dissimilarity': None,\n",
       "   'original_unit_ids': defaultdict(list, {'133-090720-4': ['1666']})},\n",
       "  '32ec6ab8-82cc-4726-a2ca-6871071c1a1f': {'average_dissimilarity': None,\n",
       "   'original_unit_ids': defaultdict(list, {'133-090720-4': ['1674']})},\n",
       "  '544b0444-0946-43d9-864c-5c94494ccc43': {'average_dissimilarity': None,\n",
       "   'original_unit_ids': defaultdict(list, {'133-090720-4': ['1684']})},\n",
       "  '2be09966-95f4-4a94-821b-13c6a32382b5': {'average_dissimilarity': None,\n",
       "   'original_unit_ids': defaultdict(list, {'133-090720-4': ['1705']})},\n",
       "  '6e9f28fb-d360-4725-a970-ca399c504d08': {'average_dissimilarity': 0.04268938784612142,\n",
       "   'original_unit_ids': defaultdict(list,\n",
       "               {'133-090720-5': ['992'], '133-090720-4': ['1706']})},\n",
       "  'e083ae1d-01be-460e-806d-e2ea1f6fe507': {'average_dissimilarity': None,\n",
       "   'original_unit_ids': defaultdict(list, {'133-090720-4': ['1710']})},\n",
       "  '54a36112-2035-477a-b8d8-7ee852100a59': {'average_dissimilarity': 0.03331183648056305,\n",
       "   'original_unit_ids': defaultdict(list,\n",
       "               {'133-090720-4': ['1724'],\n",
       "                '133-090720-5': ['541'],\n",
       "                '133-090720-7': ['149']})},\n",
       "  'efab4856-bc03-4295-b874-3d4c0147fac4': {'average_dissimilarity': None,\n",
       "   'original_unit_ids': defaultdict(list, {'133-090720-4': ['1749']})},\n",
       "  'dd277dc8-5337-4603-90c1-c0dcbba61437': {'average_dissimilarity': None,\n",
       "   'original_unit_ids': defaultdict(list, {'133-090720-4': ['942']})},\n",
       "  '539b07f2-5df4-4710-aad9-eb3fb848d700': {'average_dissimilarity': 0.03313654867592468,\n",
       "   'original_unit_ids': defaultdict(list,\n",
       "               {'133-090720-4': ['948'], '133-090720-5': ['448']})},\n",
       "  'bc2e8787-da04-4696-bece-74dedb806a41': {'average_dissimilarity': None,\n",
       "   'original_unit_ids': defaultdict(list, {'133-090720-4': ['993']})},\n",
       "  'a0fee68c-b333-4ee0-9045-093487f706be': {'average_dissimilarity': None,\n",
       "   'original_unit_ids': defaultdict(list, {'133-090720-5': ['280']})},\n",
       "  '3f1942ca-16ef-484e-8110-e6aa40bf2a24': {'average_dissimilarity': None,\n",
       "   'original_unit_ids': defaultdict(list, {'133-090720-5': ['433']})},\n",
       "  '858f98cf-1910-4f16-b364-58e1e6d0d921': {'average_dissimilarity': None,\n",
       "   'original_unit_ids': defaultdict(list, {'133-090720-5': ['437']})},\n",
       "  '67923d71-da0d-42f8-8b99-7216b7e45990': {'average_dissimilarity': None,\n",
       "   'original_unit_ids': defaultdict(list, {'133-090720-5': ['439']})},\n",
       "  '938304ac-9446-4d76-81b1-a58968760f77': {'average_dissimilarity': None,\n",
       "   'original_unit_ids': defaultdict(list, {'133-090720-5': ['445']})},\n",
       "  'dd3b056f-91b8-4800-bafa-7767b3ab5881': {'average_dissimilarity': None,\n",
       "   'original_unit_ids': defaultdict(list, {'133-090720-5': ['500']})},\n",
       "  '51cb4a8b-8d02-4b87-becc-ead228a9fb28': {'average_dissimilarity': 0.02517175441346759,\n",
       "   'original_unit_ids': defaultdict(list,\n",
       "               {'133-090720-7': ['147'], '133-090720-5': ['503']})},\n",
       "  '02bba702-e96d-4cd1-87d2-d8b964d13beb': {'average_dissimilarity': None,\n",
       "   'original_unit_ids': defaultdict(list, {'133-090720-5': ['563']})},\n",
       "  'a3dbc65f-781c-406e-9712-a8321346dc8c': {'average_dissimilarity': 0.031070678713870148,\n",
       "   'original_unit_ids': defaultdict(list,\n",
       "               {'133-090720-7': ['80'], '133-090720-5': ['567']})},\n",
       "  '420f12d6-cc47-4112-9ba3-6c981e2c49de': {'average_dissimilarity': None,\n",
       "   'original_unit_ids': defaultdict(list, {'133-090720-5': ['856']})},\n",
       "  'fd1a2293-60fa-4683-95ab-fea737a37f6c': {'average_dissimilarity': None,\n",
       "   'original_unit_ids': defaultdict(list, {'133-090720-5': ['954']})},\n",
       "  '275ee430-9aeb-4f27-b5e2-c52522945b30': {'average_dissimilarity': None,\n",
       "   'original_unit_ids': defaultdict(list, {'133-090720-5': ['977']})},\n",
       "  'a3bfbd65-5ccc-41b4-8ba5-3cd5cfb835cf': {'average_dissimilarity': None,\n",
       "   'original_unit_ids': defaultdict(list, {'133-090720-5': ['978']})},\n",
       "  'e70706bd-56dd-41e0-bd26-43c13c83344a': {'average_dissimilarity': None,\n",
       "   'original_unit_ids': defaultdict(list, {'133-090720-5': ['991']})},\n",
       "  'cf8774ec-780c-47a7-a6d6-97ba0c875b22': {'average_dissimilarity': None,\n",
       "   'original_unit_ids': defaultdict(list, {'133-090720-6': ['105']})},\n",
       "  'd5cd008e-f7d8-45d4-b93e-9996500ef181': {'average_dissimilarity': None,\n",
       "   'original_unit_ids': defaultdict(list, {'133-090720-6': ['564']})},\n",
       "  '5800cdf3-40ea-43d8-b454-c77b34450f6d': {'average_dissimilarity': None,\n",
       "   'original_unit_ids': defaultdict(list, {'133-090720-6': ['574']})},\n",
       "  '12c4bfa3-d671-4e77-b17c-3c5559f40a45': {'average_dissimilarity': None,\n",
       "   'original_unit_ids': defaultdict(list, {'133-090720-6': ['799']})},\n",
       "  '609f7af3-5a9d-45c0-b2f5-8f2b168d4369': {'average_dissimilarity': None,\n",
       "   'original_unit_ids': defaultdict(list, {'133-090720-6': ['805']})},\n",
       "  '12f6c653-153a-4eea-ba75-ccb2a44836cc': {'average_dissimilarity': None,\n",
       "   'original_unit_ids': defaultdict(list, {'133-090720-6': ['809']})},\n",
       "  '6c3c5c38-9bf4-4373-ba54-80b8e66374cb': {'average_dissimilarity': None,\n",
       "   'original_unit_ids': defaultdict(list, {'133-090720-6': ['810']})},\n",
       "  'a97ab564-d2e6-47a8-beaf-29e922f0f6df': {'average_dissimilarity': None,\n",
       "   'original_unit_ids': defaultdict(list, {'133-090720-7': ['110']})},\n",
       "  'bb579c05-12d8-4012-98bf-40384198240d': {'average_dissimilarity': None,\n",
       "   'original_unit_ids': defaultdict(list, {'133-090720-7': ['124']})},\n",
       "  '90e526a3-cc78-48cf-ae47-8e517a9550d3': {'average_dissimilarity': None,\n",
       "   'original_unit_ids': defaultdict(list, {'133-090720-7': ['127']})},\n",
       "  '2c17b7d3-32c2-4d6b-a99e-945289d03f9f': {'average_dissimilarity': None,\n",
       "   'original_unit_ids': defaultdict(list, {'133-090720-7': ['186']})},\n",
       "  '7432a454-41b1-4973-ba32-d17b46f62d84': {'average_dissimilarity': None,\n",
       "   'original_unit_ids': defaultdict(list, {'133-090720-7': ['189']})},\n",
       "  '16eba591-ecfc-48fd-961f-1dee2feef2ea': {'average_dissimilarity': None,\n",
       "   'original_unit_ids': defaultdict(list, {'133-090720-7': ['196']})},\n",
       "  'c8ec7b35-02c2-42c0-a7b0-c4d1feefc546': {'average_dissimilarity': None,\n",
       "   'original_unit_ids': defaultdict(list, {'133-090720-7': ['202']})},\n",
       "  '5e60ec7c-476f-4e4e-9239-3fa9bf7cf2c0': {'average_dissimilarity': None,\n",
       "   'original_unit_ids': defaultdict(list, {'133-090720-7': ['206']})},\n",
       "  'a5c6990e-d988-42ea-86cf-4c1a3b70af14': {'average_dissimilarity': None,\n",
       "   'original_unit_ids': defaultdict(list, {'133-090720-7': ['284']})},\n",
       "  'a85d22ab-52c1-4bc6-acef-bd5f7e4c6586': {'average_dissimilarity': None,\n",
       "   'original_unit_ids': defaultdict(list, {'133-090720-7': ['76']})},\n",
       "  '8b1f98ae-1c40-40a4-b25a-e1f16d190e68': {'average_dissimilarity': None,\n",
       "   'original_unit_ids': defaultdict(list, {'133-090720-7': ['78']})},\n",
       "  '17de1dc2-0a7a-4617-9bc7-cffe537c8cac': {'average_dissimilarity': None,\n",
       "   'original_unit_ids': defaultdict(list, {'133-090720-7': ['91']})},\n",
       "  '4ba7deaa-b390-48a5-bf1c-1c877e30aa6c': {'average_dissimilarity': None,\n",
       "   'original_unit_ids': defaultdict(list, {'133-090720-7': ['95']})}},\n",
       " 1: {'62de350e-8db1-4eb0-ba0c-91e431433218': {'average_dissimilarity': None,\n",
       "   'original_unit_ids': defaultdict(list, {'133-090720-4': ['1457']})},\n",
       "  '9dc1c07f-f718-41e0-bf71-b737a62c2f2d': {'average_dissimilarity': 0.03741931154510518,\n",
       "   'original_unit_ids': defaultdict(list,\n",
       "               {'133-090720-5': ['285'],\n",
       "                '133-090720-7': ['128'],\n",
       "                '133-090720-4': ['1590']})},\n",
       "  '1810118e-9546-4df7-a8c3-9506ec6b2c01': {'average_dissimilarity': None,\n",
       "   'original_unit_ids': defaultdict(list, {'133-090720-4': ['1603']})},\n",
       "  'fa9b7100-d373-4d08-bc69-127300407aa1': {'average_dissimilarity': None,\n",
       "   'original_unit_ids': defaultdict(list, {'133-090720-4': ['1777']})},\n",
       "  '3b068b15-797a-478e-b469-aa393242e4d6': {'average_dissimilarity': None,\n",
       "   'original_unit_ids': defaultdict(list, {'133-090720-4': ['1779']})},\n",
       "  '048b19e3-9022-4f9c-b14b-3efd9738db5b': {'average_dissimilarity': None,\n",
       "   'original_unit_ids': defaultdict(list, {'133-090720-4': ['1785']})},\n",
       "  '8ebf12da-3437-46c9-8b66-926c3a79215c': {'average_dissimilarity': None,\n",
       "   'original_unit_ids': defaultdict(list, {'133-090720-4': ['1787']})},\n",
       "  'f0372d59-3634-40ae-87b6-163c8e9553d7': {'average_dissimilarity': None,\n",
       "   'original_unit_ids': defaultdict(list, {'133-090720-4': ['1795']})},\n",
       "  '7f992fb7-d88d-41eb-aa2a-947c0c5a77dc': {'average_dissimilarity': None,\n",
       "   'original_unit_ids': defaultdict(list, {'133-090720-4': ['1799']})},\n",
       "  '49093d92-74f3-4f4e-bccb-ff1977d57310': {'average_dissimilarity': None,\n",
       "   'original_unit_ids': defaultdict(list, {'133-090720-4': ['1804']})},\n",
       "  '5734564e-9b3b-4977-8a59-f54e46cbe4ce': {'average_dissimilarity': None,\n",
       "   'original_unit_ids': defaultdict(list, {'133-090720-4': ['1836']})},\n",
       "  '2da9be89-d3ef-48eb-9acf-d26af0418a86': {'average_dissimilarity': None,\n",
       "   'original_unit_ids': defaultdict(list, {'133-090720-4': ['1840']})},\n",
       "  '7d4029c6-fa1b-485d-8dfe-4fd75980c05f': {'average_dissimilarity': None,\n",
       "   'original_unit_ids': defaultdict(list, {'133-090720-4': ['1842']})},\n",
       "  'd6e4909c-2d8e-4c4a-9191-61ff1b843894': {'average_dissimilarity': None,\n",
       "   'original_unit_ids': defaultdict(list, {'133-090720-4': ['1845']})},\n",
       "  '84cee2cf-6521-449b-9608-a4e6211ad729': {'average_dissimilarity': None,\n",
       "   'original_unit_ids': defaultdict(list, {'133-090720-4': ['1851']})},\n",
       "  '6f9f78df-fa16-44b7-b164-254e5364652d': {'average_dissimilarity': None,\n",
       "   'original_unit_ids': defaultdict(list, {'133-090720-5': ['199']})},\n",
       "  '39475a38-9a60-4fb8-8abe-aa9eed26cc21': {'average_dissimilarity': None,\n",
       "   'original_unit_ids': defaultdict(list, {'133-090720-5': ['638']})},\n",
       "  '083ba3bd-4989-47b9-87b5-e0d64bdc1440': {'average_dissimilarity': None,\n",
       "   'original_unit_ids': defaultdict(list, {'133-090720-5': ['659']})},\n",
       "  'ca2aa258-820a-45e9-9628-32b25168a0a3': {'average_dissimilarity': None,\n",
       "   'original_unit_ids': defaultdict(list, {'133-090720-5': ['661']})},\n",
       "  'cefd5360-1e0c-48cb-99eb-21707f6a9dfb': {'average_dissimilarity': None,\n",
       "   'original_unit_ids': defaultdict(list, {'133-090720-5': ['662']})},\n",
       "  'b6e14810-9afd-4638-9c8f-2897311ea2ef': {'average_dissimilarity': None,\n",
       "   'original_unit_ids': defaultdict(list, {'133-090720-5': ['663']})},\n",
       "  'bda574e0-8772-457e-9ada-1a9059e14a23': {'average_dissimilarity': None,\n",
       "   'original_unit_ids': defaultdict(list, {'133-090720-5': ['676']})},\n",
       "  '8ee6f319-aba2-486d-b713-ba4eeba84b8b': {'average_dissimilarity': None,\n",
       "   'original_unit_ids': defaultdict(list, {'133-090720-5': ['840']})},\n",
       "  '0bd56f2a-428b-4c79-8e78-cd7b8f8acfbf': {'average_dissimilarity': None,\n",
       "   'original_unit_ids': defaultdict(list, {'133-090720-5': ['858']})},\n",
       "  '203f9440-2a76-45da-ba9a-3d5bf9675c7b': {'average_dissimilarity': None,\n",
       "   'original_unit_ids': defaultdict(list, {'133-090720-5': ['859']})},\n",
       "  '4b1d466d-5b2a-4ce6-b731-450dfebdd0cd': {'average_dissimilarity': None,\n",
       "   'original_unit_ids': defaultdict(list, {'133-090720-5': ['860']})},\n",
       "  '89eee067-b0b6-40a5-9704-3ab340b0b6d2': {'average_dissimilarity': None,\n",
       "   'original_unit_ids': defaultdict(list, {'133-090720-5': ['923']})},\n",
       "  '3f1c0984-1396-4348-9026-2dab9508848c': {'average_dissimilarity': None,\n",
       "   'original_unit_ids': defaultdict(list, {'133-090720-5': ['933']})},\n",
       "  '39409f34-bfb6-4d13-b2f8-0218c3862f45': {'average_dissimilarity': None,\n",
       "   'original_unit_ids': defaultdict(list, {'133-090720-6': ['259']})},\n",
       "  '4bd729c0-8134-4691-969c-b444dc22116f': {'average_dissimilarity': None,\n",
       "   'original_unit_ids': defaultdict(list, {'133-090720-6': ['677']})},\n",
       "  '91648302-c720-4ede-8fdd-96328ee79fe5': {'average_dissimilarity': None,\n",
       "   'original_unit_ids': defaultdict(list, {'133-090720-6': ['795']})},\n",
       "  '1ba74eea-cb12-4793-919c-d2d4306cbb51': {'average_dissimilarity': None,\n",
       "   'original_unit_ids': defaultdict(list, {'133-090720-7': ['136']})},\n",
       "  'c1a8612b-e1af-4d6f-96d4-135f5a12953e': {'average_dissimilarity': None,\n",
       "   'original_unit_ids': defaultdict(list, {'133-090720-7': ['145']})},\n",
       "  '3b9afe52-a4a4-4618-a7e8-410824068fb5': {'average_dissimilarity': None,\n",
       "   'original_unit_ids': defaultdict(list, {'133-090720-7': ['210']})},\n",
       "  '63b6c2c0-c2bc-4ee5-be2d-8493691ba658': {'average_dissimilarity': None,\n",
       "   'original_unit_ids': defaultdict(list, {'133-090720-7': ['220']})},\n",
       "  '975f162a-de86-419c-9682-0f48caccd13a': {'average_dissimilarity': None,\n",
       "   'original_unit_ids': defaultdict(list, {'133-090720-7': ['237']})},\n",
       "  '6738b4a8-f378-4911-bf2e-2cbb8abd876e': {'average_dissimilarity': None,\n",
       "   'original_unit_ids': defaultdict(list, {'133-090720-7': ['278']})}},\n",
       " 2: {'410e91c0-177d-41af-aa89-169af9bff44c': {'average_dissimilarity': 0.032603757799876815,\n",
       "   'original_unit_ids': defaultdict(list,\n",
       "               {'133-090720-5': ['943'],\n",
       "                '133-090720-4': ['1743'],\n",
       "                '133-090720-7': ['72']})},\n",
       "  'b15008f4-7d8c-4b66-bef2-afb28bcc6bf7': {'average_dissimilarity': 0.04092925176329867,\n",
       "   'original_unit_ids': defaultdict(list,\n",
       "               {'133-090720-7': ['74'],\n",
       "                '133-090720-5': ['924'],\n",
       "                '133-090720-4': ['1764']})},\n",
       "  'fd4f4e75-56ee-4483-8d70-eb61e0480bab': {'average_dissimilarity': None,\n",
       "   'original_unit_ids': defaultdict(list, {'133-090720-4': ['1823']})},\n",
       "  '19f5aa06-63e4-4c0c-9d6b-bc30ddbe9c9e': {'average_dissimilarity': None,\n",
       "   'original_unit_ids': defaultdict(list, {'133-090720-4': ['1832']})},\n",
       "  'b9d3ca13-c866-4c74-8dd5-cd96ba2cbdee': {'average_dissimilarity': None,\n",
       "   'original_unit_ids': defaultdict(list, {'133-090720-4': ['1834']})},\n",
       "  '3f88cb5d-4f44-4ed1-aa18-0665d69fda74': {'average_dissimilarity': None,\n",
       "   'original_unit_ids': defaultdict(list, {'133-090720-5': ['664']})},\n",
       "  'a8359f23-9714-43d0-be81-1f8543b95e0e': {'average_dissimilarity': None,\n",
       "   'original_unit_ids': defaultdict(list, {'133-090720-5': ['682']})},\n",
       "  '060f1e21-b5dc-47eb-bdb9-5f10a495ee6f': {'average_dissimilarity': None,\n",
       "   'original_unit_ids': defaultdict(list, {'133-090720-5': ['735']})},\n",
       "  '947ae4ac-79b0-441c-a3c8-e6e263d48755': {'average_dissimilarity': None,\n",
       "   'original_unit_ids': defaultdict(list, {'133-090720-5': ['810']})},\n",
       "  'd7cd0f06-ae7f-42f4-ab82-cc20f61d6a91': {'average_dissimilarity': None,\n",
       "   'original_unit_ids': defaultdict(list, {'133-090720-5': ['848']})},\n",
       "  '44387d6c-7f32-4550-8a99-b439d9bac1a8': {'average_dissimilarity': None,\n",
       "   'original_unit_ids': defaultdict(list, {'133-090720-5': ['934']})},\n",
       "  '8ed0f3f5-efa6-4501-b52f-554bdc562f76': {'average_dissimilarity': None,\n",
       "   'original_unit_ids': defaultdict(list, {'133-090720-5': ['940']})},\n",
       "  'ffe1a9f3-d44d-4ace-8252-272358345d75': {'average_dissimilarity': None,\n",
       "   'original_unit_ids': defaultdict(list, {'133-090720-5': ['941']})},\n",
       "  '7042587d-f412-4fb5-99ad-85d610828dea': {'average_dissimilarity': 0.04599484485320736,\n",
       "   'original_unit_ids': defaultdict(list,\n",
       "               {'133-090720-7': ['246'], '133-090720-5': ['942']})},\n",
       "  'b6db6c6f-176c-4e85-9a0b-e5f9cae8fde8': {'average_dissimilarity': None,\n",
       "   'original_unit_ids': defaultdict(list, {'133-090720-5': ['964']})},\n",
       "  '4476004e-d56e-41f6-ac22-c302f43f010e': {'average_dissimilarity': None,\n",
       "   'original_unit_ids': defaultdict(list, {'133-090720-6': ['260']})},\n",
       "  '3c04a2b3-f326-445e-9681-37cc43c620dd': {'average_dissimilarity': None,\n",
       "   'original_unit_ids': defaultdict(list, {'133-090720-6': ['789']})},\n",
       "  'b2044956-c5b4-4bfe-8717-807aeeb0024f': {'average_dissimilarity': None,\n",
       "   'original_unit_ids': defaultdict(list, {'133-090720-6': ['790']})},\n",
       "  '2866f204-d17d-4d7e-9641-3fa8002a60d8': {'average_dissimilarity': None,\n",
       "   'original_unit_ids': defaultdict(list, {'133-090720-7': ['222']})},\n",
       "  '7cc6be57-aab4-4fe8-b3c7-99b12b2aa310': {'average_dissimilarity': None,\n",
       "   'original_unit_ids': defaultdict(list, {'133-090720-7': ['244']})},\n",
       "  '5be0c6a0-34f7-4305-ba75-2c3109479a0b': {'average_dissimilarity': None,\n",
       "   'original_unit_ids': defaultdict(list, {'133-090720-7': ['254']})}},\n",
       " 3: {},\n",
       " 4: {},\n",
       " 5: {},\n",
       " 6: {},\n",
       " 7: {'6ce111a1-fac4-423e-947c-8799e430665a': {'average_dissimilarity': None,\n",
       "   'original_unit_ids': defaultdict(list, {'133-090720-7': ['38']})},\n",
       "  'd9357819-b2ba-4bb4-b97d-ad324381809a': {'average_dissimilarity': None,\n",
       "   'original_unit_ids': defaultdict(list, {'133-090720-7': ['42']})},\n",
       "  '9be98c5b-7885-497d-90b6-2bd2a40460af': {'average_dissimilarity': None,\n",
       "   'original_unit_ids': defaultdict(list, {'133-090720-7': ['43']})}}}"
      ]
     },
     "execution_count": 28,
     "metadata": {},
     "output_type": "execute_result"
    }
   ],
   "source": [
    "unit_comp.identified_units"
   ]
  },
  {
   "cell_type": "code",
   "execution_count": 29,
   "metadata": {
    "scrolled": false
   },
   "outputs": [
    {
     "ename": "ValueError",
     "evalue": "'61' is not in list",
     "output_type": "error",
     "traceback": [
      "\u001b[1;31m---------------------------------------------------------------------------\u001b[0m",
      "\u001b[1;31mValueError\u001b[0m                                Traceback (most recent call last)",
      "\u001b[1;32m<ipython-input-29-ceac8ac04922>\u001b[0m in \u001b[0;36m<module>\u001b[1;34m\u001b[0m\n\u001b[1;32m----> 1\u001b[1;33m \u001b[0munit_comp\u001b[0m\u001b[1;33m.\u001b[0m\u001b[0mplot_matches\u001b[0m\u001b[1;33m(\u001b[0m\u001b[1;34m'template'\u001b[0m\u001b[1;33m,\u001b[0m \u001b[0mchan_group\u001b[0m\u001b[1;33m=\u001b[0m\u001b[1;36m0\u001b[0m\u001b[1;33m,\u001b[0m \u001b[0mstep_color\u001b[0m\u001b[1;33m=\u001b[0m\u001b[1;32mFalse\u001b[0m\u001b[1;33m)\u001b[0m\u001b[1;33m\u001b[0m\u001b[1;33m\u001b[0m\u001b[0m\n\u001b[0m\u001b[0;32m      2\u001b[0m \u001b[0mplt\u001b[0m\u001b[1;33m.\u001b[0m\u001b[0mtight_layout\u001b[0m\u001b[1;33m(\u001b[0m\u001b[1;33m)\u001b[0m\u001b[1;33m\u001b[0m\u001b[1;33m\u001b[0m\u001b[0m\n",
      "\u001b[1;32mc:\\apps\\CA2_MEC\\ca2-mec\\trackunitmulticomparison.py\u001b[0m in \u001b[0;36mplot_matches\u001b[1;34m(self, style, chan_group, figsize, step_color)\u001b[0m\n\u001b[0;32m    285\u001b[0m                                 label=label)\n\u001b[0;32m    286\u001b[0m                         \u001b[1;32melif\u001b[0m \u001b[0mstyle\u001b[0m \u001b[1;33m==\u001b[0m \u001b[1;34m'template'\u001b[0m\u001b[1;33m:\u001b[0m\u001b[1;33m\u001b[0m\u001b[1;33m\u001b[0m\u001b[0m\n\u001b[1;32m--> 287\u001b[1;33m                             \u001b[0mtemplate\u001b[0m \u001b[1;33m=\u001b[0m \u001b[0mself\u001b[0m\u001b[1;33m.\u001b[0m\u001b[0m_get_template\u001b[0m\u001b[1;33m(\u001b[0m\u001b[0maction_id\u001b[0m\u001b[1;33m,\u001b[0m \u001b[0munit_id\u001b[0m\u001b[1;33m,\u001b[0m \u001b[0mch_group\u001b[0m\u001b[1;33m)\u001b[0m\u001b[1;33m\u001b[0m\u001b[1;33m\u001b[0m\u001b[0m\n\u001b[0m\u001b[0;32m    288\u001b[0m                             axs = plot_template(\n\u001b[0;32m    289\u001b[0m                                 \u001b[0mtemplate\u001b[0m\u001b[1;33m,\u001b[0m\u001b[1;33m\u001b[0m\u001b[1;33m\u001b[0m\u001b[0m\n",
      "\u001b[1;32mc:\\apps\\CA2_MEC\\ca2-mec\\trackunitmulticomparison.py\u001b[0m in \u001b[0;36m_get_template\u001b[1;34m(self, action_id, unit_id, channel_group)\u001b[0m\n\u001b[0;32m    237\u001b[0m                     \u001b[0mi\u001b[0m \u001b[1;33m=\u001b[0m \u001b[0mcomp\u001b[0m\u001b[1;33m.\u001b[0m\u001b[0maction_ids\u001b[0m\u001b[1;33m.\u001b[0m\u001b[0mindex\u001b[0m\u001b[1;33m(\u001b[0m\u001b[0maction_id\u001b[0m\u001b[1;33m)\u001b[0m\u001b[1;33m\u001b[0m\u001b[1;33m\u001b[0m\u001b[0m\n\u001b[0;32m    238\u001b[0m                     \u001b[0munit_ids\u001b[0m \u001b[1;33m=\u001b[0m \u001b[0mlist\u001b[0m\u001b[1;33m(\u001b[0m\u001b[0mcomp\u001b[0m\u001b[1;33m.\u001b[0m\u001b[0munit_ids\u001b[0m\u001b[1;33m[\u001b[0m\u001b[0mchannel_group\u001b[0m\u001b[1;33m]\u001b[0m\u001b[1;33m[\u001b[0m\u001b[0mi\u001b[0m\u001b[1;33m]\u001b[0m\u001b[1;33m)\u001b[0m\u001b[1;33m\u001b[0m\u001b[1;33m\u001b[0m\u001b[0m\n\u001b[1;32m--> 239\u001b[1;33m                     \u001b[0munit_idx\u001b[0m \u001b[1;33m=\u001b[0m \u001b[0munit_ids\u001b[0m\u001b[1;33m.\u001b[0m\u001b[0mindex\u001b[0m\u001b[1;33m(\u001b[0m\u001b[0munit_id\u001b[0m\u001b[1;33m)\u001b[0m\u001b[1;33m\u001b[0m\u001b[1;33m\u001b[0m\u001b[0m\n\u001b[0m\u001b[0;32m    240\u001b[0m                     \u001b[0mtemplate\u001b[0m \u001b[1;33m=\u001b[0m \u001b[0mcomp\u001b[0m\u001b[1;33m.\u001b[0m\u001b[0mtemplates\u001b[0m\u001b[1;33m[\u001b[0m\u001b[0mchannel_group\u001b[0m\u001b[1;33m]\u001b[0m\u001b[1;33m[\u001b[0m\u001b[0mi\u001b[0m\u001b[1;33m]\u001b[0m\u001b[1;33m[\u001b[0m\u001b[0munit_idx\u001b[0m\u001b[1;33m]\u001b[0m\u001b[1;33m\u001b[0m\u001b[1;33m\u001b[0m\u001b[0m\n\u001b[0;32m    241\u001b[0m                     \u001b[1;32mbreak\u001b[0m\u001b[1;33m\u001b[0m\u001b[1;33m\u001b[0m\u001b[0m\n",
      "\u001b[1;31mValueError\u001b[0m: '61' is not in list"
     ]
    },
    {
     "data": {
      "text/plain": [
       "<Figure size 720x4536 with 0 Axes>"
      ]
     },
     "metadata": {},
     "output_type": "display_data"
    }
   ],
   "source": [
    "unit_comp.plot_matches('template', chan_group=0, step_color=False)\n",
    "plt.tight_layout()"
   ]
  },
  {
   "cell_type": "markdown",
   "metadata": {},
   "source": [
    "# Store uniqe unit ids to csv"
   ]
  },
  {
   "cell_type": "code",
   "execution_count": 120,
   "metadata": {},
   "outputs": [
    {
     "ename": "ConstructorError",
     "evalue": "could not determine a constructor for the tag 'tag:yaml.org,2002:python/object/apply:numpy.core.multiarray.scalar'\n  in \"output\\identify_neurons\\133-graphs\\graph-group-0.yaml\", line 959, column 14",
     "output_type": "error",
     "traceback": [
      "\u001b[1;31m---------------------------------------------------------------------------\u001b[0m",
      "\u001b[1;31mConstructorError\u001b[0m                          Traceback (most recent call last)",
      "\u001b[1;32m<ipython-input-120-e804ebe72f64>\u001b[0m in \u001b[0;36m<module>\u001b[1;34m\u001b[0m\n\u001b[0;32m      9\u001b[0m         \u001b[0mprogress_bar\u001b[0m\u001b[1;33m=\u001b[0m\u001b[0mtqdm\u001b[0m\u001b[1;33m,\u001b[0m \u001b[0mverbose\u001b[0m\u001b[1;33m=\u001b[0m\u001b[1;32mFalse\u001b[0m\u001b[1;33m,\u001b[0m \u001b[0mdata_path\u001b[0m\u001b[1;33m=\u001b[0m\u001b[0mdata_path\u001b[0m\u001b[1;33m\u001b[0m\u001b[1;33m\u001b[0m\u001b[0m\n\u001b[0;32m     10\u001b[0m     )\n\u001b[1;32m---> 11\u001b[1;33m     \u001b[0munit_matching\u001b[0m\u001b[1;33m.\u001b[0m\u001b[0mload_graphs\u001b[0m\u001b[1;33m(\u001b[0m\u001b[1;33m)\u001b[0m\u001b[1;33m\u001b[0m\u001b[1;33m\u001b[0m\u001b[0m\n\u001b[0m\u001b[0;32m     12\u001b[0m     \u001b[1;31m# cutoff large dissimilarities\u001b[0m\u001b[1;33m\u001b[0m\u001b[1;33m\u001b[0m\u001b[1;33m\u001b[0m\u001b[0m\n\u001b[0;32m     13\u001b[0m     \u001b[0munit_matching\u001b[0m\u001b[1;33m.\u001b[0m\u001b[0mremove_edges_above_threshold\u001b[0m\u001b[1;33m(\u001b[0m\u001b[1;34m'weight'\u001b[0m\u001b[1;33m,\u001b[0m \u001b[0mmax_dissimilarity\u001b[0m\u001b[1;33m)\u001b[0m\u001b[1;33m\u001b[0m\u001b[1;33m\u001b[0m\u001b[0m\n",
      "\u001b[1;32mc:\\apps\\CA2_MEC\\ca2-mec\\trackunitmulticomparison.py\u001b[0m in \u001b[0;36mload_graphs\u001b[1;34m(self)\u001b[0m\n\u001b[0;32m    184\u001b[0m             \u001b[1;32mif\u001b[0m \u001b[0mpath\u001b[0m\u001b[1;33m.\u001b[0m\u001b[0mname\u001b[0m\u001b[1;33m.\u001b[0m\u001b[0mstartswith\u001b[0m\u001b[1;33m(\u001b[0m\u001b[1;34m'graph-group'\u001b[0m\u001b[1;33m)\u001b[0m \u001b[1;32mand\u001b[0m \u001b[0mpath\u001b[0m\u001b[1;33m.\u001b[0m\u001b[0msuffix\u001b[0m \u001b[1;33m==\u001b[0m \u001b[1;34m'.yaml'\u001b[0m\u001b[1;33m:\u001b[0m\u001b[1;33m\u001b[0m\u001b[1;33m\u001b[0m\u001b[0m\n\u001b[0;32m    185\u001b[0m                 \u001b[0mch\u001b[0m \u001b[1;33m=\u001b[0m \u001b[0mint\u001b[0m\u001b[1;33m(\u001b[0m\u001b[0mpath\u001b[0m\u001b[1;33m.\u001b[0m\u001b[0mstem\u001b[0m\u001b[1;33m.\u001b[0m\u001b[0msplit\u001b[0m\u001b[1;33m(\u001b[0m\u001b[1;34m'-'\u001b[0m\u001b[1;33m)\u001b[0m\u001b[1;33m[\u001b[0m\u001b[1;33m-\u001b[0m\u001b[1;36m1\u001b[0m\u001b[1;33m]\u001b[0m\u001b[1;33m)\u001b[0m\u001b[1;33m\u001b[0m\u001b[1;33m\u001b[0m\u001b[0m\n\u001b[1;32m--> 186\u001b[1;33m                 \u001b[0mself\u001b[0m\u001b[1;33m.\u001b[0m\u001b[0mgraphs\u001b[0m\u001b[1;33m[\u001b[0m\u001b[0mch\u001b[0m\u001b[1;33m]\u001b[0m \u001b[1;33m=\u001b[0m \u001b[0mnx\u001b[0m\u001b[1;33m.\u001b[0m\u001b[0mreadwrite\u001b[0m\u001b[1;33m.\u001b[0m\u001b[0mread_yaml\u001b[0m\u001b[1;33m(\u001b[0m\u001b[0mpath\u001b[0m\u001b[1;33m)\u001b[0m\u001b[1;33m\u001b[0m\u001b[1;33m\u001b[0m\u001b[0m\n\u001b[0m\u001b[0;32m    187\u001b[0m \u001b[1;33m\u001b[0m\u001b[0m\n\u001b[0;32m    188\u001b[0m     \u001b[1;32mdef\u001b[0m \u001b[0midentify_units\u001b[0m\u001b[1;33m(\u001b[0m\u001b[0mself\u001b[0m\u001b[1;33m)\u001b[0m\u001b[1;33m:\u001b[0m\u001b[1;33m\u001b[0m\u001b[1;33m\u001b[0m\u001b[0m\n",
      "\u001b[1;32m<decorator-gen-778>\u001b[0m in \u001b[0;36mread_yaml\u001b[1;34m(path)\u001b[0m\n",
      "\u001b[1;32mc:\\users\\sarahht\\appdata\\local\\continuum\\anaconda3\\envs\\expipe\\lib\\site-packages\\networkx\\utils\\decorators.py\u001b[0m in \u001b[0;36m_open_file\u001b[1;34m(func_to_be_decorated, *args, **kwargs)\u001b[0m\n\u001b[0;32m    238\u001b[0m         \u001b[1;31m# Finally, we call the original function, making sure to close the fobj\u001b[0m\u001b[1;33m\u001b[0m\u001b[1;33m\u001b[0m\u001b[1;33m\u001b[0m\u001b[0m\n\u001b[0;32m    239\u001b[0m         \u001b[1;32mtry\u001b[0m\u001b[1;33m:\u001b[0m\u001b[1;33m\u001b[0m\u001b[1;33m\u001b[0m\u001b[0m\n\u001b[1;32m--> 240\u001b[1;33m             \u001b[0mresult\u001b[0m \u001b[1;33m=\u001b[0m \u001b[0mfunc_to_be_decorated\u001b[0m\u001b[1;33m(\u001b[0m\u001b[1;33m*\u001b[0m\u001b[0mnew_args\u001b[0m\u001b[1;33m,\u001b[0m \u001b[1;33m**\u001b[0m\u001b[0mkwargs\u001b[0m\u001b[1;33m)\u001b[0m\u001b[1;33m\u001b[0m\u001b[1;33m\u001b[0m\u001b[0m\n\u001b[0m\u001b[0;32m    241\u001b[0m         \u001b[1;32mfinally\u001b[0m\u001b[1;33m:\u001b[0m\u001b[1;33m\u001b[0m\u001b[1;33m\u001b[0m\u001b[0m\n\u001b[0;32m    242\u001b[0m             \u001b[1;32mif\u001b[0m \u001b[0mclose_fobj\u001b[0m\u001b[1;33m:\u001b[0m\u001b[1;33m\u001b[0m\u001b[1;33m\u001b[0m\u001b[0m\n",
      "\u001b[1;32mc:\\users\\sarahht\\appdata\\local\\continuum\\anaconda3\\envs\\expipe\\lib\\site-packages\\networkx\\readwrite\\nx_yaml.py\u001b[0m in \u001b[0;36mread_yaml\u001b[1;34m(path)\u001b[0m\n\u001b[0;32m     97\u001b[0m         \u001b[1;32mraise\u001b[0m \u001b[0mImportError\u001b[0m\u001b[1;33m(\u001b[0m\u001b[1;34m\"read_yaml() requires PyYAML: http://pyyaml.org/\"\u001b[0m\u001b[1;33m)\u001b[0m\u001b[1;33m\u001b[0m\u001b[1;33m\u001b[0m\u001b[0m\n\u001b[0;32m     98\u001b[0m \u001b[1;33m\u001b[0m\u001b[0m\n\u001b[1;32m---> 99\u001b[1;33m     \u001b[0mG\u001b[0m \u001b[1;33m=\u001b[0m \u001b[0myaml\u001b[0m\u001b[1;33m.\u001b[0m\u001b[0mload\u001b[0m\u001b[1;33m(\u001b[0m\u001b[0mpath\u001b[0m\u001b[1;33m,\u001b[0m \u001b[0mLoader\u001b[0m\u001b[1;33m=\u001b[0m\u001b[0myaml\u001b[0m\u001b[1;33m.\u001b[0m\u001b[0mFullLoader\u001b[0m\u001b[1;33m)\u001b[0m\u001b[1;33m\u001b[0m\u001b[1;33m\u001b[0m\u001b[0m\n\u001b[0m\u001b[0;32m    100\u001b[0m     \u001b[1;32mreturn\u001b[0m \u001b[0mG\u001b[0m\u001b[1;33m\u001b[0m\u001b[1;33m\u001b[0m\u001b[0m\n\u001b[0;32m    101\u001b[0m \u001b[1;33m\u001b[0m\u001b[0m\n",
      "\u001b[1;32mc:\\users\\sarahht\\appdata\\local\\continuum\\anaconda3\\envs\\expipe\\lib\\site-packages\\yaml\\__init__.py\u001b[0m in \u001b[0;36mload\u001b[1;34m(stream, Loader)\u001b[0m\n\u001b[0;32m    112\u001b[0m     \u001b[0mloader\u001b[0m \u001b[1;33m=\u001b[0m \u001b[0mLoader\u001b[0m\u001b[1;33m(\u001b[0m\u001b[0mstream\u001b[0m\u001b[1;33m)\u001b[0m\u001b[1;33m\u001b[0m\u001b[1;33m\u001b[0m\u001b[0m\n\u001b[0;32m    113\u001b[0m     \u001b[1;32mtry\u001b[0m\u001b[1;33m:\u001b[0m\u001b[1;33m\u001b[0m\u001b[1;33m\u001b[0m\u001b[0m\n\u001b[1;32m--> 114\u001b[1;33m         \u001b[1;32mreturn\u001b[0m \u001b[0mloader\u001b[0m\u001b[1;33m.\u001b[0m\u001b[0mget_single_data\u001b[0m\u001b[1;33m(\u001b[0m\u001b[1;33m)\u001b[0m\u001b[1;33m\u001b[0m\u001b[1;33m\u001b[0m\u001b[0m\n\u001b[0m\u001b[0;32m    115\u001b[0m     \u001b[1;32mfinally\u001b[0m\u001b[1;33m:\u001b[0m\u001b[1;33m\u001b[0m\u001b[1;33m\u001b[0m\u001b[0m\n\u001b[0;32m    116\u001b[0m         \u001b[0mloader\u001b[0m\u001b[1;33m.\u001b[0m\u001b[0mdispose\u001b[0m\u001b[1;33m(\u001b[0m\u001b[1;33m)\u001b[0m\u001b[1;33m\u001b[0m\u001b[1;33m\u001b[0m\u001b[0m\n",
      "\u001b[1;32mc:\\users\\sarahht\\appdata\\local\\continuum\\anaconda3\\envs\\expipe\\lib\\site-packages\\yaml\\constructor.py\u001b[0m in \u001b[0;36mget_single_data\u001b[1;34m(self)\u001b[0m\n\u001b[0;32m     49\u001b[0m         \u001b[0mnode\u001b[0m \u001b[1;33m=\u001b[0m \u001b[0mself\u001b[0m\u001b[1;33m.\u001b[0m\u001b[0mget_single_node\u001b[0m\u001b[1;33m(\u001b[0m\u001b[1;33m)\u001b[0m\u001b[1;33m\u001b[0m\u001b[1;33m\u001b[0m\u001b[0m\n\u001b[0;32m     50\u001b[0m         \u001b[1;32mif\u001b[0m \u001b[0mnode\u001b[0m \u001b[1;32mis\u001b[0m \u001b[1;32mnot\u001b[0m \u001b[1;32mNone\u001b[0m\u001b[1;33m:\u001b[0m\u001b[1;33m\u001b[0m\u001b[1;33m\u001b[0m\u001b[0m\n\u001b[1;32m---> 51\u001b[1;33m             \u001b[1;32mreturn\u001b[0m \u001b[0mself\u001b[0m\u001b[1;33m.\u001b[0m\u001b[0mconstruct_document\u001b[0m\u001b[1;33m(\u001b[0m\u001b[0mnode\u001b[0m\u001b[1;33m)\u001b[0m\u001b[1;33m\u001b[0m\u001b[1;33m\u001b[0m\u001b[0m\n\u001b[0m\u001b[0;32m     52\u001b[0m         \u001b[1;32mreturn\u001b[0m \u001b[1;32mNone\u001b[0m\u001b[1;33m\u001b[0m\u001b[1;33m\u001b[0m\u001b[0m\n\u001b[0;32m     53\u001b[0m \u001b[1;33m\u001b[0m\u001b[0m\n",
      "\u001b[1;32mc:\\users\\sarahht\\appdata\\local\\continuum\\anaconda3\\envs\\expipe\\lib\\site-packages\\yaml\\constructor.py\u001b[0m in \u001b[0;36mconstruct_document\u001b[1;34m(self, node)\u001b[0m\n\u001b[0;32m     58\u001b[0m             \u001b[0mself\u001b[0m\u001b[1;33m.\u001b[0m\u001b[0mstate_generators\u001b[0m \u001b[1;33m=\u001b[0m \u001b[1;33m[\u001b[0m\u001b[1;33m]\u001b[0m\u001b[1;33m\u001b[0m\u001b[1;33m\u001b[0m\u001b[0m\n\u001b[0;32m     59\u001b[0m             \u001b[1;32mfor\u001b[0m \u001b[0mgenerator\u001b[0m \u001b[1;32min\u001b[0m \u001b[0mstate_generators\u001b[0m\u001b[1;33m:\u001b[0m\u001b[1;33m\u001b[0m\u001b[1;33m\u001b[0m\u001b[0m\n\u001b[1;32m---> 60\u001b[1;33m                 \u001b[1;32mfor\u001b[0m \u001b[0mdummy\u001b[0m \u001b[1;32min\u001b[0m \u001b[0mgenerator\u001b[0m\u001b[1;33m:\u001b[0m\u001b[1;33m\u001b[0m\u001b[1;33m\u001b[0m\u001b[0m\n\u001b[0m\u001b[0;32m     61\u001b[0m                     \u001b[1;32mpass\u001b[0m\u001b[1;33m\u001b[0m\u001b[1;33m\u001b[0m\u001b[0m\n\u001b[0;32m     62\u001b[0m         \u001b[0mself\u001b[0m\u001b[1;33m.\u001b[0m\u001b[0mconstructed_objects\u001b[0m \u001b[1;33m=\u001b[0m \u001b[1;33m{\u001b[0m\u001b[1;33m}\u001b[0m\u001b[1;33m\u001b[0m\u001b[1;33m\u001b[0m\u001b[0m\n",
      "\u001b[1;32mc:\\users\\sarahht\\appdata\\local\\continuum\\anaconda3\\envs\\expipe\\lib\\site-packages\\yaml\\constructor.py\u001b[0m in \u001b[0;36mconstruct_yaml_map\u001b[1;34m(self, node)\u001b[0m\n\u001b[0;32m    411\u001b[0m         \u001b[0mdata\u001b[0m \u001b[1;33m=\u001b[0m \u001b[1;33m{\u001b[0m\u001b[1;33m}\u001b[0m\u001b[1;33m\u001b[0m\u001b[1;33m\u001b[0m\u001b[0m\n\u001b[0;32m    412\u001b[0m         \u001b[1;32myield\u001b[0m \u001b[0mdata\u001b[0m\u001b[1;33m\u001b[0m\u001b[1;33m\u001b[0m\u001b[0m\n\u001b[1;32m--> 413\u001b[1;33m         \u001b[0mvalue\u001b[0m \u001b[1;33m=\u001b[0m \u001b[0mself\u001b[0m\u001b[1;33m.\u001b[0m\u001b[0mconstruct_mapping\u001b[0m\u001b[1;33m(\u001b[0m\u001b[0mnode\u001b[0m\u001b[1;33m)\u001b[0m\u001b[1;33m\u001b[0m\u001b[1;33m\u001b[0m\u001b[0m\n\u001b[0m\u001b[0;32m    414\u001b[0m         \u001b[0mdata\u001b[0m\u001b[1;33m.\u001b[0m\u001b[0mupdate\u001b[0m\u001b[1;33m(\u001b[0m\u001b[0mvalue\u001b[0m\u001b[1;33m)\u001b[0m\u001b[1;33m\u001b[0m\u001b[1;33m\u001b[0m\u001b[0m\n\u001b[0;32m    415\u001b[0m \u001b[1;33m\u001b[0m\u001b[0m\n",
      "\u001b[1;32mc:\\users\\sarahht\\appdata\\local\\continuum\\anaconda3\\envs\\expipe\\lib\\site-packages\\yaml\\constructor.py\u001b[0m in \u001b[0;36mconstruct_mapping\u001b[1;34m(self, node, deep)\u001b[0m\n\u001b[0;32m    216\u001b[0m         \u001b[1;32mif\u001b[0m \u001b[0misinstance\u001b[0m\u001b[1;33m(\u001b[0m\u001b[0mnode\u001b[0m\u001b[1;33m,\u001b[0m \u001b[0mMappingNode\u001b[0m\u001b[1;33m)\u001b[0m\u001b[1;33m:\u001b[0m\u001b[1;33m\u001b[0m\u001b[1;33m\u001b[0m\u001b[0m\n\u001b[0;32m    217\u001b[0m             \u001b[0mself\u001b[0m\u001b[1;33m.\u001b[0m\u001b[0mflatten_mapping\u001b[0m\u001b[1;33m(\u001b[0m\u001b[0mnode\u001b[0m\u001b[1;33m)\u001b[0m\u001b[1;33m\u001b[0m\u001b[1;33m\u001b[0m\u001b[0m\n\u001b[1;32m--> 218\u001b[1;33m         \u001b[1;32mreturn\u001b[0m \u001b[0msuper\u001b[0m\u001b[1;33m(\u001b[0m\u001b[1;33m)\u001b[0m\u001b[1;33m.\u001b[0m\u001b[0mconstruct_mapping\u001b[0m\u001b[1;33m(\u001b[0m\u001b[0mnode\u001b[0m\u001b[1;33m,\u001b[0m \u001b[0mdeep\u001b[0m\u001b[1;33m=\u001b[0m\u001b[0mdeep\u001b[0m\u001b[1;33m)\u001b[0m\u001b[1;33m\u001b[0m\u001b[1;33m\u001b[0m\u001b[0m\n\u001b[0m\u001b[0;32m    219\u001b[0m \u001b[1;33m\u001b[0m\u001b[0m\n\u001b[0;32m    220\u001b[0m     \u001b[1;32mdef\u001b[0m \u001b[0mconstruct_yaml_null\u001b[0m\u001b[1;33m(\u001b[0m\u001b[0mself\u001b[0m\u001b[1;33m,\u001b[0m \u001b[0mnode\u001b[0m\u001b[1;33m)\u001b[0m\u001b[1;33m:\u001b[0m\u001b[1;33m\u001b[0m\u001b[1;33m\u001b[0m\u001b[0m\n",
      "\u001b[1;32mc:\\users\\sarahht\\appdata\\local\\continuum\\anaconda3\\envs\\expipe\\lib\\site-packages\\yaml\\constructor.py\u001b[0m in \u001b[0;36mconstruct_mapping\u001b[1;34m(self, node, deep)\u001b[0m\n\u001b[0;32m    141\u001b[0m                 raise ConstructorError(\"while constructing a mapping\", node.start_mark,\n\u001b[0;32m    142\u001b[0m                         \"found unhashable key\", key_node.start_mark)\n\u001b[1;32m--> 143\u001b[1;33m             \u001b[0mvalue\u001b[0m \u001b[1;33m=\u001b[0m \u001b[0mself\u001b[0m\u001b[1;33m.\u001b[0m\u001b[0mconstruct_object\u001b[0m\u001b[1;33m(\u001b[0m\u001b[0mvalue_node\u001b[0m\u001b[1;33m,\u001b[0m \u001b[0mdeep\u001b[0m\u001b[1;33m=\u001b[0m\u001b[0mdeep\u001b[0m\u001b[1;33m)\u001b[0m\u001b[1;33m\u001b[0m\u001b[1;33m\u001b[0m\u001b[0m\n\u001b[0m\u001b[0;32m    144\u001b[0m             \u001b[0mmapping\u001b[0m\u001b[1;33m[\u001b[0m\u001b[0mkey\u001b[0m\u001b[1;33m]\u001b[0m \u001b[1;33m=\u001b[0m \u001b[0mvalue\u001b[0m\u001b[1;33m\u001b[0m\u001b[1;33m\u001b[0m\u001b[0m\n\u001b[0;32m    145\u001b[0m         \u001b[1;32mreturn\u001b[0m \u001b[0mmapping\u001b[0m\u001b[1;33m\u001b[0m\u001b[1;33m\u001b[0m\u001b[0m\n",
      "\u001b[1;32mc:\\users\\sarahht\\appdata\\local\\continuum\\anaconda3\\envs\\expipe\\lib\\site-packages\\yaml\\constructor.py\u001b[0m in \u001b[0;36mconstruct_object\u001b[1;34m(self, node, deep)\u001b[0m\n\u001b[0;32m     98\u001b[0m                     \u001b[0mconstructor\u001b[0m \u001b[1;33m=\u001b[0m \u001b[0mself\u001b[0m\u001b[1;33m.\u001b[0m\u001b[0m__class__\u001b[0m\u001b[1;33m.\u001b[0m\u001b[0mconstruct_mapping\u001b[0m\u001b[1;33m\u001b[0m\u001b[1;33m\u001b[0m\u001b[0m\n\u001b[0;32m     99\u001b[0m         \u001b[1;32mif\u001b[0m \u001b[0mtag_suffix\u001b[0m \u001b[1;32mis\u001b[0m \u001b[1;32mNone\u001b[0m\u001b[1;33m:\u001b[0m\u001b[1;33m\u001b[0m\u001b[1;33m\u001b[0m\u001b[0m\n\u001b[1;32m--> 100\u001b[1;33m             \u001b[0mdata\u001b[0m \u001b[1;33m=\u001b[0m \u001b[0mconstructor\u001b[0m\u001b[1;33m(\u001b[0m\u001b[0mself\u001b[0m\u001b[1;33m,\u001b[0m \u001b[0mnode\u001b[0m\u001b[1;33m)\u001b[0m\u001b[1;33m\u001b[0m\u001b[1;33m\u001b[0m\u001b[0m\n\u001b[0m\u001b[0;32m    101\u001b[0m         \u001b[1;32melse\u001b[0m\u001b[1;33m:\u001b[0m\u001b[1;33m\u001b[0m\u001b[1;33m\u001b[0m\u001b[0m\n\u001b[0;32m    102\u001b[0m             \u001b[0mdata\u001b[0m \u001b[1;33m=\u001b[0m \u001b[0mconstructor\u001b[0m\u001b[1;33m(\u001b[0m\u001b[0mself\u001b[0m\u001b[1;33m,\u001b[0m \u001b[0mtag_suffix\u001b[0m\u001b[1;33m,\u001b[0m \u001b[0mnode\u001b[0m\u001b[1;33m)\u001b[0m\u001b[1;33m\u001b[0m\u001b[1;33m\u001b[0m\u001b[0m\n",
      "\u001b[1;32mc:\\users\\sarahht\\appdata\\local\\continuum\\anaconda3\\envs\\expipe\\lib\\site-packages\\yaml\\constructor.py\u001b[0m in \u001b[0;36mconstruct_undefined\u001b[1;34m(self, node)\u001b[0m\n\u001b[0;32m    427\u001b[0m         raise ConstructorError(None, None,\n\u001b[0;32m    428\u001b[0m                 \u001b[1;34m\"could not determine a constructor for the tag %r\"\u001b[0m \u001b[1;33m%\u001b[0m \u001b[0mnode\u001b[0m\u001b[1;33m.\u001b[0m\u001b[0mtag\u001b[0m\u001b[1;33m,\u001b[0m\u001b[1;33m\u001b[0m\u001b[1;33m\u001b[0m\u001b[0m\n\u001b[1;32m--> 429\u001b[1;33m                 node.start_mark)\n\u001b[0m\u001b[0;32m    430\u001b[0m \u001b[1;33m\u001b[0m\u001b[0m\n\u001b[0;32m    431\u001b[0m SafeConstructor.add_constructor(\n",
      "\u001b[1;31mConstructorError\u001b[0m: could not determine a constructor for the tag 'tag:yaml.org,2002:python/object/apply:numpy.core.multiarray.scalar'\n  in \"output\\identify_neurons\\133-graphs\\graph-group-0.yaml\", line 959, column 14"
     ]
    }
   ],
   "source": [
    "max_dissimilarity = .05\n",
    "max_depth_delta = 100\n",
    "id_nums = {}\n",
    "num = 0\n",
    "for entity, values in sessions_include.groupby('entity'):\n",
    "    data_path = output / f'{entity}-graphs'\n",
    "    unit_matching = TrackMultipleSessions(\n",
    "        actions, values.action.values.tolist(), \n",
    "        progress_bar=tqdm, verbose=False, data_path=data_path\n",
    "    )\n",
    "    unit_matching.load_graphs()\n",
    "    # cutoff large dissimilarities\n",
    "    unit_matching.remove_edges_above_threshold('weight', max_dissimilarity)\n",
    "    unit_matching.remove_edges_above_threshold('depth_delta', max_depth_delta)\n",
    "    unit_matching.remove_edges_with_duplicate_actions()\n",
    "    unit_matching.identify_units()\n",
    "    units = []\n",
    "    for ch, group in unit_matching.identified_units.items():\n",
    "        for unit_id, val in group.items():\n",
    "            for action_id, orig_unit_ids in val['original_unit_ids'].items():\n",
    "                if unit_id not in id_nums:\n",
    "                    id_nums[unit_id] = num\n",
    "                    num += 1\n",
    "                units.extend([\n",
    "                    {\n",
    "                        'unit_name': name, \n",
    "                        'unit_idnum': id_nums[unit_id],\n",
    "                        'unit_id': unit_id, \n",
    "                        'action': action_id,\n",
    "                        'channel_group': ch,\n",
    "                        'max_dissimilarity': max_dissimilarity,\n",
    "                        'max_depth_delta': max_depth_delta\n",
    "                    } \n",
    "                    for name in orig_unit_ids])\n",
    "    units = pd.DataFrame(units)\n",
    "    units = units[~units.action.isin(skip_actions)]\n",
    "    units.to_csv(output / f'{entity}-units.csv', index=False)"
   ]
  },
  {
   "cell_type": "code",
   "execution_count": 45,
   "metadata": {},
   "outputs": [],
   "source": [
    "unique_units = pd.concat([\n",
    "    pd.read_csv(p) \n",
    "    for p in output.iterdir() \n",
    "    if p.name.endswith('-units.csv')])"
   ]
  },
  {
   "cell_type": "code",
   "execution_count": null,
   "metadata": {},
   "outputs": [],
   "source": [
    "# remove 1834-010319-3 unit 72"
   ]
  },
  {
   "cell_type": "code",
   "execution_count": 46,
   "metadata": {},
   "outputs": [],
   "source": [
    "unique_units.to_csv(output / 'units.csv', index=False)"
   ]
  },
  {
   "cell_type": "markdown",
   "metadata": {},
   "source": [
    "# Store results in Expipe action"
   ]
  },
  {
   "cell_type": "code",
   "execution_count": 47,
   "metadata": {},
   "outputs": [],
   "source": [
    "identify_neurons.data['sessions'] = 'sessions.csv'\n",
    "identify_neurons.data['units'] = 'units.csv'"
   ]
  },
  {
   "cell_type": "code",
   "execution_count": 48,
   "metadata": {},
   "outputs": [
    {
     "data": {
      "text/plain": [
       "['/media/storage/expipe/septum-mec/actions/identify-neurons/data/1834-units.csv',\n",
       " '/media/storage/expipe/septum-mec/actions/identify-neurons/data/all_non_identified_units.csv',\n",
       " '/media/storage/expipe/septum-mec/actions/identify-neurons/data/1834-graphs/graph-group-7.yaml',\n",
       " '/media/storage/expipe/septum-mec/actions/identify-neurons/data/1834-graphs/graph-group-0.yaml',\n",
       " '/media/storage/expipe/septum-mec/actions/identify-neurons/data/1834-graphs/graph-group-6.yaml',\n",
       " '/media/storage/expipe/septum-mec/actions/identify-neurons/data/1834-graphs/graph-group-1.yaml',\n",
       " '/media/storage/expipe/septum-mec/actions/identify-neurons/data/1834-graphs/graph-group-2.yaml',\n",
       " '/media/storage/expipe/septum-mec/actions/identify-neurons/data/1834-graphs/graph-group-5.yaml',\n",
       " '/media/storage/expipe/septum-mec/actions/identify-neurons/data/1834-graphs/graph-group-3.yaml',\n",
       " '/media/storage/expipe/septum-mec/actions/identify-neurons/data/1834-graphs/graph-group-4.yaml',\n",
       " '/media/storage/expipe/septum-mec/actions/identify-neurons/data/1849-units.csv',\n",
       " '/media/storage/expipe/septum-mec/actions/identify-neurons/data/sessions.csv',\n",
       " '/media/storage/expipe/septum-mec/actions/identify-neurons/data/1833-units.csv',\n",
       " '/media/storage/expipe/septum-mec/actions/identify-neurons/data/1849-graphs/graph-group-7.yaml',\n",
       " '/media/storage/expipe/septum-mec/actions/identify-neurons/data/1849-graphs/graph-group-0.yaml',\n",
       " '/media/storage/expipe/septum-mec/actions/identify-neurons/data/1849-graphs/graph-group-6.yaml',\n",
       " '/media/storage/expipe/septum-mec/actions/identify-neurons/data/1849-graphs/graph-group-1.yaml',\n",
       " '/media/storage/expipe/septum-mec/actions/identify-neurons/data/1849-graphs/graph-group-2.yaml',\n",
       " '/media/storage/expipe/septum-mec/actions/identify-neurons/data/1849-graphs/graph-group-5.yaml',\n",
       " '/media/storage/expipe/septum-mec/actions/identify-neurons/data/1849-graphs/graph-group-3.yaml',\n",
       " '/media/storage/expipe/septum-mec/actions/identify-neurons/data/1849-graphs/graph-group-4.yaml',\n",
       " '/media/storage/expipe/septum-mec/actions/identify-neurons/data/units.csv',\n",
       " '/media/storage/expipe/septum-mec/actions/identify-neurons/data/1839-graphs/graph-group-7.yaml',\n",
       " '/media/storage/expipe/septum-mec/actions/identify-neurons/data/1839-graphs/graph-group-0.yaml',\n",
       " '/media/storage/expipe/septum-mec/actions/identify-neurons/data/1839-graphs/graph-group-6.yaml',\n",
       " '/media/storage/expipe/septum-mec/actions/identify-neurons/data/1839-graphs/graph-group-1.yaml',\n",
       " '/media/storage/expipe/septum-mec/actions/identify-neurons/data/1839-graphs/graph-group-2.yaml',\n",
       " '/media/storage/expipe/septum-mec/actions/identify-neurons/data/1839-graphs/graph-group-5.yaml',\n",
       " '/media/storage/expipe/septum-mec/actions/identify-neurons/data/1839-graphs/graph-group-3.yaml',\n",
       " '/media/storage/expipe/septum-mec/actions/identify-neurons/data/1839-graphs/graph-group-4.yaml',\n",
       " '/media/storage/expipe/septum-mec/actions/identify-neurons/data/1833-graphs/graph-group-7.yaml',\n",
       " '/media/storage/expipe/septum-mec/actions/identify-neurons/data/1833-graphs/graph-group-0.yaml',\n",
       " '/media/storage/expipe/septum-mec/actions/identify-neurons/data/1833-graphs/graph-group-6.yaml',\n",
       " '/media/storage/expipe/septum-mec/actions/identify-neurons/data/1833-graphs/graph-group-1.yaml',\n",
       " '/media/storage/expipe/septum-mec/actions/identify-neurons/data/1833-graphs/graph-group-2.yaml',\n",
       " '/media/storage/expipe/septum-mec/actions/identify-neurons/data/1833-graphs/graph-group-5.yaml',\n",
       " '/media/storage/expipe/septum-mec/actions/identify-neurons/data/1833-graphs/graph-group-3.yaml',\n",
       " '/media/storage/expipe/septum-mec/actions/identify-neurons/data/1833-graphs/graph-group-4.yaml',\n",
       " '/media/storage/expipe/septum-mec/actions/identify-neurons/data/1839-units.csv']"
      ]
     },
     "execution_count": 48,
     "metadata": {},
     "output_type": "execute_result"
    }
   ],
   "source": [
    "copy_tree(output, str(identify_neurons.data_path()))"
   ]
  },
  {
   "cell_type": "code",
   "execution_count": 96,
   "metadata": {},
   "outputs": [],
   "source": [
    "store_notebook(\n",
    "    identify_neurons, \"00-identify-neurons.ipynb\")"
   ]
  },
  {
   "cell_type": "code",
   "execution_count": null,
   "metadata": {},
   "outputs": [],
   "source": []
  }
 ],
 "metadata": {
  "kernelspec": {
   "display_name": "Python 3",
   "language": "python",
   "name": "python3"
  },
  "language_info": {
   "codemirror_mode": {
    "name": "ipython",
    "version": 3
   },
   "file_extension": ".py",
   "mimetype": "text/x-python",
   "name": "python",
   "nbconvert_exporter": "python",
   "pygments_lexer": "ipython3",
   "version": "3.6.10"
  }
 },
 "nbformat": 4,
 "nbformat_minor": 2
}
