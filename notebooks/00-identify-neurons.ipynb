{
 "cells": [
  {
   "cell_type": "code",
   "execution_count": 1,
   "metadata": {},
   "outputs": [],
   "source": [
    "%load_ext autoreload\n",
    "%autoreload 2"
   ]
  },
  {
   "cell_type": "code",
   "execution_count": 2,
   "metadata": {},
   "outputs": [],
   "source": [
    "import os\n",
    "import expipe\n",
    "import pathlib\n",
    "import numpy as np\n",
    "import sys\n",
    "sys.path.append('../ca2-mec')\n",
    "import data_processing as dp\n",
    "from trackunitmulticomparison import TrackMultipleSessions\n",
    "from registration import store_notebook\n",
    "import re\n",
    "import joblib\n",
    "import multiprocessing\n",
    "import shutil\n",
    "import psutil\n",
    "import pandas as pd\n",
    "import matplotlib.pyplot as plt\n",
    "import quantities as pq\n",
    "import exdir\n",
    "from distutils.dir_util import copy_tree\n",
    "from datetime import timedelta\n",
    "from tqdm import tqdm_notebook as tqdm\n",
    "import networkx as nx\n",
    "#from nxpd import draw\n",
    "%matplotlib inline"
   ]
  },
  {
   "cell_type": "code",
   "execution_count": 3,
   "metadata": {},
   "outputs": [],
   "source": [
    "project_path = dp.project_path()\n",
    "project = expipe.get_project(project_path)\n",
    "actions = project.actions\n",
    "\n",
    "identify_neurons = project.require_action('identify-neurons')\n",
    "data_loader = dp.Data()"
   ]
  },
  {
   "cell_type": "code",
   "execution_count": 4,
   "metadata": {},
   "outputs": [
    {
     "data": {
      "text/plain": [
       "(['001-280721-3',\n",
       "  '001-280721-1',\n",
       "  'identify-neurons',\n",
       "  '001-280721-4',\n",
       "  '001-280721-2'],\n",
       " ['011-280721-1', '011-280721-2'])"
      ]
     },
     "execution_count": 4,
     "metadata": {},
     "output_type": "execute_result"
    }
   ],
   "source": [
    "include = ['011-280721-1', '011-280721-2']\n",
    "\n",
    "# find the complement of include\n",
    "skip_actions = []\n",
    "for action in actions:\n",
    "    if action not in include:\n",
    "        skip_actions.append(action)\n",
    "skip_actions, include"
   ]
  },
  {
   "cell_type": "code",
   "execution_count": 5,
   "metadata": {},
   "outputs": [
    {
     "name": "stdout",
     "output_type": "stream",
     "text": [
      "011-280721-2\n",
      "011-280721-1\n"
     ]
    }
   ],
   "source": [
    "sessions = []\n",
    "for action in actions.values():\n",
    "    if action.id in skip_actions:\n",
    "        continue\n",
    "    if action.type != 'Recording':\n",
    "        continue\n",
    "    print(action.id)\n",
    "    action_data_path = dp.get_data_path(action)\n",
    "    exdir_object =  exdir.File(action_data_path)\n",
    "    if 'processing' not in exdir_object:\n",
    "        continue\n",
    "        \n",
    "    processing = exdir_object['processing']\n",
    "    \n",
    "    if not 'electrophysiology' in processing:\n",
    "        continue\n",
    "    elphys = processing['electrophysiology']\n",
    "    if 'spikesorting' not in elphys:\n",
    "        continue  \n",
    "\n",
    "    sessions.append({\n",
    "       'action': action.id,\n",
    "       'session': int(action.id.split('-')[-1]),\n",
    "       'entity': action.entities[0],\n",
    "\n",
    "   })\n",
    "sessions = pd.DataFrame(sessions)"
   ]
  },
  {
   "cell_type": "code",
   "execution_count": 6,
   "metadata": {},
   "outputs": [
    {
     "data": {
      "text/html": [
       "<div>\n",
       "<style scoped>\n",
       "    .dataframe tbody tr th:only-of-type {\n",
       "        vertical-align: middle;\n",
       "    }\n",
       "\n",
       "    .dataframe tbody tr th {\n",
       "        vertical-align: top;\n",
       "    }\n",
       "\n",
       "    .dataframe thead th {\n",
       "        text-align: right;\n",
       "    }\n",
       "</style>\n",
       "<table border=\"1\" class=\"dataframe\">\n",
       "  <thead>\n",
       "    <tr style=\"text-align: right;\">\n",
       "      <th></th>\n",
       "      <th>action</th>\n",
       "      <th>session</th>\n",
       "      <th>entity</th>\n",
       "      <th>date</th>\n",
       "      <th>entity_date</th>\n",
       "    </tr>\n",
       "  </thead>\n",
       "  <tbody>\n",
       "    <tr>\n",
       "      <th>0</th>\n",
       "      <td>011-280721-2</td>\n",
       "      <td>2</td>\n",
       "      <td>011</td>\n",
       "      <td>280721</td>\n",
       "      <td>011-280721</td>\n",
       "    </tr>\n",
       "    <tr>\n",
       "      <th>1</th>\n",
       "      <td>011-280721-1</td>\n",
       "      <td>1</td>\n",
       "      <td>011</td>\n",
       "      <td>280721</td>\n",
       "      <td>011-280721</td>\n",
       "    </tr>\n",
       "  </tbody>\n",
       "</table>\n",
       "</div>"
      ],
      "text/plain": [
       "         action  session entity    date entity_date\n",
       "0  011-280721-2        2    011  280721  011-280721\n",
       "1  011-280721-1        1    011  280721  011-280721"
      ]
     },
     "execution_count": 6,
     "metadata": {},
     "output_type": "execute_result"
    }
   ],
   "source": [
    "sessions['date'] = sessions.apply(lambda x: x.action.split('-')[1], axis=1)\n",
    "sessions['entity_date'] = sessions.apply(lambda x: '-'.join(x.action.split('-')[:2]), axis=1)\n",
    "sessions.to_csv(identify_neurons.data_path() / 'sessions.csv', index=False)\n",
    "sessions"
   ]
  },
  {
   "cell_type": "markdown",
   "metadata": {},
   "source": [
    "# Identify unique neurons"
   ]
  },
  {
   "cell_type": "code",
   "execution_count": 7,
   "metadata": {},
   "outputs": [
    {
     "data": {
      "text/html": [
       "<div>\n",
       "<style scoped>\n",
       "    .dataframe tbody tr th:only-of-type {\n",
       "        vertical-align: middle;\n",
       "    }\n",
       "\n",
       "    .dataframe tbody tr th {\n",
       "        vertical-align: top;\n",
       "    }\n",
       "\n",
       "    .dataframe thead th {\n",
       "        text-align: right;\n",
       "    }\n",
       "</style>\n",
       "<table border=\"1\" class=\"dataframe\">\n",
       "  <thead>\n",
       "    <tr style=\"text-align: right;\">\n",
       "      <th></th>\n",
       "      <th>action</th>\n",
       "      <th>session</th>\n",
       "      <th>entity</th>\n",
       "      <th>date</th>\n",
       "      <th>entity_date</th>\n",
       "    </tr>\n",
       "  </thead>\n",
       "  <tbody>\n",
       "    <tr>\n",
       "      <th>0</th>\n",
       "      <td>011-280721-2</td>\n",
       "      <td>2</td>\n",
       "      <td>011</td>\n",
       "      <td>280721</td>\n",
       "      <td>011-280721</td>\n",
       "    </tr>\n",
       "    <tr>\n",
       "      <th>1</th>\n",
       "      <td>011-280721-1</td>\n",
       "      <td>1</td>\n",
       "      <td>011</td>\n",
       "      <td>280721</td>\n",
       "      <td>011-280721</td>\n",
       "    </tr>\n",
       "  </tbody>\n",
       "</table>\n",
       "</div>"
      ],
      "text/plain": [
       "         action  session entity    date entity_date\n",
       "0  011-280721-2        2    011  280721  011-280721\n",
       "1  011-280721-1        1    011  280721  011-280721"
      ]
     },
     "execution_count": 7,
     "metadata": {},
     "output_type": "execute_result"
    }
   ],
   "source": [
    "sessions_include = sessions.query(\"action.isin(@include)\")\n",
    "sessions_include"
   ]
  },
  {
   "cell_type": "code",
   "execution_count": 8,
   "metadata": {},
   "outputs": [
    {
     "name": "stdout",
     "output_type": "stream",
     "text": [
      "011          action  session entity    date entity_date\n",
      "0  011-280721-2        2    011  280721  011-280721\n",
      "1  011-280721-1        1    011  280721  011-280721\n"
     ]
    },
    {
     "data": {
      "application/vnd.jupyter.widget-view+json": {
       "model_id": "96801b7a813b4df6bd94d028acde37a0",
       "version_major": 2,
       "version_minor": 0
      },
      "text/plain": [
       "  0%|          | 0/1 [00:00<?, ?it/s]"
      ]
     },
     "metadata": {},
     "output_type": "display_data"
    }
   ],
   "source": [
    "# save graphs\n",
    "for entity, values in sessions_include.groupby('entity'):\n",
    "    print(entity, values)\n",
    "    data_path = identify_neurons.data_path() / f'{entity}-graphs'\n",
    "    if data_path.exists():\n",
    "        shutil.rmtree(data_path)\n",
    "#         continue\n",
    "    unit_matching = TrackMultipleSessions(\n",
    "        actions, action_list=values.action.values.tolist(), \n",
    "        progress_bar=tqdm, verbose=False, data_path=data_path\n",
    "    )\n",
    "    unit_matching.do_matching()\n",
    "    unit_matching.make_graphs_from_matches()\n",
    "#     unit_matching.compute_time_delta_edges()\n",
    "    unit_matching.compute_depth_delta_edges()\n",
    "    # save graph with all dissimilarities for later use\n",
    "    unit_matching.save_graphs()"
   ]
  },
  {
   "cell_type": "markdown",
   "metadata": {},
   "source": [
    "# Plot comparisons"
   ]
  },
  {
   "cell_type": "code",
   "execution_count": 9,
   "metadata": {},
   "outputs": [],
   "source": [
    "entity = \"011\"\n",
    "unit_comp = TrackMultipleSessions(\n",
    "    actions, sessions_include.action.values, data_path=identify_neurons.data_path() / f'{entity}-graphs')\n",
    "\n",
    "unit_comp.load_graphs()"
   ]
  },
  {
   "cell_type": "code",
   "execution_count": 10,
   "metadata": {},
   "outputs": [],
   "source": [
    "max_dissimilarity = .05\n",
    "max_depth_delta = 100\n",
    "\n",
    "unit_comp.remove_edges_above_threshold('weight', max_dissimilarity)\n",
    "unit_comp.remove_edges_above_threshold('depth_delta', max_depth_delta)\n",
    "\n",
    "unit_comp.remove_edges_with_duplicate_actions()\n",
    "unit_comp.identify_units()"
   ]
  },
  {
   "cell_type": "code",
   "execution_count": 11,
   "metadata": {},
   "outputs": [
    {
     "name": "stdout",
     "output_type": "stream",
     "text": [
      "Zero units found on channel group 0\n",
      "Zero units found on channel group 2\n",
      "Zero units found on channel group 4\n",
      "Zero units found on channel group 6\n",
      "Zero units found on channel group 7\n"
     ]
    },
    {
     "data": {
      "image/png": "[encoded data removed]",
      "text/plain": [
       "<Figure size 720x864 with 8 Axes>"
      ]
     },
     "metadata": {
      "needs_background": "light"
     },
     "output_type": "display_data"
    },
    {
     "data": {
      "image/png": "[encoded data removed]",
      "text/plain": [
       "<Figure size 720x864 with 8 Axes>"
      ]
     },
     "metadata": {
      "needs_background": "light"
     },
     "output_type": "display_data"
    },
    {
     "data": {
      "image/png": "[encoded data removed]",
      "text/plain": [
       "<Figure size 720x432 with 4 Axes>"
      ]
     },
     "metadata": {
      "needs_background": "light"
     },
     "output_type": "display_data"
    }
   ],
   "source": [
    "#unit_comp.plot_matches('template', chan_group=1, step_color=False)\n",
    "unit_comp.plot_matches('template', step_color=False)\n",
    "\n",
    "#plt.tight_layout()"
   ]
  },
  {
   "cell_type": "markdown",
   "metadata": {},
   "source": [
    "# Store uniqe unit ids to csv"
   ]
  },
  {
   "cell_type": "code",
   "execution_count": 12,
   "metadata": {},
   "outputs": [],
   "source": [
    "max_dissimilarity = .05\n",
    "max_depth_delta = 100\n",
    "id_nums = {}\n",
    "num = 0\n",
    "output = identify_neurons.data_path()\n",
    "\n",
    "for entity, values in sessions_include.groupby('entity'):\n",
    "    data_path = output / f'{entity}-graphs'\n",
    "    unit_matching = TrackMultipleSessions(\n",
    "        actions, values.action.values.tolist(), \n",
    "        progress_bar=tqdm, verbose=False, data_path=data_path\n",
    "    )\n",
    "    unit_matching.load_graphs()\n",
    "    # cutoff large dissimilarities\n",
    "    unit_matching.remove_edges_above_threshold('weight', max_dissimilarity)\n",
    "    unit_matching.remove_edges_above_threshold('depth_delta', max_depth_delta)\n",
    "    unit_matching.remove_edges_with_duplicate_actions()\n",
    "    unit_matching.identify_units()\n",
    "    units = []\n",
    "    for ch, group in unit_matching.identified_units.items():\n",
    "        for unit_id, val in group.items():\n",
    "            for action_id, orig_unit_ids in val['original_unit_ids'].items():\n",
    "                if unit_id not in id_nums:\n",
    "                    id_nums[unit_id] = num\n",
    "                    num += 1\n",
    "                units.extend([\n",
    "                    {\n",
    "                        'unit_name': name, \n",
    "                        'unit_idnum': id_nums[unit_id],\n",
    "                        'unit_id': unit_id, \n",
    "                        'action': action_id,\n",
    "                        'channel_group': ch,\n",
    "                        'max_dissimilarity': max_dissimilarity,\n",
    "                        'max_depth_delta': max_depth_delta\n",
    "                    } \n",
    "                    for name in orig_unit_ids])\n",
    "    units = pd.DataFrame(units)\n",
    "    units = units[~units.action.isin(skip_actions)]\n",
    "    units.to_csv(output / f'{entity}-units.csv', index=False)"
   ]
  },
  {
   "cell_type": "code",
   "execution_count": 13,
   "metadata": {},
   "outputs": [],
   "source": [
    "unique_units = pd.concat([\n",
    "    pd.read_csv(p) \n",
    "    for p in output.iterdir() \n",
    "    if p.name.endswith('-units.csv')])"
   ]
  },
  {
   "cell_type": "code",
   "execution_count": 14,
   "metadata": {},
   "outputs": [],
   "source": [
    "unique_units.to_csv(output / 'units.csv', index=False)"
   ]
  },
  {
   "cell_type": "markdown",
   "metadata": {},
   "source": [
    "# Store results in Expipe action"
   ]
  },
  {
   "cell_type": "code",
   "execution_count": 15,
   "metadata": {},
   "outputs": [],
   "source": [
    "identify_neurons.data['sessions'] = 'sessions.csv'\n",
    "identify_neurons.data['units'] = 'units.csv'"
   ]
  },
  {
   "cell_type": "code",
   "execution_count": 16,
   "metadata": {},
   "outputs": [
    {
     "data": {
      "text/plain": [
       "['/mnt/WD12TB-HDD/data/ca2mec/actions/identify-neurons/data/011-graphs/graph-group-7.yaml',\n",
       " '/mnt/WD12TB-HDD/data/ca2mec/actions/identify-neurons/data/011-graphs/graph-group-6.yaml',\n",
       " '/mnt/WD12TB-HDD/data/ca2mec/actions/identify-neurons/data/011-graphs/graph-group-4.yaml',\n",
       " '/mnt/WD12TB-HDD/data/ca2mec/actions/identify-neurons/data/011-graphs/graph-group-3.yaml',\n",
       " '/mnt/WD12TB-HDD/data/ca2mec/actions/identify-neurons/data/011-graphs/graph-group-1.yaml',\n",
       " '/mnt/WD12TB-HDD/data/ca2mec/actions/identify-neurons/data/011-graphs/graph-group-5.yaml',\n",
       " '/mnt/WD12TB-HDD/data/ca2mec/actions/identify-neurons/data/011-graphs/graph-group-0.yaml',\n",
       " '/mnt/WD12TB-HDD/data/ca2mec/actions/identify-neurons/data/011-graphs/graph-group-2.yaml',\n",
       " '/mnt/WD12TB-HDD/data/ca2mec/actions/identify-neurons/data/011-units.csv',\n",
       " '/mnt/WD12TB-HDD/data/ca2mec/actions/identify-neurons/data/00-identify-neurons.html',\n",
       " '/mnt/WD12TB-HDD/data/ca2mec/actions/identify-neurons/data/units.csv',\n",
       " '/mnt/WD12TB-HDD/data/ca2mec/actions/identify-neurons/data/sessions.csv',\n",
       " '/mnt/WD12TB-HDD/data/ca2mec/actions/identify-neurons/data/00-identify-neurons.ipynb']"
      ]
     },
     "execution_count": 16,
     "metadata": {},
     "output_type": "execute_result"
    }
   ],
   "source": [
    "copy_tree(output, str(identify_neurons.data_path()))"
   ]
  },
  {
   "cell_type": "code",
   "execution_count": 17,
   "metadata": {},
   "outputs": [],
   "source": [
    "store_notebook(\n",
    "    identify_neurons, \"00-identify-neurons.ipynb\")"
   ]
  },
  {
   "cell_type": "markdown",
   "metadata": {},
   "source": [
    "## Load and view results"
   ]
  },
  {
   "cell_type": "code",
   "execution_count": 29,
   "metadata": {},
   "outputs": [
    {
     "data": {
      "text/html": [
       "<div>\n",
       "<style scoped>\n",
       "    .dataframe tbody tr th:only-of-type {\n",
       "        vertical-align: middle;\n",
       "    }\n",
       "\n",
       "    .dataframe tbody tr th {\n",
       "        vertical-align: top;\n",
       "    }\n",
       "\n",
       "    .dataframe thead th {\n",
       "        text-align: right;\n",
       "    }\n",
       "</style>\n",
       "<table border=\"1\" class=\"dataframe\">\n",
       "  <thead>\n",
       "    <tr style=\"text-align: right;\">\n",
       "      <th></th>\n",
       "      <th>unit_name</th>\n",
       "      <th>unit_idnum</th>\n",
       "      <th>unit_id</th>\n",
       "      <th>action</th>\n",
       "      <th>channel_group</th>\n",
       "      <th>max_dissimilarity</th>\n",
       "      <th>max_depth_delta</th>\n",
       "    </tr>\n",
       "  </thead>\n",
       "  <tbody>\n",
       "    <tr>\n",
       "      <th>0</th>\n",
       "      <td>1</td>\n",
       "      <td>0</td>\n",
       "      <td>71779b60-234a-4cc3-97e7-6ea0d681db97</td>\n",
       "      <td>011-280721-1</td>\n",
       "      <td>0</td>\n",
       "      <td>0.05</td>\n",
       "      <td>100</td>\n",
       "    </tr>\n",
       "    <tr>\n",
       "      <th>1</th>\n",
       "      <td>5</td>\n",
       "      <td>1</td>\n",
       "      <td>2e37ce55-8edd-49a5-be34-a8e999440b23</td>\n",
       "      <td>011-280721-1</td>\n",
       "      <td>0</td>\n",
       "      <td>0.05</td>\n",
       "      <td>100</td>\n",
       "    </tr>\n",
       "    <tr>\n",
       "      <th>2</th>\n",
       "      <td>6</td>\n",
       "      <td>2</td>\n",
       "      <td>2268d288-88c5-4d32-ba6d-5cdcc7f7ba3c</td>\n",
       "      <td>011-280721-1</td>\n",
       "      <td>0</td>\n",
       "      <td>0.05</td>\n",
       "      <td>100</td>\n",
       "    </tr>\n",
       "    <tr>\n",
       "      <th>3</th>\n",
       "      <td>10</td>\n",
       "      <td>3</td>\n",
       "      <td>4a53a802-98eb-43fc-a3ac-827993b46805</td>\n",
       "      <td>011-280721-1</td>\n",
       "      <td>1</td>\n",
       "      <td>0.05</td>\n",
       "      <td>100</td>\n",
       "    </tr>\n",
       "    <tr>\n",
       "      <th>4</th>\n",
       "      <td>6</td>\n",
       "      <td>3</td>\n",
       "      <td>4a53a802-98eb-43fc-a3ac-827993b46805</td>\n",
       "      <td>011-280721-2</td>\n",
       "      <td>1</td>\n",
       "      <td>0.05</td>\n",
       "      <td>100</td>\n",
       "    </tr>\n",
       "    <tr>\n",
       "      <th>5</th>\n",
       "      <td>7</td>\n",
       "      <td>4</td>\n",
       "      <td>932e4346-d3d6-4a86-be01-0984fe51aa9a</td>\n",
       "      <td>011-280721-2</td>\n",
       "      <td>1</td>\n",
       "      <td>0.05</td>\n",
       "      <td>100</td>\n",
       "    </tr>\n",
       "    <tr>\n",
       "      <th>6</th>\n",
       "      <td>11</td>\n",
       "      <td>4</td>\n",
       "      <td>932e4346-d3d6-4a86-be01-0984fe51aa9a</td>\n",
       "      <td>011-280721-1</td>\n",
       "      <td>1</td>\n",
       "      <td>0.05</td>\n",
       "      <td>100</td>\n",
       "    </tr>\n",
       "    <tr>\n",
       "      <th>7</th>\n",
       "      <td>5</td>\n",
       "      <td>5</td>\n",
       "      <td>02418f8a-c0de-4a71-989e-19abfb7209ec</td>\n",
       "      <td>011-280721-2</td>\n",
       "      <td>1</td>\n",
       "      <td>0.05</td>\n",
       "      <td>100</td>\n",
       "    </tr>\n",
       "    <tr>\n",
       "      <th>8</th>\n",
       "      <td>19</td>\n",
       "      <td>6</td>\n",
       "      <td>a4b5b165-4ed2-447f-8142-30599d5890f5</td>\n",
       "      <td>011-280721-1</td>\n",
       "      <td>2</td>\n",
       "      <td>0.05</td>\n",
       "      <td>100</td>\n",
       "    </tr>\n",
       "    <tr>\n",
       "      <th>9</th>\n",
       "      <td>20</td>\n",
       "      <td>7</td>\n",
       "      <td>3c319d23-57d0-4f63-8400-1445689a2c9c</td>\n",
       "      <td>011-280721-1</td>\n",
       "      <td>2</td>\n",
       "      <td>0.05</td>\n",
       "      <td>100</td>\n",
       "    </tr>\n",
       "    <tr>\n",
       "      <th>10</th>\n",
       "      <td>10</td>\n",
       "      <td>8</td>\n",
       "      <td>03a785cf-bae3-4148-b632-edf2966d7e32</td>\n",
       "      <td>011-280721-2</td>\n",
       "      <td>2</td>\n",
       "      <td>0.05</td>\n",
       "      <td>100</td>\n",
       "    </tr>\n",
       "    <tr>\n",
       "      <th>11</th>\n",
       "      <td>22</td>\n",
       "      <td>9</td>\n",
       "      <td>eef081ca-22cd-4a37-8a24-38ffbd2b9a83</td>\n",
       "      <td>011-280721-1</td>\n",
       "      <td>3</td>\n",
       "      <td>0.05</td>\n",
       "      <td>100</td>\n",
       "    </tr>\n",
       "    <tr>\n",
       "      <th>12</th>\n",
       "      <td>18</td>\n",
       "      <td>10</td>\n",
       "      <td>ec03ca63-da7b-4370-af27-c74297a7721b</td>\n",
       "      <td>011-280721-2</td>\n",
       "      <td>3</td>\n",
       "      <td>0.05</td>\n",
       "      <td>100</td>\n",
       "    </tr>\n",
       "    <tr>\n",
       "      <th>13</th>\n",
       "      <td>23</td>\n",
       "      <td>10</td>\n",
       "      <td>ec03ca63-da7b-4370-af27-c74297a7721b</td>\n",
       "      <td>011-280721-1</td>\n",
       "      <td>3</td>\n",
       "      <td>0.05</td>\n",
       "      <td>100</td>\n",
       "    </tr>\n",
       "    <tr>\n",
       "      <th>14</th>\n",
       "      <td>24</td>\n",
       "      <td>11</td>\n",
       "      <td>28ee18ad-d33b-49ee-aeff-8f556dad2dc4</td>\n",
       "      <td>011-280721-1</td>\n",
       "      <td>3</td>\n",
       "      <td>0.05</td>\n",
       "      <td>100</td>\n",
       "    </tr>\n",
       "    <tr>\n",
       "      <th>15</th>\n",
       "      <td>19</td>\n",
       "      <td>11</td>\n",
       "      <td>28ee18ad-d33b-49ee-aeff-8f556dad2dc4</td>\n",
       "      <td>011-280721-2</td>\n",
       "      <td>3</td>\n",
       "      <td>0.05</td>\n",
       "      <td>100</td>\n",
       "    </tr>\n",
       "    <tr>\n",
       "      <th>16</th>\n",
       "      <td>25</td>\n",
       "      <td>12</td>\n",
       "      <td>ae32f019-5774-40e5-82e1-bd98db898fca</td>\n",
       "      <td>011-280721-1</td>\n",
       "      <td>3</td>\n",
       "      <td>0.05</td>\n",
       "      <td>100</td>\n",
       "    </tr>\n",
       "    <tr>\n",
       "      <th>17</th>\n",
       "      <td>14</td>\n",
       "      <td>13</td>\n",
       "      <td>6877c90c-ee97-4c6b-af63-f5d097522b4c</td>\n",
       "      <td>011-280721-2</td>\n",
       "      <td>3</td>\n",
       "      <td>0.05</td>\n",
       "      <td>100</td>\n",
       "    </tr>\n",
       "    <tr>\n",
       "      <th>18</th>\n",
       "      <td>16</td>\n",
       "      <td>14</td>\n",
       "      <td>46272473-4837-4266-a0f3-c9974be92b32</td>\n",
       "      <td>011-280721-2</td>\n",
       "      <td>3</td>\n",
       "      <td>0.05</td>\n",
       "      <td>100</td>\n",
       "    </tr>\n",
       "    <tr>\n",
       "      <th>19</th>\n",
       "      <td>30</td>\n",
       "      <td>15</td>\n",
       "      <td>7f1e6e63-7292-4f30-93c9-7284266dff11</td>\n",
       "      <td>011-280721-1</td>\n",
       "      <td>4</td>\n",
       "      <td>0.05</td>\n",
       "      <td>100</td>\n",
       "    </tr>\n",
       "    <tr>\n",
       "      <th>20</th>\n",
       "      <td>24</td>\n",
       "      <td>16</td>\n",
       "      <td>ce327964-2486-48f5-9017-72292461800f</td>\n",
       "      <td>011-280721-2</td>\n",
       "      <td>4</td>\n",
       "      <td>0.05</td>\n",
       "      <td>100</td>\n",
       "    </tr>\n",
       "    <tr>\n",
       "      <th>21</th>\n",
       "      <td>34</td>\n",
       "      <td>17</td>\n",
       "      <td>3ae47fbc-a4f6-4443-8359-81e773e25302</td>\n",
       "      <td>011-280721-1</td>\n",
       "      <td>5</td>\n",
       "      <td>0.05</td>\n",
       "      <td>100</td>\n",
       "    </tr>\n",
       "    <tr>\n",
       "      <th>22</th>\n",
       "      <td>32</td>\n",
       "      <td>17</td>\n",
       "      <td>3ae47fbc-a4f6-4443-8359-81e773e25302</td>\n",
       "      <td>011-280721-2</td>\n",
       "      <td>5</td>\n",
       "      <td>0.05</td>\n",
       "      <td>100</td>\n",
       "    </tr>\n",
       "    <tr>\n",
       "      <th>23</th>\n",
       "      <td>29</td>\n",
       "      <td>18</td>\n",
       "      <td>34b403de-edac-402d-9e35-ee44f92c7769</td>\n",
       "      <td>011-280721-2</td>\n",
       "      <td>5</td>\n",
       "      <td>0.05</td>\n",
       "      <td>100</td>\n",
       "    </tr>\n",
       "  </tbody>\n",
       "</table>\n",
       "</div>"
      ],
      "text/plain": [
       "    unit_name  unit_idnum                               unit_id        action  \\\n",
       "0           1           0  71779b60-234a-4cc3-97e7-6ea0d681db97  011-280721-1   \n",
       "1           5           1  2e37ce55-8edd-49a5-be34-a8e999440b23  011-280721-1   \n",
       "2           6           2  2268d288-88c5-4d32-ba6d-5cdcc7f7ba3c  011-280721-1   \n",
       "3          10           3  4a53a802-98eb-43fc-a3ac-827993b46805  011-280721-1   \n",
       "4           6           3  4a53a802-98eb-43fc-a3ac-827993b46805  011-280721-2   \n",
       "5           7           4  932e4346-d3d6-4a86-be01-0984fe51aa9a  011-280721-2   \n",
       "6          11           4  932e4346-d3d6-4a86-be01-0984fe51aa9a  011-280721-1   \n",
       "7           5           5  02418f8a-c0de-4a71-989e-19abfb7209ec  011-280721-2   \n",
       "8          19           6  a4b5b165-4ed2-447f-8142-30599d5890f5  011-280721-1   \n",
       "9          20           7  3c319d23-57d0-4f63-8400-1445689a2c9c  011-280721-1   \n",
       "10         10           8  03a785cf-bae3-4148-b632-edf2966d7e32  011-280721-2   \n",
       "11         22           9  eef081ca-22cd-4a37-8a24-38ffbd2b9a83  011-280721-1   \n",
       "12         18          10  ec03ca63-da7b-4370-af27-c74297a7721b  011-280721-2   \n",
       "13         23          10  ec03ca63-da7b-4370-af27-c74297a7721b  011-280721-1   \n",
       "14         24          11  28ee18ad-d33b-49ee-aeff-8f556dad2dc4  011-280721-1   \n",
       "15         19          11  28ee18ad-d33b-49ee-aeff-8f556dad2dc4  011-280721-2   \n",
       "16         25          12  ae32f019-5774-40e5-82e1-bd98db898fca  011-280721-1   \n",
       "17         14          13  6877c90c-ee97-4c6b-af63-f5d097522b4c  011-280721-2   \n",
       "18         16          14  46272473-4837-4266-a0f3-c9974be92b32  011-280721-2   \n",
       "19         30          15  7f1e6e63-7292-4f30-93c9-7284266dff11  011-280721-1   \n",
       "20         24          16  ce327964-2486-48f5-9017-72292461800f  011-280721-2   \n",
       "21         34          17  3ae47fbc-a4f6-4443-8359-81e773e25302  011-280721-1   \n",
       "22         32          17  3ae47fbc-a4f6-4443-8359-81e773e25302  011-280721-2   \n",
       "23         29          18  34b403de-edac-402d-9e35-ee44f92c7769  011-280721-2   \n",
       "\n",
       "    channel_group  max_dissimilarity  max_depth_delta  \n",
       "0               0               0.05              100  \n",
       "1               0               0.05              100  \n",
       "2               0               0.05              100  \n",
       "3               1               0.05              100  \n",
       "4               1               0.05              100  \n",
       "5               1               0.05              100  \n",
       "6               1               0.05              100  \n",
       "7               1               0.05              100  \n",
       "8               2               0.05              100  \n",
       "9               2               0.05              100  \n",
       "10              2               0.05              100  \n",
       "11              3               0.05              100  \n",
       "12              3               0.05              100  \n",
       "13              3               0.05              100  \n",
       "14              3               0.05              100  \n",
       "15              3               0.05              100  \n",
       "16              3               0.05              100  \n",
       "17              3               0.05              100  \n",
       "18              3               0.05              100  \n",
       "19              4               0.05              100  \n",
       "20              4               0.05              100  \n",
       "21              5               0.05              100  \n",
       "22              5               0.05              100  \n",
       "23              5               0.05              100  "
      ]
     },
     "execution_count": 29,
     "metadata": {},
     "output_type": "execute_result"
    }
   ],
   "source": [
    "pd.read_csv(output / \"units.csv\")"
   ]
  },
  {
   "cell_type": "code",
   "execution_count": 19,
   "metadata": {},
   "outputs": [
    {
     "data": {
      "text/plain": [
       "array(['71779b60-234a-4cc3-97e7-6ea0d681db97',\n",
       "       '2e37ce55-8edd-49a5-be34-a8e999440b23',\n",
       "       '2268d288-88c5-4d32-ba6d-5cdcc7f7ba3c',\n",
       "       '4a53a802-98eb-43fc-a3ac-827993b46805',\n",
       "       '932e4346-d3d6-4a86-be01-0984fe51aa9a',\n",
       "       '02418f8a-c0de-4a71-989e-19abfb7209ec',\n",
       "       'a4b5b165-4ed2-447f-8142-30599d5890f5',\n",
       "       '3c319d23-57d0-4f63-8400-1445689a2c9c',\n",
       "       '03a785cf-bae3-4148-b632-edf2966d7e32',\n",
       "       'eef081ca-22cd-4a37-8a24-38ffbd2b9a83',\n",
       "       'ec03ca63-da7b-4370-af27-c74297a7721b',\n",
       "       '28ee18ad-d33b-49ee-aeff-8f556dad2dc4',\n",
       "       'ae32f019-5774-40e5-82e1-bd98db898fca',\n",
       "       '6877c90c-ee97-4c6b-af63-f5d097522b4c',\n",
       "       '46272473-4837-4266-a0f3-c9974be92b32',\n",
       "       '7f1e6e63-7292-4f30-93c9-7284266dff11',\n",
       "       'ce327964-2486-48f5-9017-72292461800f',\n",
       "       '3ae47fbc-a4f6-4443-8359-81e773e25302',\n",
       "       '34b403de-edac-402d-9e35-ee44f92c7769'], dtype=object)"
      ]
     },
     "execution_count": 19,
     "metadata": {},
     "output_type": "execute_result"
    }
   ],
   "source": [
    "pd.read_csv(output / \"units.csv\")[\"unit_id\"].unique()"
   ]
  },
  {
   "cell_type": "code",
   "execution_count": null,
   "metadata": {},
   "outputs": [],
   "source": []
  }
 ],
 "metadata": {
  "kernelspec": {
   "display_name": "Python [conda env:ca2mec]",
   "language": "python",
   "name": "conda-env-ca2mec-py"
  },
  "language_info": {
   "codemirror_mode": {
    "name": "ipython",
    "version": 3
   },
   "file_extension": ".py",
   "mimetype": "text/x-python",
   "name": "python",
   "nbconvert_exporter": "python",
   "pygments_lexer": "ipython3",
   "version": "3.6.13"
  }
 },
 "nbformat": 4,
 "nbformat_minor": 4
}
