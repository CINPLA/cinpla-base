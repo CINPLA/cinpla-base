{
 "cells": [
  {
   "cell_type": "code",
   "execution_count": 183,
   "metadata": {},
   "outputs": [
    {
     "name": "stdout",
     "output_type": "stream",
     "text": [
      "The autoreload extension is already loaded. To reload it, use:\n",
      "  %reload_ext autoreload\n"
     ]
    }
   ],
   "source": [
    "%load_ext autoreload\n",
    "%autoreload 2"
   ]
  },
  {
   "cell_type": "code",
   "execution_count": 184,
   "metadata": {},
   "outputs": [],
   "source": [
    "import os\n",
    "import expipe\n",
    "import pathlib\n",
    "import numpy as np\n",
    "import sys\n",
    "sys.path.append('../ca2-mec')\n",
    "import data_processing as dp\n",
    "#import septum_mec.analysis.data_processing as dp\n",
    "from trackunitmulticomparison import TrackMultipleSessions\n",
    "#from septum_mec.analysis.registration import store_notebook\n",
    "import re\n",
    "import joblib\n",
    "import multiprocessing\n",
    "import shutil\n",
    "import psutil\n",
    "import pandas as pd\n",
    "import matplotlib.pyplot as plt\n",
    "import quantities as pq\n",
    "import exdir\n",
    "from distutils.dir_util import copy_tree\n",
    "from datetime import timedelta\n",
    "from tqdm import tqdm_notebook as tqdm\n",
    "#from septum_mec.analysis.trackunitmulticomparison import TrackMultipleSessions\n",
    "import networkx as nx\n",
    "#from nxpd import draw\n",
    "%matplotlib inline"
   ]
  },
  {
   "cell_type": "code",
   "execution_count": 185,
   "metadata": {},
   "outputs": [],
   "source": [
    "project_path = dp.project_path()\n",
    "\n",
    "project = expipe.get_project(project_path)\n",
    "actions = project.actions"
   ]
  },
  {
   "cell_type": "code",
   "execution_count": 186,
   "metadata": {},
   "outputs": [],
   "source": [
    "output = pathlib.Path('output/identify_neurons')\n",
    "output.mkdir(parents=True, exist_ok=True)"
   ]
  },
  {
   "cell_type": "code",
   "execution_count": 187,
   "metadata": {},
   "outputs": [],
   "source": [
    "identify_neurons = project.require_action('identify-neurons')"
   ]
  },
  {
   "cell_type": "code",
   "execution_count": 188,
   "metadata": {},
   "outputs": [
    {
     "data": {
      "text/plain": [
       "{'registered': '2020-07-09T19:50:36',\n",
       " 'datetime': '2020-07-09T18:47:06',\n",
       " 'type': 'Recording',\n",
       " 'tags': ['open-ephys', 'experiment'],\n",
       " 'entities': ['133'],\n",
       " 'users': ['sarah'],\n",
       " 'location': 'ibv',\n",
       " 'data': {'main': 'actions\\\\133-090720-4\\\\data\\\\main.exdir'}}"
      ]
     },
     "execution_count": 188,
     "metadata": {},
     "output_type": "execute_result"
    }
   ],
   "source": [
    "actions['133-090720-4'].attributes"
   ]
  },
  {
   "cell_type": "code",
   "execution_count": 189,
   "metadata": {},
   "outputs": [],
   "source": [
    "data_loader = dp.Data()"
   ]
  },
  {
   "cell_type": "code",
   "execution_count": 190,
   "metadata": {},
   "outputs": [],
   "source": [
    "skip_actions = [\n",
    "\n",
    "]"
   ]
  },
  {
   "cell_type": "code",
   "execution_count": 191,
   "metadata": {},
   "outputs": [],
   "source": [
    "sessions = []\n",
    "for action in actions.values():\n",
    "    if action.id in skip_actions:\n",
    "        continue\n",
    "    if action.type != 'Recording':\n",
    "        continue\n",
    "    action_data_path = dp.get_data_path(action)\n",
    "    exdir_object =  exdir.File(action_data_path)\n",
    "    if 'processing' not in exdir_object:\n",
    "        continue\n",
    "        \n",
    "    processing = exdir_object['processing']\n",
    "    \n",
    "    if not 'electrophysiology' in processing:\n",
    "        continue\n",
    "    elphys = processing['electrophysiology']\n",
    "    if 'spikesorting' not in elphys:\n",
    "        continue  \n",
    "\n",
    "    sessions.append({\n",
    "       'action': action.id,\n",
    "       'session': int(action.id.split('-')[-1]),\n",
    "       'entity': int(action.entities[0]),\n",
    "\n",
    "   })\n",
    "sessions = pd.DataFrame(sessions)"
   ]
  },
  {
   "cell_type": "code",
   "execution_count": 192,
   "metadata": {
    "scrolled": false
   },
   "outputs": [
    {
     "data": {
      "text/html": [
       "<div>\n",
       "<style scoped>\n",
       "    .dataframe tbody tr th:only-of-type {\n",
       "        vertical-align: middle;\n",
       "    }\n",
       "\n",
       "    .dataframe tbody tr th {\n",
       "        vertical-align: top;\n",
       "    }\n",
       "\n",
       "    .dataframe thead th {\n",
       "        text-align: right;\n",
       "    }\n",
       "</style>\n",
       "<table border=\"1\" class=\"dataframe\">\n",
       "  <thead>\n",
       "    <tr style=\"text-align: right;\">\n",
       "      <th></th>\n",
       "      <th>action</th>\n",
       "      <th>session</th>\n",
       "      <th>entity</th>\n",
       "    </tr>\n",
       "  </thead>\n",
       "  <tbody>\n",
       "    <tr>\n",
       "      <th>0</th>\n",
       "      <td>133-010720-2</td>\n",
       "      <td>2</td>\n",
       "      <td>133</td>\n",
       "    </tr>\n",
       "    <tr>\n",
       "      <th>1</th>\n",
       "      <td>133-010720-3</td>\n",
       "      <td>3</td>\n",
       "      <td>133</td>\n",
       "    </tr>\n",
       "    <tr>\n",
       "      <th>2</th>\n",
       "      <td>133-020720-1</td>\n",
       "      <td>1</td>\n",
       "      <td>133</td>\n",
       "    </tr>\n",
       "    <tr>\n",
       "      <th>3</th>\n",
       "      <td>133-020720-2</td>\n",
       "      <td>2</td>\n",
       "      <td>133</td>\n",
       "    </tr>\n",
       "    <tr>\n",
       "      <th>4</th>\n",
       "      <td>133-020720-3</td>\n",
       "      <td>3</td>\n",
       "      <td>133</td>\n",
       "    </tr>\n",
       "    <tr>\n",
       "      <th>...</th>\n",
       "      <td>...</td>\n",
       "      <td>...</td>\n",
       "      <td>...</td>\n",
       "    </tr>\n",
       "    <tr>\n",
       "      <th>75</th>\n",
       "      <td>136-070720-2</td>\n",
       "      <td>2</td>\n",
       "      <td>136</td>\n",
       "    </tr>\n",
       "    <tr>\n",
       "      <th>76</th>\n",
       "      <td>136-080720-1</td>\n",
       "      <td>1</td>\n",
       "      <td>136</td>\n",
       "    </tr>\n",
       "    <tr>\n",
       "      <th>77</th>\n",
       "      <td>136-080720-2</td>\n",
       "      <td>2</td>\n",
       "      <td>136</td>\n",
       "    </tr>\n",
       "    <tr>\n",
       "      <th>78</th>\n",
       "      <td>136-080720-3</td>\n",
       "      <td>3</td>\n",
       "      <td>136</td>\n",
       "    </tr>\n",
       "    <tr>\n",
       "      <th>79</th>\n",
       "      <td>136-300620-2</td>\n",
       "      <td>2</td>\n",
       "      <td>136</td>\n",
       "    </tr>\n",
       "  </tbody>\n",
       "</table>\n",
       "<p>80 rows × 3 columns</p>\n",
       "</div>"
      ],
      "text/plain": [
       "          action  session  entity\n",
       "0   133-010720-2        2     133\n",
       "1   133-010720-3        3     133\n",
       "2   133-020720-1        1     133\n",
       "3   133-020720-2        2     133\n",
       "4   133-020720-3        3     133\n",
       "..           ...      ...     ...\n",
       "75  136-070720-2        2     136\n",
       "76  136-080720-1        1     136\n",
       "77  136-080720-2        2     136\n",
       "78  136-080720-3        3     136\n",
       "79  136-300620-2        2     136\n",
       "\n",
       "[80 rows x 3 columns]"
      ]
     },
     "execution_count": 192,
     "metadata": {},
     "output_type": "execute_result"
    }
   ],
   "source": [
    "sessions"
   ]
  },
  {
   "cell_type": "code",
   "execution_count": 193,
   "metadata": {},
   "outputs": [],
   "source": [
    "sessions['date'] = sessions.apply(lambda x: x.action.split('-')[1], axis=1)\n",
    "sessions['entity_date'] = sessions.apply(lambda x: '-'.join(x.action.split('-')[:2]), axis=1)"
   ]
  },
  {
   "cell_type": "code",
   "execution_count": 194,
   "metadata": {},
   "outputs": [],
   "source": [
    "sessions.to_csv(output / 'sessions.csv', index=False)"
   ]
  },
  {
   "cell_type": "markdown",
   "metadata": {},
   "source": [
    "# Identify unique neurons"
   ]
  },
  {
   "cell_type": "code",
   "execution_count": 195,
   "metadata": {},
   "outputs": [],
   "source": [
    "include = [\"133-090720-4\",\n",
    "          \"133-090720-5\",\n",
    "          \"133-090720-6\",\n",
    "          \"133-090720-7\"]"
   ]
  },
  {
   "cell_type": "code",
   "execution_count": 196,
   "metadata": {},
   "outputs": [],
   "source": [
    "sessions_include = sessions.query(\"action.isin(@include)\")"
   ]
  },
  {
   "cell_type": "code",
   "execution_count": 197,
   "metadata": {},
   "outputs": [
    {
     "data": {
      "text/html": [
       "<div>\n",
       "<style scoped>\n",
       "    .dataframe tbody tr th:only-of-type {\n",
       "        vertical-align: middle;\n",
       "    }\n",
       "\n",
       "    .dataframe tbody tr th {\n",
       "        vertical-align: top;\n",
       "    }\n",
       "\n",
       "    .dataframe thead th {\n",
       "        text-align: right;\n",
       "    }\n",
       "</style>\n",
       "<table border=\"1\" class=\"dataframe\">\n",
       "  <thead>\n",
       "    <tr style=\"text-align: right;\">\n",
       "      <th></th>\n",
       "      <th>action</th>\n",
       "      <th>session</th>\n",
       "      <th>entity</th>\n",
       "      <th>date</th>\n",
       "      <th>entity_date</th>\n",
       "    </tr>\n",
       "  </thead>\n",
       "  <tbody>\n",
       "    <tr>\n",
       "      <th>28</th>\n",
       "      <td>133-090720-4</td>\n",
       "      <td>4</td>\n",
       "      <td>133</td>\n",
       "      <td>090720</td>\n",
       "      <td>133-090720</td>\n",
       "    </tr>\n",
       "    <tr>\n",
       "      <th>29</th>\n",
       "      <td>133-090720-5</td>\n",
       "      <td>5</td>\n",
       "      <td>133</td>\n",
       "      <td>090720</td>\n",
       "      <td>133-090720</td>\n",
       "    </tr>\n",
       "    <tr>\n",
       "      <th>30</th>\n",
       "      <td>133-090720-6</td>\n",
       "      <td>6</td>\n",
       "      <td>133</td>\n",
       "      <td>090720</td>\n",
       "      <td>133-090720</td>\n",
       "    </tr>\n",
       "    <tr>\n",
       "      <th>31</th>\n",
       "      <td>133-090720-7</td>\n",
       "      <td>7</td>\n",
       "      <td>133</td>\n",
       "      <td>090720</td>\n",
       "      <td>133-090720</td>\n",
       "    </tr>\n",
       "  </tbody>\n",
       "</table>\n",
       "</div>"
      ],
      "text/plain": [
       "          action  session  entity    date entity_date\n",
       "28  133-090720-4        4     133  090720  133-090720\n",
       "29  133-090720-5        5     133  090720  133-090720\n",
       "30  133-090720-6        6     133  090720  133-090720\n",
       "31  133-090720-7        7     133  090720  133-090720"
      ]
     },
     "execution_count": 197,
     "metadata": {},
     "output_type": "execute_result"
    }
   ],
   "source": [
    "sessions_include"
   ]
  },
  {
   "cell_type": "code",
   "execution_count": 198,
   "metadata": {},
   "outputs": [
    {
     "name": "stdout",
     "output_type": "stream",
     "text": [
      "Processing 133\n"
     ]
    },
    {
     "data": {
      "application/vnd.jupyter.widget-view+json": {
       "model_id": "762dd245556c4f98acf4e83afe87e66c",
       "version_major": 2,
       "version_minor": 0
      },
      "text/plain": [
       "HBox(children=(FloatProgress(value=0.0, max=6.0), HTML(value='')))"
      ]
     },
     "metadata": {},
     "output_type": "display_data"
    },
    {
     "name": "stdout",
     "output_type": "stream",
     "text": [
      "\n"
     ]
    }
   ],
   "source": [
    "# save graphs\n",
    "for entity, values in sessions_include.groupby('entity'):\n",
    "    data_path = output / f'{entity}-graphs'\n",
    "    if data_path.exists():\n",
    "        continue\n",
    "    print('Processing', entity)\n",
    "    unit_matching = TrackMultipleSessions(\n",
    "        actions, values.action.values.tolist(), \n",
    "        progress_bar=tqdm, verbose=False, data_path=data_path\n",
    "    )\n",
    "    unit_matching.do_matching()\n",
    "    unit_matching.make_graphs_from_matches()\n",
    "#    unit_matching.compute_time_delta_edges()\n",
    "    unit_matching.compute_depth_delta_edges()\n",
    "    # save graph with all dissimilarities for later use\n",
    "    unit_matching.save_graphs()"
   ]
  },
  {
   "cell_type": "code",
   "execution_count": 199,
   "metadata": {},
   "outputs": [
    {
     "data": {
      "text/plain": [
       "WindowsPath('output/identify_neurons/133-graphs')"
      ]
     },
     "execution_count": 199,
     "metadata": {},
     "output_type": "execute_result"
    }
   ],
   "source": [
    "data_path"
   ]
  },
  {
   "cell_type": "markdown",
   "metadata": {},
   "source": [
    "# Plot comparisons"
   ]
  },
  {
   "cell_type": "code",
   "execution_count": 200,
   "metadata": {},
   "outputs": [],
   "source": [
    "unit_comp = unit_matching"
   ]
  },
  {
   "cell_type": "code",
   "execution_count": 138,
   "metadata": {},
   "outputs": [],
   "source": [
    "unit_comp = TrackMultipleSessions(actions, data_path=r'output\\identify_neurons\\133-graphs')"
   ]
  },
  {
   "cell_type": "code",
   "execution_count": 139,
   "metadata": {},
   "outputs": [],
   "source": [
    "unit_comp.load_graphs()"
   ]
  },
  {
   "cell_type": "code",
   "execution_count": 201,
   "metadata": {},
   "outputs": [],
   "source": [
    "max_dissimilarity = .05\n",
    "max_depth_delta = 100\n",
    "\n",
    "unit_comp.remove_edges_above_threshold('weight', max_dissimilarity)\n",
    "unit_comp.remove_edges_above_threshold('depth_delta', max_depth_delta)"
   ]
  },
  {
   "cell_type": "code",
   "execution_count": 202,
   "metadata": {
    "scrolled": false
   },
   "outputs": [],
   "source": [
    "unit_comp.remove_edges_with_duplicate_actions()\n",
    "unit_comp.identify_units()"
   ]
  },
  {
   "cell_type": "code",
   "execution_count": 203,
   "metadata": {
    "scrolled": false
   },
   "outputs": [
    {
     "data": {
      "text/plain": [
       "{0: {'0460db19-9a25-4871-a406-83f533c91612': {'average_dissimilarity': None,\n",
       "   'original_unit_ids': defaultdict(list, {'133-090720-4': ['1096']})},\n",
       "  '216bb823-8c1b-4c87-87e9-31bfa6f045e5': {'average_dissimilarity': None,\n",
       "   'original_unit_ids': defaultdict(list, {'133-090720-4': ['1099']})},\n",
       "  'e0002fea-3d01-4feb-bd6d-fc464932c52f': {'average_dissimilarity': None,\n",
       "   'original_unit_ids': defaultdict(list, {'133-090720-4': ['1124']})},\n",
       "  '48fd8478-a9ab-4864-a05f-36ba13b84c74': {'average_dissimilarity': None,\n",
       "   'original_unit_ids': defaultdict(list, {'133-090720-4': ['1147']})},\n",
       "  '7e839bbe-dd5c-4bb4-886b-6c4741a8595a': {'average_dissimilarity': None,\n",
       "   'original_unit_ids': defaultdict(list, {'133-090720-4': ['1398']})},\n",
       "  '2b887ead-5c2c-4b39-86f0-07896b39d26c': {'average_dissimilarity': None,\n",
       "   'original_unit_ids': defaultdict(list, {'133-090720-4': ['1401']})},\n",
       "  '0923ca44-1015-4e66-a97f-e69daa01e31c': {'average_dissimilarity': None,\n",
       "   'original_unit_ids': defaultdict(list, {'133-090720-4': ['1423']})},\n",
       "  'dd732d5c-c5a1-4d5c-a4e9-0029e14b67d6': {'average_dissimilarity': 0.03088238116671627,\n",
       "   'original_unit_ids': defaultdict(list,\n",
       "               {'133-090720-4': ['1487'],\n",
       "                '133-090720-7': ['61'],\n",
       "                '133-090720-5': ['573']})},\n",
       "  '4d019d1d-8969-448f-8cdc-a5349c2e3b08': {'average_dissimilarity': 0.029075237122025633,\n",
       "   'original_unit_ids': defaultdict(list,\n",
       "               {'133-090720-5': ['853'],\n",
       "                '133-090720-7': ['60'],\n",
       "                '133-090720-4': ['1490']})},\n",
       "  '401204ba-129a-4a82-8fa2-0d87450f3215': {'average_dissimilarity': 0.045524209651449134,\n",
       "   'original_unit_ids': defaultdict(list,\n",
       "               {'133-090720-4': ['1515'], '133-090720-7': ['283']})},\n",
       "  '197e686d-a864-43c7-8346-18c68ee746cd': {'average_dissimilarity': None,\n",
       "   'original_unit_ids': defaultdict(list, {'133-090720-4': ['1521']})},\n",
       "  'b2231dc8-0a78-48c4-8985-9667c53e6da7': {'average_dissimilarity': None,\n",
       "   'original_unit_ids': defaultdict(list, {'133-090720-4': ['1523']})},\n",
       "  'cf664add-200d-4d32-8726-1650f2500771': {'average_dissimilarity': 0.035366382768290364,\n",
       "   'original_unit_ids': defaultdict(list,\n",
       "               {'133-090720-5': ['857'], '133-090720-4': ['1538']})},\n",
       "  '48b08f54-e7bb-4f1a-a3de-e09f75c42ac2': {'average_dissimilarity': None,\n",
       "   'original_unit_ids': defaultdict(list, {'133-090720-4': ['1623']})},\n",
       "  'df58aaa4-224e-40c9-aa04-659d6563dfce': {'average_dissimilarity': None,\n",
       "   'original_unit_ids': defaultdict(list, {'133-090720-4': ['1666']})},\n",
       "  'fccb6a71-6258-45a3-ad1f-f62df7db3061': {'average_dissimilarity': None,\n",
       "   'original_unit_ids': defaultdict(list, {'133-090720-4': ['1674']})},\n",
       "  '42e9fba0-cd10-4ff6-81ea-bc510a14e710': {'average_dissimilarity': None,\n",
       "   'original_unit_ids': defaultdict(list, {'133-090720-4': ['1684']})},\n",
       "  '5ce05332-511b-4264-aadf-88f01f4dbb04': {'average_dissimilarity': None,\n",
       "   'original_unit_ids': defaultdict(list, {'133-090720-4': ['1705']})},\n",
       "  'b5e91be0-f85d-494d-ae5f-7c63a8aee1ba': {'average_dissimilarity': 0.04268938784612142,\n",
       "   'original_unit_ids': defaultdict(list,\n",
       "               {'133-090720-5': ['992'], '133-090720-4': ['1706']})},\n",
       "  'd08cd5bc-fef3-4798-adeb-a63b7ecedb2c': {'average_dissimilarity': None,\n",
       "   'original_unit_ids': defaultdict(list, {'133-090720-4': ['1710']})},\n",
       "  '02ec45f9-9629-4ee2-9c04-dab013402117': {'average_dissimilarity': 0.03331183648056305,\n",
       "   'original_unit_ids': defaultdict(list,\n",
       "               {'133-090720-4': ['1724'],\n",
       "                '133-090720-7': ['149'],\n",
       "                '133-090720-5': ['541']})},\n",
       "  '53b5bbbd-8293-4cd3-9913-a0a40222ec3e': {'average_dissimilarity': None,\n",
       "   'original_unit_ids': defaultdict(list, {'133-090720-4': ['1749']})},\n",
       "  '22afaf90-72c5-4e27-9296-c6c16f7d0589': {'average_dissimilarity': None,\n",
       "   'original_unit_ids': defaultdict(list, {'133-090720-4': ['942']})},\n",
       "  '25b00a4d-5f80-4f1f-b973-47b3749ccf01': {'average_dissimilarity': 0.03313654867592468,\n",
       "   'original_unit_ids': defaultdict(list,\n",
       "               {'133-090720-4': ['948'], '133-090720-5': ['448']})},\n",
       "  '1904d243-7ef7-4003-a20e-58abccd9f122': {'average_dissimilarity': None,\n",
       "   'original_unit_ids': defaultdict(list, {'133-090720-4': ['993']})},\n",
       "  '3c286601-4db9-4fb9-8f0e-ecc6c647d004': {'average_dissimilarity': None,\n",
       "   'original_unit_ids': defaultdict(list, {'133-090720-5': ['280']})},\n",
       "  '9c52069c-c777-4e40-a4a9-ecc628c8390a': {'average_dissimilarity': None,\n",
       "   'original_unit_ids': defaultdict(list, {'133-090720-5': ['433']})},\n",
       "  '83d21a50-62cc-41ef-9a5a-4b50799f2edc': {'average_dissimilarity': None,\n",
       "   'original_unit_ids': defaultdict(list, {'133-090720-5': ['437']})},\n",
       "  '66451f10-5d25-402c-8f79-b7e893254df5': {'average_dissimilarity': None,\n",
       "   'original_unit_ids': defaultdict(list, {'133-090720-5': ['439']})},\n",
       "  '349a4d03-299f-40a6-8580-3c630b66f54f': {'average_dissimilarity': None,\n",
       "   'original_unit_ids': defaultdict(list, {'133-090720-5': ['445']})},\n",
       "  'c4859219-b842-4e47-8816-a6388ce9d468': {'average_dissimilarity': None,\n",
       "   'original_unit_ids': defaultdict(list, {'133-090720-5': ['500']})},\n",
       "  '2e8ffdb8-5da1-4c68-8b38-8e010ba8b2f4': {'average_dissimilarity': 0.02517175441346759,\n",
       "   'original_unit_ids': defaultdict(list,\n",
       "               {'133-090720-5': ['503'], '133-090720-7': ['147']})},\n",
       "  '626f5922-0bcf-4ac2-8826-f2f84571bddc': {'average_dissimilarity': None,\n",
       "   'original_unit_ids': defaultdict(list, {'133-090720-5': ['563']})},\n",
       "  '4f31d3e1-c86d-4dbd-b956-03125f7465a3': {'average_dissimilarity': 0.031070678713870148,\n",
       "   'original_unit_ids': defaultdict(list,\n",
       "               {'133-090720-5': ['567'], '133-090720-7': ['80']})},\n",
       "  '6ab86fa4-abaa-4541-b15b-c13fd47eba5c': {'average_dissimilarity': None,\n",
       "   'original_unit_ids': defaultdict(list, {'133-090720-5': ['856']})},\n",
       "  'e1ba27fa-8f55-42bc-8bf6-7447556cac55': {'average_dissimilarity': None,\n",
       "   'original_unit_ids': defaultdict(list, {'133-090720-5': ['954']})},\n",
       "  'ac6542bc-3cd9-49dc-be16-5c0e41bd7cb2': {'average_dissimilarity': None,\n",
       "   'original_unit_ids': defaultdict(list, {'133-090720-5': ['977']})},\n",
       "  'b260d391-91a4-47f6-bb9e-5e13fce275b5': {'average_dissimilarity': None,\n",
       "   'original_unit_ids': defaultdict(list, {'133-090720-5': ['978']})},\n",
       "  'f665eeea-56b1-432d-bd9b-6655d2776bb2': {'average_dissimilarity': None,\n",
       "   'original_unit_ids': defaultdict(list, {'133-090720-5': ['991']})},\n",
       "  '563efe65-f85a-4ed9-8da7-d672b848a708': {'average_dissimilarity': None,\n",
       "   'original_unit_ids': defaultdict(list, {'133-090720-6': ['105']})},\n",
       "  '4a03ef3d-315b-4893-b85a-c6b00c6ebcac': {'average_dissimilarity': None,\n",
       "   'original_unit_ids': defaultdict(list, {'133-090720-6': ['564']})},\n",
       "  '8b43aa55-f143-48af-9b6f-1c6fcb5c2dee': {'average_dissimilarity': None,\n",
       "   'original_unit_ids': defaultdict(list, {'133-090720-6': ['574']})},\n",
       "  '80e4e4eb-492f-439f-baee-ba5ca99f6524': {'average_dissimilarity': None,\n",
       "   'original_unit_ids': defaultdict(list, {'133-090720-6': ['799']})},\n",
       "  '8585e2be-7dc9-4fcb-a204-0967992f12ce': {'average_dissimilarity': None,\n",
       "   'original_unit_ids': defaultdict(list, {'133-090720-6': ['805']})},\n",
       "  '76ddf1ed-8b2e-4fac-97a6-47bd64d4d390': {'average_dissimilarity': None,\n",
       "   'original_unit_ids': defaultdict(list, {'133-090720-6': ['809']})},\n",
       "  '3ba37a09-a9dd-4dcd-8e9e-c860a9c44824': {'average_dissimilarity': None,\n",
       "   'original_unit_ids': defaultdict(list, {'133-090720-6': ['810']})},\n",
       "  'd0b1cc43-5cbc-4611-a60e-331c70d31557': {'average_dissimilarity': None,\n",
       "   'original_unit_ids': defaultdict(list, {'133-090720-7': ['110']})},\n",
       "  'f1216654-1d76-4a9c-83c9-053e6fd612d9': {'average_dissimilarity': None,\n",
       "   'original_unit_ids': defaultdict(list, {'133-090720-7': ['124']})},\n",
       "  'e3d6e211-de7a-4aa9-91b4-649022b13b11': {'average_dissimilarity': None,\n",
       "   'original_unit_ids': defaultdict(list, {'133-090720-7': ['127']})},\n",
       "  '1df44a91-6186-48f6-926e-260fb83f65ef': {'average_dissimilarity': None,\n",
       "   'original_unit_ids': defaultdict(list, {'133-090720-7': ['186']})},\n",
       "  'c48a97a3-1b25-424b-a7b0-d53af780a398': {'average_dissimilarity': None,\n",
       "   'original_unit_ids': defaultdict(list, {'133-090720-7': ['189']})},\n",
       "  '12be9b61-6077-4f7f-9ec6-db46af65ed97': {'average_dissimilarity': None,\n",
       "   'original_unit_ids': defaultdict(list, {'133-090720-7': ['196']})},\n",
       "  'a05b6e41-83ed-4a25-96bd-cca166035b0f': {'average_dissimilarity': None,\n",
       "   'original_unit_ids': defaultdict(list, {'133-090720-7': ['202']})},\n",
       "  'f95d520f-68f5-45e4-8814-23a280bfb22d': {'average_dissimilarity': None,\n",
       "   'original_unit_ids': defaultdict(list, {'133-090720-7': ['206']})},\n",
       "  '25d83f37-f986-4ab7-becb-a17ba10454a8': {'average_dissimilarity': None,\n",
       "   'original_unit_ids': defaultdict(list, {'133-090720-7': ['284']})},\n",
       "  '0a2c9f8b-5b0a-481a-8a52-502149a235c1': {'average_dissimilarity': None,\n",
       "   'original_unit_ids': defaultdict(list, {'133-090720-7': ['76']})},\n",
       "  'f8456a26-07b9-4987-8c30-c489b907180f': {'average_dissimilarity': None,\n",
       "   'original_unit_ids': defaultdict(list, {'133-090720-7': ['78']})},\n",
       "  '4bbfd10b-f88c-4cc4-b6eb-7c6f5c6fd877': {'average_dissimilarity': None,\n",
       "   'original_unit_ids': defaultdict(list, {'133-090720-7': ['91']})},\n",
       "  '20fa0e1c-78ee-4333-8ec3-d143598dc2cc': {'average_dissimilarity': None,\n",
       "   'original_unit_ids': defaultdict(list, {'133-090720-7': ['95']})}},\n",
       " 1: {'98bd9e6a-b23f-4946-9fcd-ee374862e248': {'average_dissimilarity': None,\n",
       "   'original_unit_ids': defaultdict(list, {'133-090720-4': ['1457']})},\n",
       "  '9e3ae2fe-686b-4df8-b700-6bf2bce67d0b': {'average_dissimilarity': 0.03741931154510518,\n",
       "   'original_unit_ids': defaultdict(list,\n",
       "               {'133-090720-4': ['1590'],\n",
       "                '133-090720-5': ['285'],\n",
       "                '133-090720-7': ['128']})},\n",
       "  '990c0407-db3f-434c-973b-12c8dd109237': {'average_dissimilarity': None,\n",
       "   'original_unit_ids': defaultdict(list, {'133-090720-4': ['1603']})},\n",
       "  '1efb6580-e437-4a4c-96b1-379aa65aeaca': {'average_dissimilarity': None,\n",
       "   'original_unit_ids': defaultdict(list, {'133-090720-4': ['1777']})},\n",
       "  'e1921cd5-301c-4006-9b04-595fe036ca53': {'average_dissimilarity': None,\n",
       "   'original_unit_ids': defaultdict(list, {'133-090720-4': ['1779']})},\n",
       "  '3c528822-881a-4740-baa8-5c5f0cf73a75': {'average_dissimilarity': None,\n",
       "   'original_unit_ids': defaultdict(list, {'133-090720-4': ['1785']})},\n",
       "  '51aeb12c-f31b-475a-b052-3122428427d9': {'average_dissimilarity': None,\n",
       "   'original_unit_ids': defaultdict(list, {'133-090720-4': ['1787']})},\n",
       "  'a11e4512-6be5-422c-9882-2b9bbfbd6031': {'average_dissimilarity': None,\n",
       "   'original_unit_ids': defaultdict(list, {'133-090720-4': ['1795']})},\n",
       "  'a705aafe-5c7d-4fde-912f-fd172c44ceea': {'average_dissimilarity': None,\n",
       "   'original_unit_ids': defaultdict(list, {'133-090720-4': ['1799']})},\n",
       "  '56843aa3-a94f-460c-846d-59592b8dd0ad': {'average_dissimilarity': None,\n",
       "   'original_unit_ids': defaultdict(list, {'133-090720-4': ['1804']})},\n",
       "  'c3ba35ca-c859-4f78-bf88-7146773f4200': {'average_dissimilarity': None,\n",
       "   'original_unit_ids': defaultdict(list, {'133-090720-4': ['1836']})},\n",
       "  '84ae264b-93b8-4fd4-8cd5-a2011ddd026d': {'average_dissimilarity': None,\n",
       "   'original_unit_ids': defaultdict(list, {'133-090720-4': ['1840']})},\n",
       "  'ed7c0017-e93c-4daa-9754-e0d1b6771d89': {'average_dissimilarity': None,\n",
       "   'original_unit_ids': defaultdict(list, {'133-090720-4': ['1842']})},\n",
       "  'e2928918-7337-4c6c-bc11-0f03c374c492': {'average_dissimilarity': None,\n",
       "   'original_unit_ids': defaultdict(list, {'133-090720-4': ['1845']})},\n",
       "  'e3767352-50c3-4a06-adf8-c7e04acac8c6': {'average_dissimilarity': None,\n",
       "   'original_unit_ids': defaultdict(list, {'133-090720-4': ['1851']})},\n",
       "  '4e066e3c-3d0d-4c14-b08a-cac30f477aa2': {'average_dissimilarity': None,\n",
       "   'original_unit_ids': defaultdict(list, {'133-090720-5': ['199']})},\n",
       "  'a639cd3d-1e81-4886-8293-343eedd59bbd': {'average_dissimilarity': None,\n",
       "   'original_unit_ids': defaultdict(list, {'133-090720-5': ['638']})},\n",
       "  'd376668d-a8e1-4f26-bed5-3d2679b5fbfd': {'average_dissimilarity': None,\n",
       "   'original_unit_ids': defaultdict(list, {'133-090720-5': ['659']})},\n",
       "  'ccd685fd-fc32-46ef-8725-cc118bb745f5': {'average_dissimilarity': None,\n",
       "   'original_unit_ids': defaultdict(list, {'133-090720-5': ['661']})},\n",
       "  '9e5aed62-9cb2-40e1-ac62-a70fc0a6b903': {'average_dissimilarity': None,\n",
       "   'original_unit_ids': defaultdict(list, {'133-090720-5': ['662']})},\n",
       "  '252b2bde-8574-4e15-8185-6a7a594dfa63': {'average_dissimilarity': None,\n",
       "   'original_unit_ids': defaultdict(list, {'133-090720-5': ['663']})},\n",
       "  'dfd1d164-f981-4f47-a084-1874acccd4e3': {'average_dissimilarity': None,\n",
       "   'original_unit_ids': defaultdict(list, {'133-090720-5': ['676']})},\n",
       "  '52d6654c-ad5b-4f7f-8a0b-3fd562d60940': {'average_dissimilarity': None,\n",
       "   'original_unit_ids': defaultdict(list, {'133-090720-5': ['840']})},\n",
       "  '9fab3731-01fd-46cf-a646-2859b54c7916': {'average_dissimilarity': None,\n",
       "   'original_unit_ids': defaultdict(list, {'133-090720-5': ['858']})},\n",
       "  'cd129774-7303-46ef-bade-ab5044ec76e4': {'average_dissimilarity': None,\n",
       "   'original_unit_ids': defaultdict(list, {'133-090720-5': ['859']})},\n",
       "  '54551bbc-7356-4ccb-9207-3949aa5600ef': {'average_dissimilarity': None,\n",
       "   'original_unit_ids': defaultdict(list, {'133-090720-5': ['860']})},\n",
       "  '66d9d064-14a6-4f11-9e4e-2fcc87d14b1f': {'average_dissimilarity': None,\n",
       "   'original_unit_ids': defaultdict(list, {'133-090720-5': ['923']})},\n",
       "  '20d7ef31-5003-40dd-80d7-b8016789a82e': {'average_dissimilarity': None,\n",
       "   'original_unit_ids': defaultdict(list, {'133-090720-5': ['933']})},\n",
       "  '65d92a3e-b177-4bc8-83fa-30830824a60d': {'average_dissimilarity': None,\n",
       "   'original_unit_ids': defaultdict(list, {'133-090720-6': ['259']})},\n",
       "  '50795148-c7f5-47b7-977d-df4ff46b4c6c': {'average_dissimilarity': None,\n",
       "   'original_unit_ids': defaultdict(list, {'133-090720-6': ['677']})},\n",
       "  'af87b3e8-f4f7-4fba-ad5d-716d17cddda5': {'average_dissimilarity': None,\n",
       "   'original_unit_ids': defaultdict(list, {'133-090720-6': ['795']})},\n",
       "  '9293522d-a837-4cde-905f-edb33521777e': {'average_dissimilarity': None,\n",
       "   'original_unit_ids': defaultdict(list, {'133-090720-7': ['136']})},\n",
       "  '6d5b4803-ea3f-4f05-9629-40cd256f9fd7': {'average_dissimilarity': None,\n",
       "   'original_unit_ids': defaultdict(list, {'133-090720-7': ['145']})},\n",
       "  '9e07146d-ddd1-4314-a6c2-628d059074e7': {'average_dissimilarity': None,\n",
       "   'original_unit_ids': defaultdict(list, {'133-090720-7': ['210']})},\n",
       "  'f3cdfe42-c494-4c3f-b925-aa60712a236b': {'average_dissimilarity': None,\n",
       "   'original_unit_ids': defaultdict(list, {'133-090720-7': ['220']})},\n",
       "  '6c7ff7fd-72cc-405c-bbcb-04ece9692a17': {'average_dissimilarity': None,\n",
       "   'original_unit_ids': defaultdict(list, {'133-090720-7': ['237']})},\n",
       "  '383cd94c-3320-4e51-a85f-b457a9cef552': {'average_dissimilarity': None,\n",
       "   'original_unit_ids': defaultdict(list, {'133-090720-7': ['278']})}},\n",
       " 2: {'62053ac3-2599-46dd-852b-8ff43888c05d': {'average_dissimilarity': 0.032603757799876815,\n",
       "   'original_unit_ids': defaultdict(list,\n",
       "               {'133-090720-7': ['72'],\n",
       "                '133-090720-5': ['943'],\n",
       "                '133-090720-4': ['1743']})},\n",
       "  '503c879f-1beb-482b-a916-ea44de3789a9': {'average_dissimilarity': 0.04092925176329867,\n",
       "   'original_unit_ids': defaultdict(list,\n",
       "               {'133-090720-7': ['74'],\n",
       "                '133-090720-5': ['924'],\n",
       "                '133-090720-4': ['1764']})},\n",
       "  '8e0e7896-e09b-433a-b225-837992a641f3': {'average_dissimilarity': None,\n",
       "   'original_unit_ids': defaultdict(list, {'133-090720-4': ['1823']})},\n",
       "  '58d25079-4628-41c9-965f-e0418140715f': {'average_dissimilarity': None,\n",
       "   'original_unit_ids': defaultdict(list, {'133-090720-4': ['1832']})},\n",
       "  '7773e660-d471-41c6-a294-a39b4e896971': {'average_dissimilarity': None,\n",
       "   'original_unit_ids': defaultdict(list, {'133-090720-4': ['1834']})},\n",
       "  '051debe3-bcc9-4afe-8e23-2ea8df83d3db': {'average_dissimilarity': None,\n",
       "   'original_unit_ids': defaultdict(list, {'133-090720-5': ['664']})},\n",
       "  '1d81f4f6-39c2-43c6-a74a-a46cc2c7fa60': {'average_dissimilarity': None,\n",
       "   'original_unit_ids': defaultdict(list, {'133-090720-5': ['682']})},\n",
       "  '83e85144-44fb-4335-8110-d8f6677fe5e3': {'average_dissimilarity': None,\n",
       "   'original_unit_ids': defaultdict(list, {'133-090720-5': ['735']})},\n",
       "  'b081d602-a1c1-4a0b-bd59-737183f221c4': {'average_dissimilarity': None,\n",
       "   'original_unit_ids': defaultdict(list, {'133-090720-5': ['810']})},\n",
       "  '717e0779-47c7-4ec9-8ae1-b073ca1e6d94': {'average_dissimilarity': None,\n",
       "   'original_unit_ids': defaultdict(list, {'133-090720-5': ['848']})},\n",
       "  '542bf0d9-a6da-4290-a66c-b1494785d8f7': {'average_dissimilarity': None,\n",
       "   'original_unit_ids': defaultdict(list, {'133-090720-5': ['934']})},\n",
       "  'f199e4fa-9ec2-41ff-814e-e0a6fa08807d': {'average_dissimilarity': None,\n",
       "   'original_unit_ids': defaultdict(list, {'133-090720-5': ['940']})},\n",
       "  '3d69d366-ae83-49f8-8b71-dd445cf0dc06': {'average_dissimilarity': None,\n",
       "   'original_unit_ids': defaultdict(list, {'133-090720-5': ['941']})},\n",
       "  'e61acd8c-e4bb-48f6-8b29-105aad715a65': {'average_dissimilarity': 0.04599484485320736,\n",
       "   'original_unit_ids': defaultdict(list,\n",
       "               {'133-090720-5': ['942'], '133-090720-7': ['246']})},\n",
       "  'c7e669b3-d440-4199-931f-23a96ab75220': {'average_dissimilarity': None,\n",
       "   'original_unit_ids': defaultdict(list, {'133-090720-5': ['964']})},\n",
       "  'd4ce769b-12fd-40d0-a086-533769e9506b': {'average_dissimilarity': None,\n",
       "   'original_unit_ids': defaultdict(list, {'133-090720-6': ['260']})},\n",
       "  '5daff72c-0434-4749-9dc8-df290b80ccea': {'average_dissimilarity': None,\n",
       "   'original_unit_ids': defaultdict(list, {'133-090720-6': ['789']})},\n",
       "  'ae17e7ab-5e13-4d11-a778-8237491937df': {'average_dissimilarity': None,\n",
       "   'original_unit_ids': defaultdict(list, {'133-090720-6': ['790']})},\n",
       "  '8e94f68f-753e-47f2-8dba-ab222ab8cd9c': {'average_dissimilarity': None,\n",
       "   'original_unit_ids': defaultdict(list, {'133-090720-7': ['222']})},\n",
       "  '959f5e74-4653-48e1-8f13-3b7bf1ebe196': {'average_dissimilarity': None,\n",
       "   'original_unit_ids': defaultdict(list, {'133-090720-7': ['244']})},\n",
       "  '2548d1fb-bf1a-4ff3-985c-e0d15fce5e45': {'average_dissimilarity': None,\n",
       "   'original_unit_ids': defaultdict(list, {'133-090720-7': ['254']})}},\n",
       " 3: {},\n",
       " 4: {},\n",
       " 5: {},\n",
       " 6: {},\n",
       " 7: {'89de1191-88e7-4de7-ad0b-d6bec867bde7': {'average_dissimilarity': None,\n",
       "   'original_unit_ids': defaultdict(list, {'133-090720-7': ['38']})},\n",
       "  '309f2965-cf9c-4a8b-b867-f6461f0ad875': {'average_dissimilarity': None,\n",
       "   'original_unit_ids': defaultdict(list, {'133-090720-7': ['42']})},\n",
       "  'efe5f887-2de9-4bd3-b9a7-4c94390cc164': {'average_dissimilarity': None,\n",
       "   'original_unit_ids': defaultdict(list, {'133-090720-7': ['43']})}}}"
      ]
     },
     "execution_count": 203,
     "metadata": {},
     "output_type": "execute_result"
    }
   ],
   "source": [
    "unit_comp.identified_units"
   ]
  },
  {
   "cell_type": "code",
   "execution_count": 204,
   "metadata": {
    "scrolled": false
   },
   "outputs": [
    {
     "ename": "ValueError",
     "evalue": "'1487' is not in list",
     "output_type": "error",
     "traceback": [
      "\u001b[1;31m---------------------------------------------------------------------------\u001b[0m",
      "\u001b[1;31mValueError\u001b[0m                                Traceback (most recent call last)",
      "\u001b[1;32m<ipython-input-204-ceac8ac04922>\u001b[0m in \u001b[0;36m<module>\u001b[1;34m\u001b[0m\n\u001b[1;32m----> 1\u001b[1;33m \u001b[0munit_comp\u001b[0m\u001b[1;33m.\u001b[0m\u001b[0mplot_matches\u001b[0m\u001b[1;33m(\u001b[0m\u001b[1;34m'template'\u001b[0m\u001b[1;33m,\u001b[0m \u001b[0mchan_group\u001b[0m\u001b[1;33m=\u001b[0m\u001b[1;36m0\u001b[0m\u001b[1;33m,\u001b[0m \u001b[0mstep_color\u001b[0m\u001b[1;33m=\u001b[0m\u001b[1;32mFalse\u001b[0m\u001b[1;33m)\u001b[0m\u001b[1;33m\u001b[0m\u001b[1;33m\u001b[0m\u001b[0m\n\u001b[0m\u001b[0;32m      2\u001b[0m \u001b[0mplt\u001b[0m\u001b[1;33m.\u001b[0m\u001b[0mtight_layout\u001b[0m\u001b[1;33m(\u001b[0m\u001b[1;33m)\u001b[0m\u001b[1;33m\u001b[0m\u001b[1;33m\u001b[0m\u001b[0m\n",
      "\u001b[1;32mc:\\apps\\CA2_MEC\\ca2-mec\\trackunitmulticomparison.py\u001b[0m in \u001b[0;36mplot_matches\u001b[1;34m(self, style, chan_group, figsize, step_color)\u001b[0m\n\u001b[0;32m    285\u001b[0m                                 label=label)\n\u001b[0;32m    286\u001b[0m                         \u001b[1;32melif\u001b[0m \u001b[0mstyle\u001b[0m \u001b[1;33m==\u001b[0m \u001b[1;34m'template'\u001b[0m\u001b[1;33m:\u001b[0m\u001b[1;33m\u001b[0m\u001b[1;33m\u001b[0m\u001b[0m\n\u001b[1;32m--> 287\u001b[1;33m                             \u001b[0mtemplate\u001b[0m \u001b[1;33m=\u001b[0m \u001b[0mself\u001b[0m\u001b[1;33m.\u001b[0m\u001b[0m_get_template\u001b[0m\u001b[1;33m(\u001b[0m\u001b[0maction_id\u001b[0m\u001b[1;33m,\u001b[0m \u001b[0munit_id\u001b[0m\u001b[1;33m,\u001b[0m \u001b[0mch_group\u001b[0m\u001b[1;33m)\u001b[0m\u001b[1;33m\u001b[0m\u001b[1;33m\u001b[0m\u001b[0m\n\u001b[0m\u001b[0;32m    288\u001b[0m                             axs = plot_template(\n\u001b[0;32m    289\u001b[0m                                 \u001b[0mtemplate\u001b[0m\u001b[1;33m,\u001b[0m\u001b[1;33m\u001b[0m\u001b[1;33m\u001b[0m\u001b[0m\n",
      "\u001b[1;32mc:\\apps\\CA2_MEC\\ca2-mec\\trackunitmulticomparison.py\u001b[0m in \u001b[0;36m_get_template\u001b[1;34m(self, action_id, unit_id, channel_group)\u001b[0m\n\u001b[0;32m    237\u001b[0m                     \u001b[0mi\u001b[0m \u001b[1;33m=\u001b[0m \u001b[0mcomp\u001b[0m\u001b[1;33m.\u001b[0m\u001b[0maction_ids\u001b[0m\u001b[1;33m.\u001b[0m\u001b[0mindex\u001b[0m\u001b[1;33m(\u001b[0m\u001b[0maction_id\u001b[0m\u001b[1;33m)\u001b[0m\u001b[1;33m\u001b[0m\u001b[1;33m\u001b[0m\u001b[0m\n\u001b[0;32m    238\u001b[0m                     \u001b[0munit_ids\u001b[0m \u001b[1;33m=\u001b[0m \u001b[0mlist\u001b[0m\u001b[1;33m(\u001b[0m\u001b[0mcomp\u001b[0m\u001b[1;33m.\u001b[0m\u001b[0munit_ids\u001b[0m\u001b[1;33m[\u001b[0m\u001b[0mchannel_group\u001b[0m\u001b[1;33m]\u001b[0m\u001b[1;33m[\u001b[0m\u001b[0mi\u001b[0m\u001b[1;33m]\u001b[0m\u001b[1;33m)\u001b[0m\u001b[1;33m\u001b[0m\u001b[1;33m\u001b[0m\u001b[0m\n\u001b[1;32m--> 239\u001b[1;33m                     \u001b[0munit_idx\u001b[0m \u001b[1;33m=\u001b[0m \u001b[0munit_ids\u001b[0m\u001b[1;33m.\u001b[0m\u001b[0mindex\u001b[0m\u001b[1;33m(\u001b[0m\u001b[0munit_id\u001b[0m\u001b[1;33m)\u001b[0m\u001b[1;33m\u001b[0m\u001b[1;33m\u001b[0m\u001b[0m\n\u001b[0m\u001b[0;32m    240\u001b[0m                     \u001b[0mtemplate\u001b[0m \u001b[1;33m=\u001b[0m \u001b[0mcomp\u001b[0m\u001b[1;33m.\u001b[0m\u001b[0mtemplates\u001b[0m\u001b[1;33m[\u001b[0m\u001b[0mchannel_group\u001b[0m\u001b[1;33m]\u001b[0m\u001b[1;33m[\u001b[0m\u001b[0mi\u001b[0m\u001b[1;33m]\u001b[0m\u001b[1;33m[\u001b[0m\u001b[0munit_idx\u001b[0m\u001b[1;33m]\u001b[0m\u001b[1;33m\u001b[0m\u001b[1;33m\u001b[0m\u001b[0m\n\u001b[0;32m    241\u001b[0m                     \u001b[1;32mbreak\u001b[0m\u001b[1;33m\u001b[0m\u001b[1;33m\u001b[0m\u001b[0m\n",
      "\u001b[1;31mValueError\u001b[0m: '1487' is not in list"
     ]
    },
    {
     "data": {
      "text/plain": [
       "<Figure size 720x4536 with 0 Axes>"
      ]
     },
     "metadata": {},
     "output_type": "display_data"
    }
   ],
   "source": [
    "unit_comp.plot_matches('template', chan_group=0, step_color=False)\n",
    "plt.tight_layout()"
   ]
  },
  {
   "cell_type": "markdown",
   "metadata": {},
   "source": [
    "# Store uniqe unit ids to csv"
   ]
  },
  {
   "cell_type": "code",
   "execution_count": 120,
   "metadata": {},
   "outputs": [
    {
     "ename": "ConstructorError",
     "evalue": "could not determine a constructor for the tag 'tag:yaml.org,2002:python/object/apply:numpy.core.multiarray.scalar'\n  in \"output\\identify_neurons\\133-graphs\\graph-group-0.yaml\", line 959, column 14",
     "output_type": "error",
     "traceback": [
      "\u001b[1;31m---------------------------------------------------------------------------\u001b[0m",
      "\u001b[1;31mConstructorError\u001b[0m                          Traceback (most recent call last)",
      "\u001b[1;32m<ipython-input-120-e804ebe72f64>\u001b[0m in \u001b[0;36m<module>\u001b[1;34m\u001b[0m\n\u001b[0;32m      9\u001b[0m         \u001b[0mprogress_bar\u001b[0m\u001b[1;33m=\u001b[0m\u001b[0mtqdm\u001b[0m\u001b[1;33m,\u001b[0m \u001b[0mverbose\u001b[0m\u001b[1;33m=\u001b[0m\u001b[1;32mFalse\u001b[0m\u001b[1;33m,\u001b[0m \u001b[0mdata_path\u001b[0m\u001b[1;33m=\u001b[0m\u001b[0mdata_path\u001b[0m\u001b[1;33m\u001b[0m\u001b[1;33m\u001b[0m\u001b[0m\n\u001b[0;32m     10\u001b[0m     )\n\u001b[1;32m---> 11\u001b[1;33m     \u001b[0munit_matching\u001b[0m\u001b[1;33m.\u001b[0m\u001b[0mload_graphs\u001b[0m\u001b[1;33m(\u001b[0m\u001b[1;33m)\u001b[0m\u001b[1;33m\u001b[0m\u001b[1;33m\u001b[0m\u001b[0m\n\u001b[0m\u001b[0;32m     12\u001b[0m     \u001b[1;31m# cutoff large dissimilarities\u001b[0m\u001b[1;33m\u001b[0m\u001b[1;33m\u001b[0m\u001b[1;33m\u001b[0m\u001b[0m\n\u001b[0;32m     13\u001b[0m     \u001b[0munit_matching\u001b[0m\u001b[1;33m.\u001b[0m\u001b[0mremove_edges_above_threshold\u001b[0m\u001b[1;33m(\u001b[0m\u001b[1;34m'weight'\u001b[0m\u001b[1;33m,\u001b[0m \u001b[0mmax_dissimilarity\u001b[0m\u001b[1;33m)\u001b[0m\u001b[1;33m\u001b[0m\u001b[1;33m\u001b[0m\u001b[0m\n",
      "\u001b[1;32mc:\\apps\\CA2_MEC\\ca2-mec\\trackunitmulticomparison.py\u001b[0m in \u001b[0;36mload_graphs\u001b[1;34m(self)\u001b[0m\n\u001b[0;32m    184\u001b[0m             \u001b[1;32mif\u001b[0m \u001b[0mpath\u001b[0m\u001b[1;33m.\u001b[0m\u001b[0mname\u001b[0m\u001b[1;33m.\u001b[0m\u001b[0mstartswith\u001b[0m\u001b[1;33m(\u001b[0m\u001b[1;34m'graph-group'\u001b[0m\u001b[1;33m)\u001b[0m \u001b[1;32mand\u001b[0m \u001b[0mpath\u001b[0m\u001b[1;33m.\u001b[0m\u001b[0msuffix\u001b[0m \u001b[1;33m==\u001b[0m \u001b[1;34m'.yaml'\u001b[0m\u001b[1;33m:\u001b[0m\u001b[1;33m\u001b[0m\u001b[1;33m\u001b[0m\u001b[0m\n\u001b[0;32m    185\u001b[0m                 \u001b[0mch\u001b[0m \u001b[1;33m=\u001b[0m \u001b[0mint\u001b[0m\u001b[1;33m(\u001b[0m\u001b[0mpath\u001b[0m\u001b[1;33m.\u001b[0m\u001b[0mstem\u001b[0m\u001b[1;33m.\u001b[0m\u001b[0msplit\u001b[0m\u001b[1;33m(\u001b[0m\u001b[1;34m'-'\u001b[0m\u001b[1;33m)\u001b[0m\u001b[1;33m[\u001b[0m\u001b[1;33m-\u001b[0m\u001b[1;36m1\u001b[0m\u001b[1;33m]\u001b[0m\u001b[1;33m)\u001b[0m\u001b[1;33m\u001b[0m\u001b[1;33m\u001b[0m\u001b[0m\n\u001b[1;32m--> 186\u001b[1;33m                 \u001b[0mself\u001b[0m\u001b[1;33m.\u001b[0m\u001b[0mgraphs\u001b[0m\u001b[1;33m[\u001b[0m\u001b[0mch\u001b[0m\u001b[1;33m]\u001b[0m \u001b[1;33m=\u001b[0m \u001b[0mnx\u001b[0m\u001b[1;33m.\u001b[0m\u001b[0mreadwrite\u001b[0m\u001b[1;33m.\u001b[0m\u001b[0mread_yaml\u001b[0m\u001b[1;33m(\u001b[0m\u001b[0mpath\u001b[0m\u001b[1;33m)\u001b[0m\u001b[1;33m\u001b[0m\u001b[1;33m\u001b[0m\u001b[0m\n\u001b[0m\u001b[0;32m    187\u001b[0m \u001b[1;33m\u001b[0m\u001b[0m\n\u001b[0;32m    188\u001b[0m     \u001b[1;32mdef\u001b[0m \u001b[0midentify_units\u001b[0m\u001b[1;33m(\u001b[0m\u001b[0mself\u001b[0m\u001b[1;33m)\u001b[0m\u001b[1;33m:\u001b[0m\u001b[1;33m\u001b[0m\u001b[1;33m\u001b[0m\u001b[0m\n",
      "\u001b[1;32m<decorator-gen-778>\u001b[0m in \u001b[0;36mread_yaml\u001b[1;34m(path)\u001b[0m\n",
      "\u001b[1;32mc:\\users\\sarahht\\appdata\\local\\continuum\\anaconda3\\envs\\expipe\\lib\\site-packages\\networkx\\utils\\decorators.py\u001b[0m in \u001b[0;36m_open_file\u001b[1;34m(func_to_be_decorated, *args, **kwargs)\u001b[0m\n\u001b[0;32m    238\u001b[0m         \u001b[1;31m# Finally, we call the original function, making sure to close the fobj\u001b[0m\u001b[1;33m\u001b[0m\u001b[1;33m\u001b[0m\u001b[1;33m\u001b[0m\u001b[0m\n\u001b[0;32m    239\u001b[0m         \u001b[1;32mtry\u001b[0m\u001b[1;33m:\u001b[0m\u001b[1;33m\u001b[0m\u001b[1;33m\u001b[0m\u001b[0m\n\u001b[1;32m--> 240\u001b[1;33m             \u001b[0mresult\u001b[0m \u001b[1;33m=\u001b[0m \u001b[0mfunc_to_be_decorated\u001b[0m\u001b[1;33m(\u001b[0m\u001b[1;33m*\u001b[0m\u001b[0mnew_args\u001b[0m\u001b[1;33m,\u001b[0m \u001b[1;33m**\u001b[0m\u001b[0mkwargs\u001b[0m\u001b[1;33m)\u001b[0m\u001b[1;33m\u001b[0m\u001b[1;33m\u001b[0m\u001b[0m\n\u001b[0m\u001b[0;32m    241\u001b[0m         \u001b[1;32mfinally\u001b[0m\u001b[1;33m:\u001b[0m\u001b[1;33m\u001b[0m\u001b[1;33m\u001b[0m\u001b[0m\n\u001b[0;32m    242\u001b[0m             \u001b[1;32mif\u001b[0m \u001b[0mclose_fobj\u001b[0m\u001b[1;33m:\u001b[0m\u001b[1;33m\u001b[0m\u001b[1;33m\u001b[0m\u001b[0m\n",
      "\u001b[1;32mc:\\users\\sarahht\\appdata\\local\\continuum\\anaconda3\\envs\\expipe\\lib\\site-packages\\networkx\\readwrite\\nx_yaml.py\u001b[0m in \u001b[0;36mread_yaml\u001b[1;34m(path)\u001b[0m\n\u001b[0;32m     97\u001b[0m         \u001b[1;32mraise\u001b[0m \u001b[0mImportError\u001b[0m\u001b[1;33m(\u001b[0m\u001b[1;34m\"read_yaml() requires PyYAML: http://pyyaml.org/\"\u001b[0m\u001b[1;33m)\u001b[0m\u001b[1;33m\u001b[0m\u001b[1;33m\u001b[0m\u001b[0m\n\u001b[0;32m     98\u001b[0m \u001b[1;33m\u001b[0m\u001b[0m\n\u001b[1;32m---> 99\u001b[1;33m     \u001b[0mG\u001b[0m \u001b[1;33m=\u001b[0m \u001b[0myaml\u001b[0m\u001b[1;33m.\u001b[0m\u001b[0mload\u001b[0m\u001b[1;33m(\u001b[0m\u001b[0mpath\u001b[0m\u001b[1;33m,\u001b[0m \u001b[0mLoader\u001b[0m\u001b[1;33m=\u001b[0m\u001b[0myaml\u001b[0m\u001b[1;33m.\u001b[0m\u001b[0mFullLoader\u001b[0m\u001b[1;33m)\u001b[0m\u001b[1;33m\u001b[0m\u001b[1;33m\u001b[0m\u001b[0m\n\u001b[0m\u001b[0;32m    100\u001b[0m     \u001b[1;32mreturn\u001b[0m \u001b[0mG\u001b[0m\u001b[1;33m\u001b[0m\u001b[1;33m\u001b[0m\u001b[0m\n\u001b[0;32m    101\u001b[0m \u001b[1;33m\u001b[0m\u001b[0m\n",
      "\u001b[1;32mc:\\users\\sarahht\\appdata\\local\\continuum\\anaconda3\\envs\\expipe\\lib\\site-packages\\yaml\\__init__.py\u001b[0m in \u001b[0;36mload\u001b[1;34m(stream, Loader)\u001b[0m\n\u001b[0;32m    112\u001b[0m     \u001b[0mloader\u001b[0m \u001b[1;33m=\u001b[0m \u001b[0mLoader\u001b[0m\u001b[1;33m(\u001b[0m\u001b[0mstream\u001b[0m\u001b[1;33m)\u001b[0m\u001b[1;33m\u001b[0m\u001b[1;33m\u001b[0m\u001b[0m\n\u001b[0;32m    113\u001b[0m     \u001b[1;32mtry\u001b[0m\u001b[1;33m:\u001b[0m\u001b[1;33m\u001b[0m\u001b[1;33m\u001b[0m\u001b[0m\n\u001b[1;32m--> 114\u001b[1;33m         \u001b[1;32mreturn\u001b[0m \u001b[0mloader\u001b[0m\u001b[1;33m.\u001b[0m\u001b[0mget_single_data\u001b[0m\u001b[1;33m(\u001b[0m\u001b[1;33m)\u001b[0m\u001b[1;33m\u001b[0m\u001b[1;33m\u001b[0m\u001b[0m\n\u001b[0m\u001b[0;32m    115\u001b[0m     \u001b[1;32mfinally\u001b[0m\u001b[1;33m:\u001b[0m\u001b[1;33m\u001b[0m\u001b[1;33m\u001b[0m\u001b[0m\n\u001b[0;32m    116\u001b[0m         \u001b[0mloader\u001b[0m\u001b[1;33m.\u001b[0m\u001b[0mdispose\u001b[0m\u001b[1;33m(\u001b[0m\u001b[1;33m)\u001b[0m\u001b[1;33m\u001b[0m\u001b[1;33m\u001b[0m\u001b[0m\n",
      "\u001b[1;32mc:\\users\\sarahht\\appdata\\local\\continuum\\anaconda3\\envs\\expipe\\lib\\site-packages\\yaml\\constructor.py\u001b[0m in \u001b[0;36mget_single_data\u001b[1;34m(self)\u001b[0m\n\u001b[0;32m     49\u001b[0m         \u001b[0mnode\u001b[0m \u001b[1;33m=\u001b[0m \u001b[0mself\u001b[0m\u001b[1;33m.\u001b[0m\u001b[0mget_single_node\u001b[0m\u001b[1;33m(\u001b[0m\u001b[1;33m)\u001b[0m\u001b[1;33m\u001b[0m\u001b[1;33m\u001b[0m\u001b[0m\n\u001b[0;32m     50\u001b[0m         \u001b[1;32mif\u001b[0m \u001b[0mnode\u001b[0m \u001b[1;32mis\u001b[0m \u001b[1;32mnot\u001b[0m \u001b[1;32mNone\u001b[0m\u001b[1;33m:\u001b[0m\u001b[1;33m\u001b[0m\u001b[1;33m\u001b[0m\u001b[0m\n\u001b[1;32m---> 51\u001b[1;33m             \u001b[1;32mreturn\u001b[0m \u001b[0mself\u001b[0m\u001b[1;33m.\u001b[0m\u001b[0mconstruct_document\u001b[0m\u001b[1;33m(\u001b[0m\u001b[0mnode\u001b[0m\u001b[1;33m)\u001b[0m\u001b[1;33m\u001b[0m\u001b[1;33m\u001b[0m\u001b[0m\n\u001b[0m\u001b[0;32m     52\u001b[0m         \u001b[1;32mreturn\u001b[0m \u001b[1;32mNone\u001b[0m\u001b[1;33m\u001b[0m\u001b[1;33m\u001b[0m\u001b[0m\n\u001b[0;32m     53\u001b[0m \u001b[1;33m\u001b[0m\u001b[0m\n",
      "\u001b[1;32mc:\\users\\sarahht\\appdata\\local\\continuum\\anaconda3\\envs\\expipe\\lib\\site-packages\\yaml\\constructor.py\u001b[0m in \u001b[0;36mconstruct_document\u001b[1;34m(self, node)\u001b[0m\n\u001b[0;32m     58\u001b[0m             \u001b[0mself\u001b[0m\u001b[1;33m.\u001b[0m\u001b[0mstate_generators\u001b[0m \u001b[1;33m=\u001b[0m \u001b[1;33m[\u001b[0m\u001b[1;33m]\u001b[0m\u001b[1;33m\u001b[0m\u001b[1;33m\u001b[0m\u001b[0m\n\u001b[0;32m     59\u001b[0m             \u001b[1;32mfor\u001b[0m \u001b[0mgenerator\u001b[0m \u001b[1;32min\u001b[0m \u001b[0mstate_generators\u001b[0m\u001b[1;33m:\u001b[0m\u001b[1;33m\u001b[0m\u001b[1;33m\u001b[0m\u001b[0m\n\u001b[1;32m---> 60\u001b[1;33m                 \u001b[1;32mfor\u001b[0m \u001b[0mdummy\u001b[0m \u001b[1;32min\u001b[0m \u001b[0mgenerator\u001b[0m\u001b[1;33m:\u001b[0m\u001b[1;33m\u001b[0m\u001b[1;33m\u001b[0m\u001b[0m\n\u001b[0m\u001b[0;32m     61\u001b[0m                     \u001b[1;32mpass\u001b[0m\u001b[1;33m\u001b[0m\u001b[1;33m\u001b[0m\u001b[0m\n\u001b[0;32m     62\u001b[0m         \u001b[0mself\u001b[0m\u001b[1;33m.\u001b[0m\u001b[0mconstructed_objects\u001b[0m \u001b[1;33m=\u001b[0m \u001b[1;33m{\u001b[0m\u001b[1;33m}\u001b[0m\u001b[1;33m\u001b[0m\u001b[1;33m\u001b[0m\u001b[0m\n",
      "\u001b[1;32mc:\\users\\sarahht\\appdata\\local\\continuum\\anaconda3\\envs\\expipe\\lib\\site-packages\\yaml\\constructor.py\u001b[0m in \u001b[0;36mconstruct_yaml_map\u001b[1;34m(self, node)\u001b[0m\n\u001b[0;32m    411\u001b[0m         \u001b[0mdata\u001b[0m \u001b[1;33m=\u001b[0m \u001b[1;33m{\u001b[0m\u001b[1;33m}\u001b[0m\u001b[1;33m\u001b[0m\u001b[1;33m\u001b[0m\u001b[0m\n\u001b[0;32m    412\u001b[0m         \u001b[1;32myield\u001b[0m \u001b[0mdata\u001b[0m\u001b[1;33m\u001b[0m\u001b[1;33m\u001b[0m\u001b[0m\n\u001b[1;32m--> 413\u001b[1;33m         \u001b[0mvalue\u001b[0m \u001b[1;33m=\u001b[0m \u001b[0mself\u001b[0m\u001b[1;33m.\u001b[0m\u001b[0mconstruct_mapping\u001b[0m\u001b[1;33m(\u001b[0m\u001b[0mnode\u001b[0m\u001b[1;33m)\u001b[0m\u001b[1;33m\u001b[0m\u001b[1;33m\u001b[0m\u001b[0m\n\u001b[0m\u001b[0;32m    414\u001b[0m         \u001b[0mdata\u001b[0m\u001b[1;33m.\u001b[0m\u001b[0mupdate\u001b[0m\u001b[1;33m(\u001b[0m\u001b[0mvalue\u001b[0m\u001b[1;33m)\u001b[0m\u001b[1;33m\u001b[0m\u001b[1;33m\u001b[0m\u001b[0m\n\u001b[0;32m    415\u001b[0m \u001b[1;33m\u001b[0m\u001b[0m\n",
      "\u001b[1;32mc:\\users\\sarahht\\appdata\\local\\continuum\\anaconda3\\envs\\expipe\\lib\\site-packages\\yaml\\constructor.py\u001b[0m in \u001b[0;36mconstruct_mapping\u001b[1;34m(self, node, deep)\u001b[0m\n\u001b[0;32m    216\u001b[0m         \u001b[1;32mif\u001b[0m \u001b[0misinstance\u001b[0m\u001b[1;33m(\u001b[0m\u001b[0mnode\u001b[0m\u001b[1;33m,\u001b[0m \u001b[0mMappingNode\u001b[0m\u001b[1;33m)\u001b[0m\u001b[1;33m:\u001b[0m\u001b[1;33m\u001b[0m\u001b[1;33m\u001b[0m\u001b[0m\n\u001b[0;32m    217\u001b[0m             \u001b[0mself\u001b[0m\u001b[1;33m.\u001b[0m\u001b[0mflatten_mapping\u001b[0m\u001b[1;33m(\u001b[0m\u001b[0mnode\u001b[0m\u001b[1;33m)\u001b[0m\u001b[1;33m\u001b[0m\u001b[1;33m\u001b[0m\u001b[0m\n\u001b[1;32m--> 218\u001b[1;33m         \u001b[1;32mreturn\u001b[0m \u001b[0msuper\u001b[0m\u001b[1;33m(\u001b[0m\u001b[1;33m)\u001b[0m\u001b[1;33m.\u001b[0m\u001b[0mconstruct_mapping\u001b[0m\u001b[1;33m(\u001b[0m\u001b[0mnode\u001b[0m\u001b[1;33m,\u001b[0m \u001b[0mdeep\u001b[0m\u001b[1;33m=\u001b[0m\u001b[0mdeep\u001b[0m\u001b[1;33m)\u001b[0m\u001b[1;33m\u001b[0m\u001b[1;33m\u001b[0m\u001b[0m\n\u001b[0m\u001b[0;32m    219\u001b[0m \u001b[1;33m\u001b[0m\u001b[0m\n\u001b[0;32m    220\u001b[0m     \u001b[1;32mdef\u001b[0m \u001b[0mconstruct_yaml_null\u001b[0m\u001b[1;33m(\u001b[0m\u001b[0mself\u001b[0m\u001b[1;33m,\u001b[0m \u001b[0mnode\u001b[0m\u001b[1;33m)\u001b[0m\u001b[1;33m:\u001b[0m\u001b[1;33m\u001b[0m\u001b[1;33m\u001b[0m\u001b[0m\n",
      "\u001b[1;32mc:\\users\\sarahht\\appdata\\local\\continuum\\anaconda3\\envs\\expipe\\lib\\site-packages\\yaml\\constructor.py\u001b[0m in \u001b[0;36mconstruct_mapping\u001b[1;34m(self, node, deep)\u001b[0m\n\u001b[0;32m    141\u001b[0m                 raise ConstructorError(\"while constructing a mapping\", node.start_mark,\n\u001b[0;32m    142\u001b[0m                         \"found unhashable key\", key_node.start_mark)\n\u001b[1;32m--> 143\u001b[1;33m             \u001b[0mvalue\u001b[0m \u001b[1;33m=\u001b[0m \u001b[0mself\u001b[0m\u001b[1;33m.\u001b[0m\u001b[0mconstruct_object\u001b[0m\u001b[1;33m(\u001b[0m\u001b[0mvalue_node\u001b[0m\u001b[1;33m,\u001b[0m \u001b[0mdeep\u001b[0m\u001b[1;33m=\u001b[0m\u001b[0mdeep\u001b[0m\u001b[1;33m)\u001b[0m\u001b[1;33m\u001b[0m\u001b[1;33m\u001b[0m\u001b[0m\n\u001b[0m\u001b[0;32m    144\u001b[0m             \u001b[0mmapping\u001b[0m\u001b[1;33m[\u001b[0m\u001b[0mkey\u001b[0m\u001b[1;33m]\u001b[0m \u001b[1;33m=\u001b[0m \u001b[0mvalue\u001b[0m\u001b[1;33m\u001b[0m\u001b[1;33m\u001b[0m\u001b[0m\n\u001b[0;32m    145\u001b[0m         \u001b[1;32mreturn\u001b[0m \u001b[0mmapping\u001b[0m\u001b[1;33m\u001b[0m\u001b[1;33m\u001b[0m\u001b[0m\n",
      "\u001b[1;32mc:\\users\\sarahht\\appdata\\local\\continuum\\anaconda3\\envs\\expipe\\lib\\site-packages\\yaml\\constructor.py\u001b[0m in \u001b[0;36mconstruct_object\u001b[1;34m(self, node, deep)\u001b[0m\n\u001b[0;32m     98\u001b[0m                     \u001b[0mconstructor\u001b[0m \u001b[1;33m=\u001b[0m \u001b[0mself\u001b[0m\u001b[1;33m.\u001b[0m\u001b[0m__class__\u001b[0m\u001b[1;33m.\u001b[0m\u001b[0mconstruct_mapping\u001b[0m\u001b[1;33m\u001b[0m\u001b[1;33m\u001b[0m\u001b[0m\n\u001b[0;32m     99\u001b[0m         \u001b[1;32mif\u001b[0m \u001b[0mtag_suffix\u001b[0m \u001b[1;32mis\u001b[0m \u001b[1;32mNone\u001b[0m\u001b[1;33m:\u001b[0m\u001b[1;33m\u001b[0m\u001b[1;33m\u001b[0m\u001b[0m\n\u001b[1;32m--> 100\u001b[1;33m             \u001b[0mdata\u001b[0m \u001b[1;33m=\u001b[0m \u001b[0mconstructor\u001b[0m\u001b[1;33m(\u001b[0m\u001b[0mself\u001b[0m\u001b[1;33m,\u001b[0m \u001b[0mnode\u001b[0m\u001b[1;33m)\u001b[0m\u001b[1;33m\u001b[0m\u001b[1;33m\u001b[0m\u001b[0m\n\u001b[0m\u001b[0;32m    101\u001b[0m         \u001b[1;32melse\u001b[0m\u001b[1;33m:\u001b[0m\u001b[1;33m\u001b[0m\u001b[1;33m\u001b[0m\u001b[0m\n\u001b[0;32m    102\u001b[0m             \u001b[0mdata\u001b[0m \u001b[1;33m=\u001b[0m \u001b[0mconstructor\u001b[0m\u001b[1;33m(\u001b[0m\u001b[0mself\u001b[0m\u001b[1;33m,\u001b[0m \u001b[0mtag_suffix\u001b[0m\u001b[1;33m,\u001b[0m \u001b[0mnode\u001b[0m\u001b[1;33m)\u001b[0m\u001b[1;33m\u001b[0m\u001b[1;33m\u001b[0m\u001b[0m\n",
      "\u001b[1;32mc:\\users\\sarahht\\appdata\\local\\continuum\\anaconda3\\envs\\expipe\\lib\\site-packages\\yaml\\constructor.py\u001b[0m in \u001b[0;36mconstruct_undefined\u001b[1;34m(self, node)\u001b[0m\n\u001b[0;32m    427\u001b[0m         raise ConstructorError(None, None,\n\u001b[0;32m    428\u001b[0m                 \u001b[1;34m\"could not determine a constructor for the tag %r\"\u001b[0m \u001b[1;33m%\u001b[0m \u001b[0mnode\u001b[0m\u001b[1;33m.\u001b[0m\u001b[0mtag\u001b[0m\u001b[1;33m,\u001b[0m\u001b[1;33m\u001b[0m\u001b[1;33m\u001b[0m\u001b[0m\n\u001b[1;32m--> 429\u001b[1;33m                 node.start_mark)\n\u001b[0m\u001b[0;32m    430\u001b[0m \u001b[1;33m\u001b[0m\u001b[0m\n\u001b[0;32m    431\u001b[0m SafeConstructor.add_constructor(\n",
      "\u001b[1;31mConstructorError\u001b[0m: could not determine a constructor for the tag 'tag:yaml.org,2002:python/object/apply:numpy.core.multiarray.scalar'\n  in \"output\\identify_neurons\\133-graphs\\graph-group-0.yaml\", line 959, column 14"
     ]
    }
   ],
   "source": [
    "max_dissimilarity = .05\n",
    "max_depth_delta = 100\n",
    "id_nums = {}\n",
    "num = 0\n",
    "for entity, values in sessions_include.groupby('entity'):\n",
    "    data_path = output / f'{entity}-graphs'\n",
    "    unit_matching = TrackMultipleSessions(\n",
    "        actions, values.action.values.tolist(), \n",
    "        progress_bar=tqdm, verbose=False, data_path=data_path\n",
    "    )\n",
    "    unit_matching.load_graphs()\n",
    "    # cutoff large dissimilarities\n",
    "    unit_matching.remove_edges_above_threshold('weight', max_dissimilarity)\n",
    "    unit_matching.remove_edges_above_threshold('depth_delta', max_depth_delta)\n",
    "    unit_matching.remove_edges_with_duplicate_actions()\n",
    "    unit_matching.identify_units()\n",
    "    units = []\n",
    "    for ch, group in unit_matching.identified_units.items():\n",
    "        for unit_id, val in group.items():\n",
    "            for action_id, orig_unit_ids in val['original_unit_ids'].items():\n",
    "                if unit_id not in id_nums:\n",
    "                    id_nums[unit_id] = num\n",
    "                    num += 1\n",
    "                units.extend([\n",
    "                    {\n",
    "                        'unit_name': name, \n",
    "                        'unit_idnum': id_nums[unit_id],\n",
    "                        'unit_id': unit_id, \n",
    "                        'action': action_id,\n",
    "                        'channel_group': ch,\n",
    "                        'max_dissimilarity': max_dissimilarity,\n",
    "                        'max_depth_delta': max_depth_delta\n",
    "                    } \n",
    "                    for name in orig_unit_ids])\n",
    "    units = pd.DataFrame(units)\n",
    "    units = units[~units.action.isin(skip_actions)]\n",
    "    units.to_csv(output / f'{entity}-units.csv', index=False)"
   ]
  },
  {
   "cell_type": "code",
   "execution_count": 45,
   "metadata": {},
   "outputs": [],
   "source": [
    "unique_units = pd.concat([\n",
    "    pd.read_csv(p) \n",
    "    for p in output.iterdir() \n",
    "    if p.name.endswith('-units.csv')])"
   ]
  },
  {
   "cell_type": "code",
   "execution_count": null,
   "metadata": {},
   "outputs": [],
   "source": [
    "# remove 1834-010319-3 unit 72"
   ]
  },
  {
   "cell_type": "code",
   "execution_count": 46,
   "metadata": {},
   "outputs": [],
   "source": [
    "unique_units.to_csv(output / 'units.csv', index=False)"
   ]
  },
  {
   "cell_type": "markdown",
   "metadata": {},
   "source": [
    "# Store results in Expipe action"
   ]
  },
  {
   "cell_type": "code",
   "execution_count": 47,
   "metadata": {},
   "outputs": [],
   "source": [
    "identify_neurons.data['sessions'] = 'sessions.csv'\n",
    "identify_neurons.data['units'] = 'units.csv'"
   ]
  },
  {
   "cell_type": "code",
   "execution_count": 48,
   "metadata": {},
   "outputs": [
    {
     "data": {
      "text/plain": [
       "['/media/storage/expipe/septum-mec/actions/identify-neurons/data/1834-units.csv',\n",
       " '/media/storage/expipe/septum-mec/actions/identify-neurons/data/all_non_identified_units.csv',\n",
       " '/media/storage/expipe/septum-mec/actions/identify-neurons/data/1834-graphs/graph-group-7.yaml',\n",
       " '/media/storage/expipe/septum-mec/actions/identify-neurons/data/1834-graphs/graph-group-0.yaml',\n",
       " '/media/storage/expipe/septum-mec/actions/identify-neurons/data/1834-graphs/graph-group-6.yaml',\n",
       " '/media/storage/expipe/septum-mec/actions/identify-neurons/data/1834-graphs/graph-group-1.yaml',\n",
       " '/media/storage/expipe/septum-mec/actions/identify-neurons/data/1834-graphs/graph-group-2.yaml',\n",
       " '/media/storage/expipe/septum-mec/actions/identify-neurons/data/1834-graphs/graph-group-5.yaml',\n",
       " '/media/storage/expipe/septum-mec/actions/identify-neurons/data/1834-graphs/graph-group-3.yaml',\n",
       " '/media/storage/expipe/septum-mec/actions/identify-neurons/data/1834-graphs/graph-group-4.yaml',\n",
       " '/media/storage/expipe/septum-mec/actions/identify-neurons/data/1849-units.csv',\n",
       " '/media/storage/expipe/septum-mec/actions/identify-neurons/data/sessions.csv',\n",
       " '/media/storage/expipe/septum-mec/actions/identify-neurons/data/1833-units.csv',\n",
       " '/media/storage/expipe/septum-mec/actions/identify-neurons/data/1849-graphs/graph-group-7.yaml',\n",
       " '/media/storage/expipe/septum-mec/actions/identify-neurons/data/1849-graphs/graph-group-0.yaml',\n",
       " '/media/storage/expipe/septum-mec/actions/identify-neurons/data/1849-graphs/graph-group-6.yaml',\n",
       " '/media/storage/expipe/septum-mec/actions/identify-neurons/data/1849-graphs/graph-group-1.yaml',\n",
       " '/media/storage/expipe/septum-mec/actions/identify-neurons/data/1849-graphs/graph-group-2.yaml',\n",
       " '/media/storage/expipe/septum-mec/actions/identify-neurons/data/1849-graphs/graph-group-5.yaml',\n",
       " '/media/storage/expipe/septum-mec/actions/identify-neurons/data/1849-graphs/graph-group-3.yaml',\n",
       " '/media/storage/expipe/septum-mec/actions/identify-neurons/data/1849-graphs/graph-group-4.yaml',\n",
       " '/media/storage/expipe/septum-mec/actions/identify-neurons/data/units.csv',\n",
       " '/media/storage/expipe/septum-mec/actions/identify-neurons/data/1839-graphs/graph-group-7.yaml',\n",
       " '/media/storage/expipe/septum-mec/actions/identify-neurons/data/1839-graphs/graph-group-0.yaml',\n",
       " '/media/storage/expipe/septum-mec/actions/identify-neurons/data/1839-graphs/graph-group-6.yaml',\n",
       " '/media/storage/expipe/septum-mec/actions/identify-neurons/data/1839-graphs/graph-group-1.yaml',\n",
       " '/media/storage/expipe/septum-mec/actions/identify-neurons/data/1839-graphs/graph-group-2.yaml',\n",
       " '/media/storage/expipe/septum-mec/actions/identify-neurons/data/1839-graphs/graph-group-5.yaml',\n",
       " '/media/storage/expipe/septum-mec/actions/identify-neurons/data/1839-graphs/graph-group-3.yaml',\n",
       " '/media/storage/expipe/septum-mec/actions/identify-neurons/data/1839-graphs/graph-group-4.yaml',\n",
       " '/media/storage/expipe/septum-mec/actions/identify-neurons/data/1833-graphs/graph-group-7.yaml',\n",
       " '/media/storage/expipe/septum-mec/actions/identify-neurons/data/1833-graphs/graph-group-0.yaml',\n",
       " '/media/storage/expipe/septum-mec/actions/identify-neurons/data/1833-graphs/graph-group-6.yaml',\n",
       " '/media/storage/expipe/septum-mec/actions/identify-neurons/data/1833-graphs/graph-group-1.yaml',\n",
       " '/media/storage/expipe/septum-mec/actions/identify-neurons/data/1833-graphs/graph-group-2.yaml',\n",
       " '/media/storage/expipe/septum-mec/actions/identify-neurons/data/1833-graphs/graph-group-5.yaml',\n",
       " '/media/storage/expipe/septum-mec/actions/identify-neurons/data/1833-graphs/graph-group-3.yaml',\n",
       " '/media/storage/expipe/septum-mec/actions/identify-neurons/data/1833-graphs/graph-group-4.yaml',\n",
       " '/media/storage/expipe/septum-mec/actions/identify-neurons/data/1839-units.csv']"
      ]
     },
     "execution_count": 48,
     "metadata": {},
     "output_type": "execute_result"
    }
   ],
   "source": [
    "copy_tree(output, str(identify_neurons.data_path()))"
   ]
  },
  {
   "cell_type": "code",
   "execution_count": 96,
   "metadata": {},
   "outputs": [],
   "source": [
    "store_notebook(\n",
    "    identify_neurons, \"00-identify-neurons.ipynb\")"
   ]
  },
  {
   "cell_type": "code",
   "execution_count": null,
   "metadata": {},
   "outputs": [],
   "source": []
  }
 ],
 "metadata": {
  "kernelspec": {
   "display_name": "Python 3",
   "language": "python",
   "name": "python3"
  },
  "language_info": {
   "codemirror_mode": {
    "name": "ipython",
    "version": 3
   },
   "file_extension": ".py",
   "mimetype": "text/x-python",
   "name": "python",
   "nbconvert_exporter": "python",
   "pygments_lexer": "ipython3",
   "version": "3.6.10"
  }
 },
 "nbformat": 4,
 "nbformat_minor": 2
}
